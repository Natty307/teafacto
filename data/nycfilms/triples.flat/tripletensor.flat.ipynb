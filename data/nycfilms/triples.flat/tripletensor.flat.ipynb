{
 "cells": [
  {
   "cell_type": "code",
   "execution_count": 1,
   "metadata": {
    "collapsed": true
   },
   "outputs": [],
   "source": [
    "import pickle, pandas as pd, numpy as np, re"
   ]
  },
  {
   "cell_type": "code",
   "execution_count": 2,
   "metadata": {
    "collapsed": true
   },
   "outputs": [],
   "source": [
    "entdicf = \"entdic3hops.pkl\"\n",
    "reldicf = \"reldic3hops.pkl\"\n",
    "triplesf = \"triples3hops.pd.pkl\"\n",
    "allrelsf = \"allrel3hops.pd.pkl\"\n",
    "typesf = \"../dbpedia/dbpcore.nt.types.dok\"\n",
    "bigentdicf = \"../dbpedia/dbpcore.nt.entdic.ssd\"\n",
    "rhsdicf = \"rhsdic.pkl\"\n",
    "inclents = True"
   ]
  },
  {
   "cell_type": "code",
   "execution_count": 3,
   "metadata": {
    "collapsed": false
   },
   "outputs": [
    {
     "name": "stdout",
     "output_type": "stream",
     "text": [
      "big entity dict loaded\n"
     ]
    },
    {
     "data": {
      "text/plain": [
       "'bigreldic = loadDic(bigreldicf)\\nprint \"big relation dict loaded\"'"
      ]
     },
     "execution_count": 3,
     "metadata": {},
     "output_type": "execute_result"
    }
   ],
   "source": [
    "entdic = pickle.load(open(entdicf))\n",
    "reldic = pickle.load(open(reldicf))\n",
    "triples = pickle.load(open(triplesf))\n",
    "allrels = pickle.load(open(allrelsf))\n",
    "reventdic = {v: k for k, v in entdic.items()}\n",
    "# load dictionaries\n",
    "def loadDic(entdicf):\n",
    "    entdic = {}\n",
    "    for line in open(entdicf):\n",
    "        splits = line.split(\" \")\n",
    "        entdic[splits[0]] = int(splits[1])\n",
    "    return entdic\n",
    "\n",
    "# load big dictionaries\n",
    "bigentdic = loadDic(bigentdicf)\n",
    "print \"big entity dict loaded\"\n",
    "'''bigreldic = loadDic(bigreldicf)\n",
    "print \"big relation dict loaded\"'''"
   ]
  },
  {
   "cell_type": "code",
   "execution_count": 4,
   "metadata": {
    "collapsed": true
   },
   "outputs": [],
   "source": [
    "reventdic = dict([(v, k) for k, v in entdic.items()])\n",
    "revreldic = dict({(v, k) for k, v in reldic.items()})"
   ]
  },
  {
   "cell_type": "markdown",
   "metadata": {},
   "source": [
    "# Triples"
   ]
  },
  {
   "cell_type": "code",
   "execution_count": 6,
   "metadata": {
    "collapsed": false
   },
   "outputs": [
    {
     "data": {
      "text/plain": [
       "11298"
      ]
     },
     "execution_count": 6,
     "metadata": {},
     "output_type": "execute_result"
    }
   ],
   "source": [
    "len(set(triples[\"s\"]).union(set(triples[\"o\"]))) # number of unique entities"
   ]
  },
  {
   "cell_type": "code",
   "execution_count": 7,
   "metadata": {
    "collapsed": true
   },
   "outputs": [],
   "source": [
    "transentdic = dict(zip(set(triples[\"s\"]).union(set(triples[\"o\"])), range(len(set(triples[\"s\"]).union(set(triples[\"o\"]))))))\n",
    "transreldic = dict(zip(set(triples[\"r\"]), map(lambda x: x+len(transentdic), range(len(set(triples[\"r\"]))))))"
   ]
  },
  {
   "cell_type": "code",
   "execution_count": 8,
   "metadata": {
    "collapsed": true
   },
   "outputs": [],
   "source": [
    "revtransentdic = {v: k for k, v in transentdic.items()}\n",
    "revtransreldic = {v: k for k, v in transreldic.items()}"
   ]
  },
  {
   "cell_type": "code",
   "execution_count": 9,
   "metadata": {
    "collapsed": false
   },
   "outputs": [
    {
     "name": "stdout",
     "output_type": "stream",
     "text": [
      "set([])\n"
     ]
    }
   ],
   "source": [
    "print set(revtransentdic.keys()).intersection(set(revtransreldic.keys())) # should be empty"
   ]
  },
  {
   "cell_type": "code",
   "execution_count": 10,
   "metadata": {
    "collapsed": true
   },
   "outputs": [],
   "source": [
    "revnewentdic = {k: reventdic[v] for k, v in revtransentdic.items()}\n",
    "revnewreldic = {k: revreldic[v] for k, v in revtransreldic.items()}\n",
    "invoffset = len(revnewreldic.keys())\n",
    "revnewinvreldic = {k+invoffset: \"-\"+v for k, v in revnewreldic.items()}\n",
    "revnewreldic.update(revnewinvreldic)\n",
    "revnewdic = revnewentdic.copy()\n",
    "revnewdic.update(revnewreldic)\n",
    "newdic = {v: k for k, v in revnewdic.items()}"
   ]
  },
  {
   "cell_type": "code",
   "execution_count": 11,
   "metadata": {
    "collapsed": false
   },
   "outputs": [
    {
     "data": {
      "text/plain": [
       "11310"
      ]
     },
     "execution_count": 11,
     "metadata": {},
     "output_type": "execute_result"
    }
   ],
   "source": [
    "newdic['-http://dbpedia.org/ontology/location']"
   ]
  },
  {
   "cell_type": "code",
   "execution_count": 13,
   "metadata": {
    "collapsed": true
   },
   "outputs": [],
   "source": [
    "newtriples = pd.DataFrame([triples[\"s\"].map(lambda x: transentdic[x]), triples[\"r\"].map(lambda x: transreldic[x]), triples[\"o\"].map(lambda x: transentdic[x])])\n",
    "newtriples = newtriples.T"
   ]
  },
  {
   "cell_type": "code",
   "execution_count": 14,
   "metadata": {
    "collapsed": true
   },
   "outputs": [],
   "source": [
    "#newtriples"
   ]
  },
  {
   "cell_type": "code",
   "execution_count": 15,
   "metadata": {
    "collapsed": true
   },
   "outputs": [],
   "source": [
    "newinvtriples = pd.DataFrame([newtriples[\"o\"], newtriples[\"r\"].map(lambda x: x+invoffset), newtriples[\"s\"]]).T"
   ]
  },
  {
   "cell_type": "code",
   "execution_count": 16,
   "metadata": {
    "collapsed": true
   },
   "outputs": [],
   "source": [
    "newinvtriples.columns = [\"s\",\"r\",\"o\"]"
   ]
  },
  {
   "cell_type": "code",
   "execution_count": 19,
   "metadata": {
    "collapsed": true
   },
   "outputs": [],
   "source": [
    "# some dictionary checks\n",
    "newtriples.apply(lambda x: x.map(lambda y: revnewdic[y]))\n",
    "triples.apply(lambda x: x.map(lambda y: reventdic[y] if x.name != \"r\" else revreldic[y]))\n",
    "pass"
   ]
  },
  {
   "cell_type": "code",
   "execution_count": 29,
   "metadata": {
    "collapsed": false
   },
   "outputs": [],
   "source": [
    "# reverse triples and include\n",
    "alltriples = pd.concat([newtriples, newinvtriples]).reset_index(drop=True)\n",
    "#alltriples"
   ]
  },
  {
   "cell_type": "code",
   "execution_count": 21,
   "metadata": {
    "collapsed": true
   },
   "outputs": [],
   "source": [
    "# saving triple tensor:\n",
    "pickle.dump(newdic, open(\"tripletensor.flatidx.pkl\",\"w\"))\n",
    "with open(\"tripletensor.flat.ssd\", \"w\") as f:\n",
    "    for _, row in newtriples.iterrows():\n",
    "        f.write(\"%d %d %d 1.000\\n\" % (row[\"s\"], row[\"r\"], row[\"o\"]))\n",
    "with open(\"alltripletensor.flat.ssd\", \"w\") as f:\n",
    "    for _, row in alltriples.iterrows():\n",
    "        f.write(\"%d %d %d 1.000\\n\" % (row[\"s\"], row[\"r\"], row[\"o\"]))"
   ]
  },
  {
   "cell_type": "markdown",
   "metadata": {},
   "source": [
    "## Train/Test"
   ]
  },
  {
   "cell_type": "code",
   "execution_count": 26,
   "metadata": {
    "collapsed": true
   },
   "outputs": [],
   "source": [
    "# split alltriples edges to train and test edges\n",
    "import math\n",
    "split = 0.1\n",
    "splitidxs = range(alltriples.shape[0])\n",
    "np.random.shuffle(splitidxs)\n",
    "splitpoint = int(math.ceil(alltriples.shape[0] * (1 - split)))\n",
    "alltriples_train = alltriples.iloc[splitidxs[:splitpoint]].sort_index()\n",
    "alltriples_test = alltriples.iloc[splitidxs[splitpoint:]].sort_index()"
   ]
  },
  {
   "cell_type": "code",
   "execution_count": 27,
   "metadata": {
    "collapsed": false
   },
   "outputs": [],
   "source": [
    "# save\n",
    "with open(\"alltripletensor.train.flat.ssd\", \"w\") as f:\n",
    "    for _, row in alltriples_train.iterrows():\n",
    "        f.write(\"%d %d %d 1.000\\n\" % (row[\"s\"], row[\"r\"], row[\"o\"]))\n",
    "with open(\"alltripletensor.test.flat.ssd\", \"w\") as f:\n",
    "    for _, row in alltriples_test.iterrows():\n",
    "        f.write(\"%d %d %d 1.000\\n\" % (row[\"s\"], row[\"r\"], row[\"o\"]))"
   ]
  },
  {
   "cell_type": "markdown",
   "metadata": {},
   "source": [
    "# Compat"
   ]
  },
  {
   "cell_type": "code",
   "execution_count": 40,
   "metadata": {
    "collapsed": false
   },
   "outputs": [],
   "source": [
    "allcompat = alltriples[[\"s\", \"r\"]].drop_duplicates().reset_index(drop=True)"
   ]
  },
  {
   "cell_type": "code",
   "execution_count": 45,
   "metadata": {
    "collapsed": false
   },
   "outputs": [
    {
     "data": {
      "text/plain": [
       "11298"
      ]
     },
     "execution_count": 45,
     "metadata": {},
     "output_type": "execute_result"
    }
   ],
   "source": [
    "reloffset = min(set(allcompat[\"r\"]))\n",
    "reloffset"
   ]
  },
  {
   "cell_type": "code",
   "execution_count": 50,
   "metadata": {
    "collapsed": true
   },
   "outputs": [],
   "source": [
    "# reindex\n",
    "compatreldic = dict(map(lambda x: (revnewdic[x], x-reloffset), set(allcompat[\"r\"])))\n",
    "allcompat[\"r\"] = allcompat[\"r\"] - reloffset"
   ]
  },
  {
   "cell_type": "code",
   "execution_count": 52,
   "metadata": {
    "collapsed": false
   },
   "outputs": [],
   "source": [
    "allcompat_train = alltriples_train[[\"s\", \"r\"]].drop_duplicates().reset_index(drop=True)\n",
    "allcompat_test =  alltriples_test[[\"s\", \"r\"]].drop_duplicates().reset_index(drop=True)\n",
    "allcompat_train[\"r\"] = allcompat_train[\"r\"] - reloffset\n",
    "allcompat_test[\"r\"] = allcompat_test[\"r\"] - reloffset"
   ]
  },
  {
   "cell_type": "code",
   "execution_count": 54,
   "metadata": {
    "collapsed": false
   },
   "outputs": [],
   "source": [
    "# save\n",
    "pickle.dump(compatreldic, open(\"compatreldic.flatidx.pkl\",\"w\"))\n",
    "with open(\"allcompat.flat.ssd\", \"w\") as f:\n",
    "    for _, row in allcompat.iterrows():\n",
    "        f.write(\"%d %d 1.000\\n\" % (row[\"s\"], row[\"r\"]))\n",
    "with open(\"allcompat.train.flat.ssd\", \"w\") as f:\n",
    "    for _, row in allcompat_train.iterrows():\n",
    "        f.write(\"%d %d 1.000\\n\" % (row[\"s\"], row[\"r\"]))\n",
    "with open(\"allcompat.test.flat.ssd\", \"w\") as f:\n",
    "    for _, row in allcompat_test.iterrows():\n",
    "        f.write(\"%d %d 1.000\\n\" % (row[\"s\"], row[\"r\"]))"
   ]
  },
  {
   "cell_type": "code",
   "execution_count": null,
   "metadata": {
    "collapsed": true
   },
   "outputs": [],
   "source": []
  }
 ],
 "metadata": {
  "kernelspec": {
   "display_name": "Python 2",
   "language": "python",
   "name": "python2"
  },
  "language_info": {
   "codemirror_mode": {
    "name": "ipython",
    "version": 2
   },
   "file_extension": ".py",
   "mimetype": "text/x-python",
   "name": "python",
   "nbconvert_exporter": "python",
   "pygments_lexer": "ipython2",
   "version": "2.7.6"
  }
 },
 "nbformat": 4,
 "nbformat_minor": 0
}
