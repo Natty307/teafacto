{
 "cells": [
  {
   "cell_type": "code",
   "execution_count": 2,
   "metadata": {
    "collapsed": true
   },
   "outputs": [],
   "source": [
    "import pickle, pandas as pd, numpy as np, re"
   ]
  },
  {
   "cell_type": "code",
   "execution_count": 3,
   "metadata": {
    "collapsed": true
   },
   "outputs": [],
   "source": [
    "entdicf = \"entdic3hops.pkl\"\n",
    "reldicf = \"reldic3hops.pkl\"\n",
    "triplesf = \"triples3hops.pd.pkl\"\n",
    "allrelsf = \"allrel3hops.pd.pkl\"\n",
    "typesf = \"../dbpedia/dbpcore.nt.types.dok\"\n",
    "bigentdicf = \"../dbpedia/dbpcore.nt.entdic.ssd\"\n",
    "rhsdicf = \"rhsdic.pkl\"\n",
    "inclents = True"
   ]
  },
  {
   "cell_type": "code",
   "execution_count": 4,
   "metadata": {
    "collapsed": false
   },
   "outputs": [
    {
     "name": "stdout",
     "output_type": "stream",
     "text": [
      "big entity dict loaded\n"
     ]
    },
    {
     "data": {
      "text/plain": [
       "'bigreldic = loadDic(bigreldicf)\\nprint \"big relation dict loaded\"'"
      ]
     },
     "execution_count": 4,
     "metadata": {},
     "output_type": "execute_result"
    }
   ],
   "source": [
    "entdic = pickle.load(open(entdicf))\n",
    "reldic = pickle.load(open(reldicf))\n",
    "triples = pickle.load(open(triplesf))\n",
    "allrels = pickle.load(open(allrelsf))\n",
    "reventdic = {v: k for k, v in entdic.items()}\n",
    "# load dictionaries\n",
    "def loadDic(entdicf):\n",
    "    entdic = {}\n",
    "    for line in open(entdicf):\n",
    "        splits = line.split(\" \")\n",
    "        entdic[splits[0]] = int(splits[1])\n",
    "    return entdic\n",
    "\n",
    "# load big dictionaries\n",
    "bigentdic = loadDic(bigentdicf)\n",
    "print \"big entity dict loaded\"\n",
    "'''bigreldic = loadDic(bigreldicf)\n",
    "print \"big relation dict loaded\"'''"
   ]
  },
  {
   "cell_type": "code",
   "execution_count": 5,
   "metadata": {
    "collapsed": true
   },
   "outputs": [],
   "source": [
    "reventdic = dict([(v, k) for k, v in entdic.items()])\n",
    "revreldic = dict({(v, k) for k, v in reldic.items()})"
   ]
  },
  {
   "cell_type": "code",
   "execution_count": 6,
   "metadata": {
    "collapsed": false
   },
   "outputs": [
    {
     "data": {
      "text/html": [
       "<div>\n",
       "<table border=\"1\" class=\"dataframe\">\n",
       "  <thead>\n",
       "    <tr style=\"text-align: right;\">\n",
       "      <th></th>\n",
       "      <th>s</th>\n",
       "      <th>r</th>\n",
       "      <th>o</th>\n",
       "    </tr>\n",
       "  </thead>\n",
       "  <tbody>\n",
       "    <tr>\n",
       "      <th>0</th>\n",
       "      <td>417</td>\n",
       "      <td>31</td>\n",
       "      <td>9145</td>\n",
       "    </tr>\n",
       "    <tr>\n",
       "      <th>1</th>\n",
       "      <td>417</td>\n",
       "      <td>26</td>\n",
       "      <td>9145</td>\n",
       "    </tr>\n",
       "    <tr>\n",
       "      <th>2</th>\n",
       "      <td>417</td>\n",
       "      <td>14</td>\n",
       "      <td>1187</td>\n",
       "    </tr>\n",
       "    <tr>\n",
       "      <th>3</th>\n",
       "      <td>417</td>\n",
       "      <td>14</td>\n",
       "      <td>6404</td>\n",
       "    </tr>\n",
       "    <tr>\n",
       "      <th>4</th>\n",
       "      <td>417</td>\n",
       "      <td>14</td>\n",
       "      <td>8790</td>\n",
       "    </tr>\n",
       "    <tr>\n",
       "      <th>5</th>\n",
       "      <td>417</td>\n",
       "      <td>14</td>\n",
       "      <td>6679</td>\n",
       "    </tr>\n",
       "    <tr>\n",
       "      <th>6</th>\n",
       "      <td>417</td>\n",
       "      <td>14</td>\n",
       "      <td>8714</td>\n",
       "    </tr>\n",
       "    <tr>\n",
       "      <th>7</th>\n",
       "      <td>417</td>\n",
       "      <td>14</td>\n",
       "      <td>3510</td>\n",
       "    </tr>\n",
       "    <tr>\n",
       "      <th>8</th>\n",
       "      <td>417</td>\n",
       "      <td>14</td>\n",
       "      <td>114</td>\n",
       "    </tr>\n",
       "    <tr>\n",
       "      <th>9</th>\n",
       "      <td>417</td>\n",
       "      <td>14</td>\n",
       "      <td>7173</td>\n",
       "    </tr>\n",
       "    <tr>\n",
       "      <th>10</th>\n",
       "      <td>417</td>\n",
       "      <td>14</td>\n",
       "      <td>18</td>\n",
       "    </tr>\n",
       "    <tr>\n",
       "      <th>11</th>\n",
       "      <td>417</td>\n",
       "      <td>14</td>\n",
       "      <td>3260</td>\n",
       "    </tr>\n",
       "    <tr>\n",
       "      <th>12</th>\n",
       "      <td>417</td>\n",
       "      <td>56</td>\n",
       "      <td>1542</td>\n",
       "    </tr>\n",
       "    <tr>\n",
       "      <th>13</th>\n",
       "      <td>417</td>\n",
       "      <td>90</td>\n",
       "      <td>9440</td>\n",
       "    </tr>\n",
       "    <tr>\n",
       "      <th>14</th>\n",
       "      <td>417</td>\n",
       "      <td>75</td>\n",
       "      <td>8471</td>\n",
       "    </tr>\n",
       "    <tr>\n",
       "      <th>15</th>\n",
       "      <td>3778</td>\n",
       "      <td>31</td>\n",
       "      <td>338</td>\n",
       "    </tr>\n",
       "    <tr>\n",
       "      <th>16</th>\n",
       "      <td>3778</td>\n",
       "      <td>26</td>\n",
       "      <td>9587</td>\n",
       "    </tr>\n",
       "    <tr>\n",
       "      <th>17</th>\n",
       "      <td>3778</td>\n",
       "      <td>14</td>\n",
       "      <td>4214</td>\n",
       "    </tr>\n",
       "    <tr>\n",
       "      <th>18</th>\n",
       "      <td>3778</td>\n",
       "      <td>14</td>\n",
       "      <td>4366</td>\n",
       "    </tr>\n",
       "    <tr>\n",
       "      <th>19</th>\n",
       "      <td>3778</td>\n",
       "      <td>14</td>\n",
       "      <td>943</td>\n",
       "    </tr>\n",
       "    <tr>\n",
       "      <th>20</th>\n",
       "      <td>3778</td>\n",
       "      <td>14</td>\n",
       "      <td>4680</td>\n",
       "    </tr>\n",
       "    <tr>\n",
       "      <th>21</th>\n",
       "      <td>3778</td>\n",
       "      <td>56</td>\n",
       "      <td>7407</td>\n",
       "    </tr>\n",
       "    <tr>\n",
       "      <th>22</th>\n",
       "      <td>3778</td>\n",
       "      <td>75</td>\n",
       "      <td>7300</td>\n",
       "    </tr>\n",
       "    <tr>\n",
       "      <th>23</th>\n",
       "      <td>709</td>\n",
       "      <td>31</td>\n",
       "      <td>3621</td>\n",
       "    </tr>\n",
       "    <tr>\n",
       "      <th>24</th>\n",
       "      <td>709</td>\n",
       "      <td>26</td>\n",
       "      <td>1414</td>\n",
       "    </tr>\n",
       "    <tr>\n",
       "      <th>25</th>\n",
       "      <td>709</td>\n",
       "      <td>26</td>\n",
       "      <td>1241</td>\n",
       "    </tr>\n",
       "    <tr>\n",
       "      <th>26</th>\n",
       "      <td>709</td>\n",
       "      <td>14</td>\n",
       "      <td>4373</td>\n",
       "    </tr>\n",
       "    <tr>\n",
       "      <th>27</th>\n",
       "      <td>709</td>\n",
       "      <td>14</td>\n",
       "      <td>1389</td>\n",
       "    </tr>\n",
       "    <tr>\n",
       "      <th>28</th>\n",
       "      <td>709</td>\n",
       "      <td>14</td>\n",
       "      <td>1362</td>\n",
       "    </tr>\n",
       "    <tr>\n",
       "      <th>29</th>\n",
       "      <td>709</td>\n",
       "      <td>14</td>\n",
       "      <td>413</td>\n",
       "    </tr>\n",
       "    <tr>\n",
       "      <th>...</th>\n",
       "      <td>...</td>\n",
       "      <td>...</td>\n",
       "      <td>...</td>\n",
       "    </tr>\n",
       "    <tr>\n",
       "      <th>34552</th>\n",
       "      <td>10741</td>\n",
       "      <td>4</td>\n",
       "      <td>1234</td>\n",
       "    </tr>\n",
       "    <tr>\n",
       "      <th>34553</th>\n",
       "      <td>10741</td>\n",
       "      <td>4</td>\n",
       "      <td>679</td>\n",
       "    </tr>\n",
       "    <tr>\n",
       "      <th>34554</th>\n",
       "      <td>3888</td>\n",
       "      <td>4</td>\n",
       "      <td>10839</td>\n",
       "    </tr>\n",
       "    <tr>\n",
       "      <th>34555</th>\n",
       "      <td>7710</td>\n",
       "      <td>4</td>\n",
       "      <td>6746</td>\n",
       "    </tr>\n",
       "    <tr>\n",
       "      <th>34556</th>\n",
       "      <td>10650</td>\n",
       "      <td>4</td>\n",
       "      <td>8323</td>\n",
       "    </tr>\n",
       "    <tr>\n",
       "      <th>34557</th>\n",
       "      <td>747</td>\n",
       "      <td>4</td>\n",
       "      <td>1831</td>\n",
       "    </tr>\n",
       "    <tr>\n",
       "      <th>34558</th>\n",
       "      <td>5831</td>\n",
       "      <td>4</td>\n",
       "      <td>1339</td>\n",
       "    </tr>\n",
       "    <tr>\n",
       "      <th>34559</th>\n",
       "      <td>9090</td>\n",
       "      <td>4</td>\n",
       "      <td>7911</td>\n",
       "    </tr>\n",
       "    <tr>\n",
       "      <th>34560</th>\n",
       "      <td>9090</td>\n",
       "      <td>4</td>\n",
       "      <td>3029</td>\n",
       "    </tr>\n",
       "    <tr>\n",
       "      <th>34561</th>\n",
       "      <td>9090</td>\n",
       "      <td>4</td>\n",
       "      <td>1400</td>\n",
       "    </tr>\n",
       "    <tr>\n",
       "      <th>34562</th>\n",
       "      <td>9090</td>\n",
       "      <td>4</td>\n",
       "      <td>10839</td>\n",
       "    </tr>\n",
       "    <tr>\n",
       "      <th>34563</th>\n",
       "      <td>1402</td>\n",
       "      <td>4</td>\n",
       "      <td>10839</td>\n",
       "    </tr>\n",
       "    <tr>\n",
       "      <th>34564</th>\n",
       "      <td>7924</td>\n",
       "      <td>4</td>\n",
       "      <td>10998</td>\n",
       "    </tr>\n",
       "    <tr>\n",
       "      <th>34565</th>\n",
       "      <td>8020</td>\n",
       "      <td>4</td>\n",
       "      <td>10839</td>\n",
       "    </tr>\n",
       "    <tr>\n",
       "      <th>34566</th>\n",
       "      <td>2135</td>\n",
       "      <td>4</td>\n",
       "      <td>10839</td>\n",
       "    </tr>\n",
       "    <tr>\n",
       "      <th>34567</th>\n",
       "      <td>2198</td>\n",
       "      <td>4</td>\n",
       "      <td>2680</td>\n",
       "    </tr>\n",
       "    <tr>\n",
       "      <th>34568</th>\n",
       "      <td>2198</td>\n",
       "      <td>4</td>\n",
       "      <td>1065</td>\n",
       "    </tr>\n",
       "    <tr>\n",
       "      <th>34569</th>\n",
       "      <td>6576</td>\n",
       "      <td>4</td>\n",
       "      <td>8288</td>\n",
       "    </tr>\n",
       "    <tr>\n",
       "      <th>34570</th>\n",
       "      <td>2552</td>\n",
       "      <td>4</td>\n",
       "      <td>5257</td>\n",
       "    </tr>\n",
       "    <tr>\n",
       "      <th>34571</th>\n",
       "      <td>7889</td>\n",
       "      <td>4</td>\n",
       "      <td>5397</td>\n",
       "    </tr>\n",
       "    <tr>\n",
       "      <th>34572</th>\n",
       "      <td>7889</td>\n",
       "      <td>4</td>\n",
       "      <td>2623</td>\n",
       "    </tr>\n",
       "    <tr>\n",
       "      <th>34573</th>\n",
       "      <td>8807</td>\n",
       "      <td>4</td>\n",
       "      <td>3742</td>\n",
       "    </tr>\n",
       "    <tr>\n",
       "      <th>34574</th>\n",
       "      <td>142</td>\n",
       "      <td>4</td>\n",
       "      <td>8506</td>\n",
       "    </tr>\n",
       "    <tr>\n",
       "      <th>34575</th>\n",
       "      <td>11250</td>\n",
       "      <td>4</td>\n",
       "      <td>2765</td>\n",
       "    </tr>\n",
       "    <tr>\n",
       "      <th>34576</th>\n",
       "      <td>11250</td>\n",
       "      <td>4</td>\n",
       "      <td>5744</td>\n",
       "    </tr>\n",
       "    <tr>\n",
       "      <th>34577</th>\n",
       "      <td>4821</td>\n",
       "      <td>4</td>\n",
       "      <td>1431</td>\n",
       "    </tr>\n",
       "    <tr>\n",
       "      <th>34578</th>\n",
       "      <td>4821</td>\n",
       "      <td>4</td>\n",
       "      <td>10948</td>\n",
       "    </tr>\n",
       "    <tr>\n",
       "      <th>34579</th>\n",
       "      <td>4644</td>\n",
       "      <td>4</td>\n",
       "      <td>8323</td>\n",
       "    </tr>\n",
       "    <tr>\n",
       "      <th>34580</th>\n",
       "      <td>10850</td>\n",
       "      <td>4</td>\n",
       "      <td>2400</td>\n",
       "    </tr>\n",
       "    <tr>\n",
       "      <th>34581</th>\n",
       "      <td>11011</td>\n",
       "      <td>4</td>\n",
       "      <td>1249</td>\n",
       "    </tr>\n",
       "  </tbody>\n",
       "</table>\n",
       "<p>34582 rows × 3 columns</p>\n",
       "</div>"
      ],
      "text/plain": [
       "           s   r      o\n",
       "0        417  31   9145\n",
       "1        417  26   9145\n",
       "2        417  14   1187\n",
       "3        417  14   6404\n",
       "4        417  14   8790\n",
       "5        417  14   6679\n",
       "6        417  14   8714\n",
       "7        417  14   3510\n",
       "8        417  14    114\n",
       "9        417  14   7173\n",
       "10       417  14     18\n",
       "11       417  14   3260\n",
       "12       417  56   1542\n",
       "13       417  90   9440\n",
       "14       417  75   8471\n",
       "15      3778  31    338\n",
       "16      3778  26   9587\n",
       "17      3778  14   4214\n",
       "18      3778  14   4366\n",
       "19      3778  14    943\n",
       "20      3778  14   4680\n",
       "21      3778  56   7407\n",
       "22      3778  75   7300\n",
       "23       709  31   3621\n",
       "24       709  26   1414\n",
       "25       709  26   1241\n",
       "26       709  14   4373\n",
       "27       709  14   1389\n",
       "28       709  14   1362\n",
       "29       709  14    413\n",
       "...      ...  ..    ...\n",
       "34552  10741   4   1234\n",
       "34553  10741   4    679\n",
       "34554   3888   4  10839\n",
       "34555   7710   4   6746\n",
       "34556  10650   4   8323\n",
       "34557    747   4   1831\n",
       "34558   5831   4   1339\n",
       "34559   9090   4   7911\n",
       "34560   9090   4   3029\n",
       "34561   9090   4   1400\n",
       "34562   9090   4  10839\n",
       "34563   1402   4  10839\n",
       "34564   7924   4  10998\n",
       "34565   8020   4  10839\n",
       "34566   2135   4  10839\n",
       "34567   2198   4   2680\n",
       "34568   2198   4   1065\n",
       "34569   6576   4   8288\n",
       "34570   2552   4   5257\n",
       "34571   7889   4   5397\n",
       "34572   7889   4   2623\n",
       "34573   8807   4   3742\n",
       "34574    142   4   8506\n",
       "34575  11250   4   2765\n",
       "34576  11250   4   5744\n",
       "34577   4821   4   1431\n",
       "34578   4821   4  10948\n",
       "34579   4644   4   8323\n",
       "34580  10850   4   2400\n",
       "34581  11011   4   1249\n",
       "\n",
       "[34582 rows x 3 columns]"
      ]
     },
     "execution_count": 6,
     "metadata": {},
     "output_type": "execute_result"
    }
   ],
   "source": [
    "triples"
   ]
  },
  {
   "cell_type": "code",
   "execution_count": null,
   "metadata": {
    "collapsed": true
   },
   "outputs": [],
   "source": []
  },
  {
   "cell_type": "code",
   "execution_count": 7,
   "metadata": {
    "collapsed": true
   },
   "outputs": [],
   "source": [
    "def getreconstr(reventdic, revreldic):\n",
    "    def reconstr(row):\n",
    "        return reventdic[row.s], revreldic[row.r], reventdic[row.o]\n",
    "    return reconstr\n",
    "def checkslice(reventdic, revreldic):\n",
    "    def inner(tslice):\n",
    "        recon = getreconstr(reventdic, revreldic)\n",
    "        for row in tslice.iterrows():\n",
    "            print recon(row[1])\n",
    "    return inner"
   ]
  },
  {
   "cell_type": "code",
   "execution_count": 8,
   "metadata": {
    "collapsed": false
   },
   "outputs": [
    {
     "name": "stdout",
     "output_type": "stream",
     "text": [
      "('http://dbpedia.org/resource/Citizen_Kane', 'http://dbpedia.org/ontology/director', 'http://dbpedia.org/resource/Orson_Welles')\n",
      "('http://dbpedia.org/resource/Citizen_Kane', 'http://dbpedia.org/ontology/producer', 'http://dbpedia.org/resource/Orson_Welles')\n",
      "('http://dbpedia.org/resource/Citizen_Kane', 'http://dbpedia.org/ontology/starring', 'http://dbpedia.org/resource/Joseph_Cotten')\n",
      "('http://dbpedia.org/resource/Citizen_Kane', 'http://dbpedia.org/ontology/starring', 'http://dbpedia.org/resource/Dorothy_Comingore')\n",
      "('http://dbpedia.org/resource/Citizen_Kane', 'http://dbpedia.org/ontology/starring', 'http://dbpedia.org/resource/Everett_Sloane')\n",
      "('http://dbpedia.org/resource/Citizen_Kane', 'http://dbpedia.org/ontology/starring', 'http://dbpedia.org/resource/Ray_Collins_(actor)')\n",
      "('http://dbpedia.org/resource/Citizen_Kane', 'http://dbpedia.org/ontology/starring', 'http://dbpedia.org/resource/George_Coulouris')\n",
      "('http://dbpedia.org/resource/Citizen_Kane', 'http://dbpedia.org/ontology/starring', 'http://dbpedia.org/resource/Agnes_Moorehead')\n",
      "('http://dbpedia.org/resource/Citizen_Kane', 'http://dbpedia.org/ontology/starring', 'http://dbpedia.org/resource/Paul_Stewart_(actor)')\n",
      "('http://dbpedia.org/resource/Citizen_Kane', 'http://dbpedia.org/ontology/starring', 'http://dbpedia.org/resource/Ruth_Warrick')\n",
      "('http://dbpedia.org/resource/Citizen_Kane', 'http://dbpedia.org/ontology/starring', 'http://dbpedia.org/resource/Erskine_Sanford')\n",
      "('http://dbpedia.org/resource/Citizen_Kane', 'http://dbpedia.org/ontology/starring', 'http://dbpedia.org/resource/William_Alland')\n",
      "('http://dbpedia.org/resource/Citizen_Kane', 'http://dbpedia.org/ontology/musicComposer', 'http://dbpedia.org/resource/Bernard_Herrmann')\n",
      "('http://dbpedia.org/resource/Citizen_Kane', 'http://dbpedia.org/ontology/cinematography', 'http://dbpedia.org/resource/Gregg_Toland')\n",
      "('http://dbpedia.org/resource/Citizen_Kane', 'http://dbpedia.org/ontology/distributor', 'http://dbpedia.org/resource/RKO_Pictures')\n"
     ]
    }
   ],
   "source": [
    "tslice = triples[0:15]\n",
    "checkslice(reventdic, revreldic)(tslice)"
   ]
  },
  {
   "cell_type": "code",
   "execution_count": null,
   "metadata": {
    "collapsed": true
   },
   "outputs": [],
   "source": []
  },
  {
   "cell_type": "code",
   "execution_count": null,
   "metadata": {
    "collapsed": true
   },
   "outputs": [],
   "source": []
  },
  {
   "cell_type": "code",
   "execution_count": null,
   "metadata": {
    "collapsed": true
   },
   "outputs": [],
   "source": []
  },
  {
   "cell_type": "code",
   "execution_count": null,
   "metadata": {
    "collapsed": true
   },
   "outputs": [],
   "source": []
  },
  {
   "cell_type": "markdown",
   "metadata": {},
   "source": [
    "## TYPES"
   ]
  },
  {
   "cell_type": "code",
   "execution_count": 9,
   "metadata": {
    "collapsed": false
   },
   "outputs": [
    {
     "name": "stdout",
     "output_type": "stream",
     "text": [
      "1000000\n",
      "2000000\n",
      "3000000\n",
      "4000000\n",
      "5000000\n",
      "6000000\n",
      "7000000\n"
     ]
    }
   ],
   "source": [
    "# TYPES\n",
    "allents = entdic.keys()\n",
    "allentbidxs = set(map(lambda x: bigentdic[x], allents))\n",
    "# go through the types file\n",
    "enttypes = {}\n",
    "c = 0\n",
    "typesused = set()\n",
    "for line in open(typesf):\n",
    "    c += 1\n",
    "    if c % 1000000 == 0:\n",
    "        print c\n",
    "    ns = [int(x) for x in line.split(\" \")]\n",
    "    if len(ns) == 2 and ns[0] in allentbidxs:\n",
    "        if ns[0] not in enttypes:\n",
    "            enttypes[ns[0]] = set()\n",
    "        enttypes[ns[0]].add(ns[1])\n",
    "        typesused.add(ns[1])\n",
    "revbigentdic = {v: k for k, v in bigentdic.items()}"
   ]
  },
  {
   "cell_type": "code",
   "execution_count": 10,
   "metadata": {
    "collapsed": true
   },
   "outputs": [],
   "source": [
    "ntypesused = map(lambda x: revbigentdic[x], typesused)\n",
    "ntypesused = sorted(ntypesused)\n",
    "#ntypesidx = range(max(newreldic.values()) + 1, max(newreldic.values()) + 1 + len(ntypesused))\n",
    "ntypesidx = range(len(ntypesused))\n",
    "typdic = dict(zip(ntypesused, ntypesidx))\n",
    "revtypdic = dict([(v, k) for k, v in typdic.items()])"
   ]
  },
  {
   "cell_type": "code",
   "execution_count": 11,
   "metadata": {
    "collapsed": true
   },
   "outputs": [],
   "source": [
    "def maketypelist(enttypes):\n",
    "    for et in enttypes.items():\n",
    "        for v in et[1]:\n",
    "            yield (et[0], v)\n",
    "\n",
    "nenttypes = [i for i in maketypelist(enttypes)]\n",
    "enttypesdf = pd.DataFrame(nenttypes)\n",
    "enttypesdf.columns = [\"e\", \"t\"]\n",
    "enttypesdf[\"e\"] = enttypesdf[\"e\"].map(lambda x: entdic[revbigentdic[x]])\n",
    "enttypesdf[\"t\"] = enttypesdf[\"t\"].map(lambda x: typdic[revbigentdic[x]])"
   ]
  },
  {
   "cell_type": "code",
   "execution_count": 12,
   "metadata": {
    "collapsed": false
   },
   "outputs": [
    {
     "name": "stdout",
     "output_type": "stream",
     "text": [
      "[0, 1, 2, 3, 4, 5, 6, 7, 8, 9, 10, 11, 12, 13, 14, 15, 16, 17, 18, 19, 20, 21, 22, 23, 24, 25, 26, 27, 28, 29, 30, 31, 32, 33, 34, 35, 36, 37, 38, 39, 40, 41, 42, 43, 44, 45, 46, 47, 48, 49, 50, 51, 52, 53, 54, 55, 56, 57, 58, 59, 60, 61, 62, 63, 64, 65, 66, 67, 68, 69, 70, 71, 72, 73, 74, 75, 76, 77, 78, 79, 80, 81, 82, 83, 84, 85, 86, 87, 88, 89, 90, 91, 92, 93, 94, 95, 96, 97, 98, 99, 100, 101, 102, 103, 104, 105, 106, 107, 108, 109, 110, 111, 112, 113, 114, 115, 116, 117, 118, 119, 120, 121, 122, 123, 124, 125, 126, 127, 128, 129]\n"
     ]
    },
    {
     "data": {
      "text/plain": [
       "('http://dbpedia.org/resource/Verona',\n",
       " 'http://dbpedia.org/ontology/Settlement')"
      ]
     },
     "execution_count": 12,
     "metadata": {},
     "output_type": "execute_result"
    }
   ],
   "source": [
    "fet = tuple(enttypesdf.iloc[500])\n",
    "print revtypdic.keys()\n",
    "reventdic[fet[0]], revtypdic[fet[1]]"
   ]
  },
  {
   "cell_type": "markdown",
   "metadata": {},
   "source": [
    "## BUILDING TENSOR"
   ]
  },
  {
   "cell_type": "code",
   "execution_count": 13,
   "metadata": {
    "collapsed": false
   },
   "outputs": [
    {
     "name": "stdout",
     "output_type": "stream",
     "text": [
      "[(0, 11297)]\n",
      "[(1, 500)]\n",
      "[(0, 129)]\n",
      "                  s             r             o\n",
      "count  34582.000000  34582.000000  34582.000000\n",
      "mean    5592.967324     17.638309   5100.189549\n",
      "std     3268.364253     27.972726   3544.182080\n",
      "min        1.000000      4.000000      0.000000\n",
      "25%     2757.000000      4.000000   1832.000000\n",
      "50%     5478.000000      4.000000   4398.000000\n",
      "75%     8455.000000     26.000000   8323.000000\n",
      "max    11297.000000    409.000000  11297.000000\n",
      "                  e             t\n",
      "count  24123.000000  24123.000000\n",
      "mean    5661.119471     84.923724\n",
      "std     3293.721605     38.582510\n",
      "min        0.000000      0.000000\n",
      "25%     2776.000000     58.000000\n",
      "50%     5660.000000     99.000000\n",
      "75%     8549.000000    129.000000\n",
      "max    11295.000000    129.000000\n",
      "                  e              r\n",
      "count  484893.00000  484893.000000\n",
      "mean     5470.54008     115.903591\n",
      "std      3240.65118     126.624463\n",
      "min         0.00000       1.000000\n",
      "25%      2661.00000      18.000000\n",
      "50%      5397.00000      65.000000\n",
      "75%      8287.00000     173.000000\n",
      "max     11297.00000     500.000000\n"
     ]
    }
   ],
   "source": [
    "# statistics of used variables\n",
    "def dicstats(x):\n",
    "    return min(x), max(x)\n",
    "print map(dicstats, [entdic.values()])\n",
    "print map(dicstats, [reldic.values()])\n",
    "print map(dicstats, [typdic.values()])\n",
    "\n",
    "print triples.describe()\n",
    "print enttypesdf.describe()\n",
    "print allrels.describe()"
   ]
  },
  {
   "cell_type": "markdown",
   "metadata": {},
   "source": [
    "### make new reldic that assign reverse relations in the same (extended) index space and reindex allrels.df"
   ]
  },
  {
   "cell_type": "code",
   "execution_count": 14,
   "metadata": {
    "collapsed": false
   },
   "outputs": [
    {
     "name": "stdout",
     "output_type": "stream",
     "text": [
      "501\n"
     ]
    }
   ],
   "source": [
    "# shift inverse\n",
    "maxid = max(reldic.values())+1\n",
    "print maxid\n",
    "newreldic = [(k, v) for k, v in reldic.items()]   # copy\n",
    "newreldic += [(\"-\"+k, v+maxid) for k, v in reldic.items()] # extend with inverse\n",
    "newreldic = dict(newreldic)"
   ]
  },
  {
   "cell_type": "code",
   "execution_count": 15,
   "metadata": {
    "collapsed": false
   },
   "outputs": [
    {
     "name": "stderr",
     "output_type": "stream",
     "text": [
      "/home/denis/dev/semdev/pandas/pandas/core/generic.py:2306: SettingWithCopyWarning: \n",
      "A value is trying to be set on a copy of a slice from a DataFrame.\n",
      "Try using .loc[row_indexer,col_indexer] = value instead\n",
      "\n",
      "See the caveats in the documentation: http://pandas.pydata.org/pandas-docs/stable/indexing.html#indexing-view-versus-copy\n",
      "  self[name] = value\n"
     ]
    }
   ],
   "source": [
    "# reindex inverse\n",
    "allrels\n",
    "allrelsnewinv = allrels[allrels.d == \"R\"]\n",
    "allrelsnewinv.r += maxid\n",
    "allrelsnew = pd.concat([allrels[allrels.d == \"F\"][[\"e\",\"r\"]], allrelsnewinv[[\"e\",\"r\"]]])"
   ]
  },
  {
   "cell_type": "code",
   "execution_count": 16,
   "metadata": {
    "collapsed": true
   },
   "outputs": [],
   "source": [
    "#allrelsnew"
   ]
  },
  {
   "cell_type": "code",
   "execution_count": 17,
   "metadata": {
    "collapsed": true
   },
   "outputs": [],
   "source": [
    "# shift after entities\n",
    "maxid = max(entdic.values())+1\n",
    "idxrelstart = maxid\n",
    "newreldicshift = {k: v+maxid for k, v in newreldic.items()}\n",
    "#reindex after entities\n",
    "allrelsnew.r += maxid"
   ]
  },
  {
   "cell_type": "code",
   "execution_count": 18,
   "metadata": {
    "collapsed": true
   },
   "outputs": [],
   "source": [
    "#allrelsnew"
   ]
  },
  {
   "cell_type": "code",
   "execution_count": 19,
   "metadata": {
    "collapsed": true
   },
   "outputs": [],
   "source": [
    "# shift type dic after entities and rels and reindex\n",
    "maxid = max(newreldicshift.values()) + 1\n",
    "idxtypstart = maxid\n",
    "newtypdicshift = {k: v + maxid for k, v in typdic.items()}\n",
    "newenttypshift = enttypesdf.copy()\n",
    "newenttypshift.t += maxid"
   ]
  },
  {
   "cell_type": "code",
   "execution_count": 20,
   "metadata": {
    "collapsed": true
   },
   "outputs": [],
   "source": [
    "revtypdicshift = {v: k for k, v in newtypdicshift.items()}\n",
    "\n",
    "tslice = newenttypshift[0:500]\n",
    "for _, row in tslice.iterrows():\n",
    "    pass\n",
    "    #print reventdic[row.e], revtypdicshift[row.t]"
   ]
  },
  {
   "cell_type": "code",
   "execution_count": 21,
   "metadata": {
    "collapsed": true
   },
   "outputs": [],
   "source": [
    "fulldic = entdic.copy()\n",
    "fulldic.update(newreldicshift)\n",
    "fulldic.update(newtypdicshift)"
   ]
  },
  {
   "cell_type": "code",
   "execution_count": 22,
   "metadata": {
    "collapsed": false
   },
   "outputs": [
    {
     "data": {
      "text/plain": [
       "(12428, 12428)"
      ]
     },
     "execution_count": 22,
     "metadata": {},
     "output_type": "execute_result"
    }
   ],
   "source": [
    "len(fulldic), len(entdic) + len(newreldicshift) + len(newtypdicshift)"
   ]
  },
  {
   "cell_type": "code",
   "execution_count": 23,
   "metadata": {
    "collapsed": true
   },
   "outputs": [],
   "source": [
    "revfulldic = {v: k for k, v in fulldic.items()}"
   ]
  },
  {
   "cell_type": "markdown",
   "metadata": {},
   "source": [
    "to save:"
   ]
  },
  {
   "cell_type": "code",
   "execution_count": 24,
   "metadata": {
    "collapsed": false
   },
   "outputs": [
    {
     "data": {
      "text/plain": [
       "11298"
      ]
     },
     "execution_count": 24,
     "metadata": {},
     "output_type": "execute_result"
    }
   ],
   "source": [
    "len(fulldic) # for frontal slices\n",
    "len(reldic)  # for depth indexing\n",
    "idxtypstart\n",
    "idxrelstart"
   ]
  },
  {
   "cell_type": "markdown",
   "metadata": {},
   "source": [
    "## Actually building tensor"
   ]
  },
  {
   "cell_type": "code",
   "execution_count": 25,
   "metadata": {
    "collapsed": true
   },
   "outputs": [],
   "source": [
    "# sources: triples, allrels, types\n",
    "newenttypshift.columns = [\"e\", \"r\"]\n",
    "allrelsandtypes = pd.concat([allrelsnew, newenttypshift])"
   ]
  },
  {
   "cell_type": "code",
   "execution_count": 26,
   "metadata": {
    "collapsed": true
   },
   "outputs": [],
   "source": [
    "# take triples, replace \"o\" with all relations (from allrels) that \"o\" has\n",
    "transfwd = triples.merge(allrelsandtypes, left_on=\"o\", right_on=\"e\")\n",
    "transfwd.drop([\"e\"], axis=1, inplace=True)"
   ]
  },
  {
   "cell_type": "code",
   "execution_count": 27,
   "metadata": {
    "collapsed": false
   },
   "outputs": [
    {
     "data": {
      "text/html": [
       "<div>\n",
       "<table border=\"1\" class=\"dataframe\">\n",
       "  <thead>\n",
       "    <tr style=\"text-align: right;\">\n",
       "      <th></th>\n",
       "      <th>s</th>\n",
       "      <th>r_x</th>\n",
       "      <th>o</th>\n",
       "      <th>r_y</th>\n",
       "    </tr>\n",
       "  </thead>\n",
       "  <tbody>\n",
       "    <tr>\n",
       "      <th>0</th>\n",
       "      <td>417</td>\n",
       "      <td>31</td>\n",
       "      <td>9145</td>\n",
       "      <td>11299</td>\n",
       "    </tr>\n",
       "    <tr>\n",
       "      <th>1</th>\n",
       "      <td>417</td>\n",
       "      <td>31</td>\n",
       "      <td>9145</td>\n",
       "      <td>11300</td>\n",
       "    </tr>\n",
       "    <tr>\n",
       "      <th>2</th>\n",
       "      <td>417</td>\n",
       "      <td>31</td>\n",
       "      <td>9145</td>\n",
       "      <td>11302</td>\n",
       "    </tr>\n",
       "    <tr>\n",
       "      <th>3</th>\n",
       "      <td>417</td>\n",
       "      <td>31</td>\n",
       "      <td>9145</td>\n",
       "      <td>11339</td>\n",
       "    </tr>\n",
       "    <tr>\n",
       "      <th>4</th>\n",
       "      <td>417</td>\n",
       "      <td>31</td>\n",
       "      <td>9145</td>\n",
       "      <td>11321</td>\n",
       "    </tr>\n",
       "    <tr>\n",
       "      <th>5</th>\n",
       "      <td>417</td>\n",
       "      <td>31</td>\n",
       "      <td>9145</td>\n",
       "      <td>11405</td>\n",
       "    </tr>\n",
       "    <tr>\n",
       "      <th>6</th>\n",
       "      <td>417</td>\n",
       "      <td>31</td>\n",
       "      <td>9145</td>\n",
       "      <td>11325</td>\n",
       "    </tr>\n",
       "    <tr>\n",
       "      <th>7</th>\n",
       "      <td>417</td>\n",
       "      <td>31</td>\n",
       "      <td>9145</td>\n",
       "      <td>11484</td>\n",
       "    </tr>\n",
       "    <tr>\n",
       "      <th>8</th>\n",
       "      <td>417</td>\n",
       "      <td>31</td>\n",
       "      <td>9145</td>\n",
       "      <td>11706</td>\n",
       "    </tr>\n",
       "    <tr>\n",
       "      <th>9</th>\n",
       "      <td>417</td>\n",
       "      <td>31</td>\n",
       "      <td>9145</td>\n",
       "      <td>11310</td>\n",
       "    </tr>\n",
       "    <tr>\n",
       "      <th>10</th>\n",
       "      <td>417</td>\n",
       "      <td>31</td>\n",
       "      <td>9145</td>\n",
       "      <td>11309</td>\n",
       "    </tr>\n",
       "    <tr>\n",
       "      <th>11</th>\n",
       "      <td>417</td>\n",
       "      <td>31</td>\n",
       "      <td>9145</td>\n",
       "      <td>11305</td>\n",
       "    </tr>\n",
       "    <tr>\n",
       "      <th>12</th>\n",
       "      <td>417</td>\n",
       "      <td>31</td>\n",
       "      <td>9145</td>\n",
       "      <td>11340</td>\n",
       "    </tr>\n",
       "    <tr>\n",
       "      <th>13</th>\n",
       "      <td>417</td>\n",
       "      <td>31</td>\n",
       "      <td>9145</td>\n",
       "      <td>11314</td>\n",
       "    </tr>\n",
       "    <tr>\n",
       "      <th>14</th>\n",
       "      <td>417</td>\n",
       "      <td>31</td>\n",
       "      <td>9145</td>\n",
       "      <td>11623</td>\n",
       "    </tr>\n",
       "    <tr>\n",
       "      <th>15</th>\n",
       "      <td>417</td>\n",
       "      <td>31</td>\n",
       "      <td>9145</td>\n",
       "      <td>11337</td>\n",
       "    </tr>\n",
       "    <tr>\n",
       "      <th>16</th>\n",
       "      <td>417</td>\n",
       "      <td>31</td>\n",
       "      <td>9145</td>\n",
       "      <td>11494</td>\n",
       "    </tr>\n",
       "    <tr>\n",
       "      <th>17</th>\n",
       "      <td>417</td>\n",
       "      <td>31</td>\n",
       "      <td>9145</td>\n",
       "      <td>11593</td>\n",
       "    </tr>\n",
       "    <tr>\n",
       "      <th>18</th>\n",
       "      <td>417</td>\n",
       "      <td>31</td>\n",
       "      <td>9145</td>\n",
       "      <td>11316</td>\n",
       "    </tr>\n",
       "    <tr>\n",
       "      <th>19</th>\n",
       "      <td>417</td>\n",
       "      <td>31</td>\n",
       "      <td>9145</td>\n",
       "      <td>11318</td>\n",
       "    </tr>\n",
       "    <tr>\n",
       "      <th>20</th>\n",
       "      <td>417</td>\n",
       "      <td>31</td>\n",
       "      <td>9145</td>\n",
       "      <td>11360</td>\n",
       "    </tr>\n",
       "    <tr>\n",
       "      <th>21</th>\n",
       "      <td>417</td>\n",
       "      <td>31</td>\n",
       "      <td>9145</td>\n",
       "      <td>11327</td>\n",
       "    </tr>\n",
       "    <tr>\n",
       "      <th>22</th>\n",
       "      <td>417</td>\n",
       "      <td>31</td>\n",
       "      <td>9145</td>\n",
       "      <td>11539</td>\n",
       "    </tr>\n",
       "    <tr>\n",
       "      <th>23</th>\n",
       "      <td>417</td>\n",
       "      <td>31</td>\n",
       "      <td>9145</td>\n",
       "      <td>11592</td>\n",
       "    </tr>\n",
       "    <tr>\n",
       "      <th>24</th>\n",
       "      <td>417</td>\n",
       "      <td>31</td>\n",
       "      <td>9145</td>\n",
       "      <td>11307</td>\n",
       "    </tr>\n",
       "    <tr>\n",
       "      <th>25</th>\n",
       "      <td>417</td>\n",
       "      <td>31</td>\n",
       "      <td>9145</td>\n",
       "      <td>11301</td>\n",
       "    </tr>\n",
       "    <tr>\n",
       "      <th>26</th>\n",
       "      <td>417</td>\n",
       "      <td>31</td>\n",
       "      <td>9145</td>\n",
       "      <td>11315</td>\n",
       "    </tr>\n",
       "    <tr>\n",
       "      <th>27</th>\n",
       "      <td>417</td>\n",
       "      <td>31</td>\n",
       "      <td>9145</td>\n",
       "      <td>11334</td>\n",
       "    </tr>\n",
       "    <tr>\n",
       "      <th>28</th>\n",
       "      <td>417</td>\n",
       "      <td>31</td>\n",
       "      <td>9145</td>\n",
       "      <td>11440</td>\n",
       "    </tr>\n",
       "    <tr>\n",
       "      <th>29</th>\n",
       "      <td>417</td>\n",
       "      <td>31</td>\n",
       "      <td>9145</td>\n",
       "      <td>11547</td>\n",
       "    </tr>\n",
       "    <tr>\n",
       "      <th>...</th>\n",
       "      <td>...</td>\n",
       "      <td>...</td>\n",
       "      <td>...</td>\n",
       "      <td>...</td>\n",
       "    </tr>\n",
       "    <tr>\n",
       "      <th>3311998</th>\n",
       "      <td>8594</td>\n",
       "      <td>4</td>\n",
       "      <td>8651</td>\n",
       "      <td>11824</td>\n",
       "    </tr>\n",
       "    <tr>\n",
       "      <th>3311999</th>\n",
       "      <td>8594</td>\n",
       "      <td>4</td>\n",
       "      <td>8651</td>\n",
       "      <td>11804</td>\n",
       "    </tr>\n",
       "    <tr>\n",
       "      <th>3312000</th>\n",
       "      <td>8594</td>\n",
       "      <td>4</td>\n",
       "      <td>8651</td>\n",
       "      <td>11823</td>\n",
       "    </tr>\n",
       "    <tr>\n",
       "      <th>3312001</th>\n",
       "      <td>8594</td>\n",
       "      <td>4</td>\n",
       "      <td>8651</td>\n",
       "      <td>11977</td>\n",
       "    </tr>\n",
       "    <tr>\n",
       "      <th>3312002</th>\n",
       "      <td>8594</td>\n",
       "      <td>4</td>\n",
       "      <td>8651</td>\n",
       "      <td>11915</td>\n",
       "    </tr>\n",
       "    <tr>\n",
       "      <th>3312003</th>\n",
       "      <td>8594</td>\n",
       "      <td>4</td>\n",
       "      <td>8651</td>\n",
       "      <td>12176</td>\n",
       "    </tr>\n",
       "    <tr>\n",
       "      <th>3312004</th>\n",
       "      <td>8594</td>\n",
       "      <td>4</td>\n",
       "      <td>8651</td>\n",
       "      <td>12053</td>\n",
       "    </tr>\n",
       "    <tr>\n",
       "      <th>3312005</th>\n",
       "      <td>8594</td>\n",
       "      <td>4</td>\n",
       "      <td>8651</td>\n",
       "      <td>11972</td>\n",
       "    </tr>\n",
       "    <tr>\n",
       "      <th>3312006</th>\n",
       "      <td>8594</td>\n",
       "      <td>4</td>\n",
       "      <td>8651</td>\n",
       "      <td>11991</td>\n",
       "    </tr>\n",
       "    <tr>\n",
       "      <th>3312007</th>\n",
       "      <td>8594</td>\n",
       "      <td>4</td>\n",
       "      <td>8651</td>\n",
       "      <td>12374</td>\n",
       "    </tr>\n",
       "    <tr>\n",
       "      <th>3312008</th>\n",
       "      <td>623</td>\n",
       "      <td>4</td>\n",
       "      <td>1597</td>\n",
       "      <td>11299</td>\n",
       "    </tr>\n",
       "    <tr>\n",
       "      <th>3312009</th>\n",
       "      <td>623</td>\n",
       "      <td>4</td>\n",
       "      <td>1597</td>\n",
       "      <td>11344</td>\n",
       "    </tr>\n",
       "    <tr>\n",
       "      <th>3312010</th>\n",
       "      <td>623</td>\n",
       "      <td>4</td>\n",
       "      <td>1597</td>\n",
       "      <td>11343</td>\n",
       "    </tr>\n",
       "    <tr>\n",
       "      <th>3312011</th>\n",
       "      <td>623</td>\n",
       "      <td>4</td>\n",
       "      <td>1597</td>\n",
       "      <td>11330</td>\n",
       "    </tr>\n",
       "    <tr>\n",
       "      <th>3312012</th>\n",
       "      <td>623</td>\n",
       "      <td>4</td>\n",
       "      <td>1597</td>\n",
       "      <td>11345</td>\n",
       "    </tr>\n",
       "    <tr>\n",
       "      <th>3312013</th>\n",
       "      <td>623</td>\n",
       "      <td>4</td>\n",
       "      <td>1597</td>\n",
       "      <td>11497</td>\n",
       "    </tr>\n",
       "    <tr>\n",
       "      <th>3312014</th>\n",
       "      <td>623</td>\n",
       "      <td>4</td>\n",
       "      <td>1597</td>\n",
       "      <td>11372</td>\n",
       "    </tr>\n",
       "    <tr>\n",
       "      <th>3312015</th>\n",
       "      <td>623</td>\n",
       "      <td>4</td>\n",
       "      <td>1597</td>\n",
       "      <td>11803</td>\n",
       "    </tr>\n",
       "    <tr>\n",
       "      <th>3312016</th>\n",
       "      <td>623</td>\n",
       "      <td>4</td>\n",
       "      <td>1597</td>\n",
       "      <td>11825</td>\n",
       "    </tr>\n",
       "    <tr>\n",
       "      <th>3312017</th>\n",
       "      <td>623</td>\n",
       "      <td>4</td>\n",
       "      <td>1597</td>\n",
       "      <td>12029</td>\n",
       "    </tr>\n",
       "    <tr>\n",
       "      <th>3312018</th>\n",
       "      <td>623</td>\n",
       "      <td>4</td>\n",
       "      <td>1597</td>\n",
       "      <td>11817</td>\n",
       "    </tr>\n",
       "    <tr>\n",
       "      <th>3312019</th>\n",
       "      <td>623</td>\n",
       "      <td>4</td>\n",
       "      <td>1597</td>\n",
       "      <td>12123</td>\n",
       "    </tr>\n",
       "    <tr>\n",
       "      <th>3312020</th>\n",
       "      <td>623</td>\n",
       "      <td>4</td>\n",
       "      <td>1597</td>\n",
       "      <td>12208</td>\n",
       "    </tr>\n",
       "    <tr>\n",
       "      <th>3312021</th>\n",
       "      <td>623</td>\n",
       "      <td>4</td>\n",
       "      <td>1597</td>\n",
       "      <td>11874</td>\n",
       "    </tr>\n",
       "    <tr>\n",
       "      <th>3312022</th>\n",
       "      <td>623</td>\n",
       "      <td>4</td>\n",
       "      <td>1597</td>\n",
       "      <td>11827</td>\n",
       "    </tr>\n",
       "    <tr>\n",
       "      <th>3312023</th>\n",
       "      <td>623</td>\n",
       "      <td>4</td>\n",
       "      <td>1597</td>\n",
       "      <td>11993</td>\n",
       "    </tr>\n",
       "    <tr>\n",
       "      <th>3312024</th>\n",
       "      <td>623</td>\n",
       "      <td>4</td>\n",
       "      <td>1597</td>\n",
       "      <td>12147</td>\n",
       "    </tr>\n",
       "    <tr>\n",
       "      <th>3312025</th>\n",
       "      <td>623</td>\n",
       "      <td>4</td>\n",
       "      <td>1597</td>\n",
       "      <td>11873</td>\n",
       "    </tr>\n",
       "    <tr>\n",
       "      <th>3312026</th>\n",
       "      <td>623</td>\n",
       "      <td>4</td>\n",
       "      <td>1597</td>\n",
       "      <td>12042</td>\n",
       "    </tr>\n",
       "    <tr>\n",
       "      <th>3312027</th>\n",
       "      <td>623</td>\n",
       "      <td>4</td>\n",
       "      <td>1597</td>\n",
       "      <td>12367</td>\n",
       "    </tr>\n",
       "  </tbody>\n",
       "</table>\n",
       "<p>3312028 rows × 4 columns</p>\n",
       "</div>"
      ],
      "text/plain": [
       "            s  r_x     o    r_y\n",
       "0         417   31  9145  11299\n",
       "1         417   31  9145  11300\n",
       "2         417   31  9145  11302\n",
       "3         417   31  9145  11339\n",
       "4         417   31  9145  11321\n",
       "5         417   31  9145  11405\n",
       "6         417   31  9145  11325\n",
       "7         417   31  9145  11484\n",
       "8         417   31  9145  11706\n",
       "9         417   31  9145  11310\n",
       "10        417   31  9145  11309\n",
       "11        417   31  9145  11305\n",
       "12        417   31  9145  11340\n",
       "13        417   31  9145  11314\n",
       "14        417   31  9145  11623\n",
       "15        417   31  9145  11337\n",
       "16        417   31  9145  11494\n",
       "17        417   31  9145  11593\n",
       "18        417   31  9145  11316\n",
       "19        417   31  9145  11318\n",
       "20        417   31  9145  11360\n",
       "21        417   31  9145  11327\n",
       "22        417   31  9145  11539\n",
       "23        417   31  9145  11592\n",
       "24        417   31  9145  11307\n",
       "25        417   31  9145  11301\n",
       "26        417   31  9145  11315\n",
       "27        417   31  9145  11334\n",
       "28        417   31  9145  11440\n",
       "29        417   31  9145  11547\n",
       "...       ...  ...   ...    ...\n",
       "3311998  8594    4  8651  11824\n",
       "3311999  8594    4  8651  11804\n",
       "3312000  8594    4  8651  11823\n",
       "3312001  8594    4  8651  11977\n",
       "3312002  8594    4  8651  11915\n",
       "3312003  8594    4  8651  12176\n",
       "3312004  8594    4  8651  12053\n",
       "3312005  8594    4  8651  11972\n",
       "3312006  8594    4  8651  11991\n",
       "3312007  8594    4  8651  12374\n",
       "3312008   623    4  1597  11299\n",
       "3312009   623    4  1597  11344\n",
       "3312010   623    4  1597  11343\n",
       "3312011   623    4  1597  11330\n",
       "3312012   623    4  1597  11345\n",
       "3312013   623    4  1597  11497\n",
       "3312014   623    4  1597  11372\n",
       "3312015   623    4  1597  11803\n",
       "3312016   623    4  1597  11825\n",
       "3312017   623    4  1597  12029\n",
       "3312018   623    4  1597  11817\n",
       "3312019   623    4  1597  12123\n",
       "3312020   623    4  1597  12208\n",
       "3312021   623    4  1597  11874\n",
       "3312022   623    4  1597  11827\n",
       "3312023   623    4  1597  11993\n",
       "3312024   623    4  1597  12147\n",
       "3312025   623    4  1597  11873\n",
       "3312026   623    4  1597  12042\n",
       "3312027   623    4  1597  12367\n",
       "\n",
       "[3312028 rows x 4 columns]"
      ]
     },
     "execution_count": 27,
     "metadata": {},
     "output_type": "execute_result"
    }
   ],
   "source": [
    "transfwd"
   ]
  },
  {
   "cell_type": "code",
   "execution_count": 28,
   "metadata": {
    "collapsed": true
   },
   "outputs": [],
   "source": [
    "tslice = transfwd[:20]\n",
    "for i, row in tslice.iterrows():\n",
    "    pass\n",
    "    #print revfulldic[row.s], revreldic[row.r_x], revfulldic[row.o], revfulldic[row.r_y]"
   ]
  },
  {
   "cell_type": "code",
   "execution_count": 29,
   "metadata": {
    "collapsed": true
   },
   "outputs": [],
   "source": [
    "transfwduop = transfwd.groupby([\"s\",\"r_x\", \"r_y\"]).agg({\"o\": pd.Series.nunique})\n",
    "transfwduo = transfwd[[\"s\",\"r_x\",\"o\"]].groupby([\"s\",\"r_x\"]).agg({\"o\": pd.Series.nunique})"
   ]
  },
  {
   "cell_type": "code",
   "execution_count": 30,
   "metadata": {
    "collapsed": true
   },
   "outputs": [],
   "source": [
    "transfwduo = transfwduo.reset_index()\n",
    "transfwduop = transfwduop.reset_index()"
   ]
  },
  {
   "cell_type": "code",
   "execution_count": 32,
   "metadata": {
    "collapsed": true
   },
   "outputs": [],
   "source": [
    "transfwdu = transfwduop.merge(transfwduo, left_on=[\"s\",\"r_x\"], right_on=[\"s\",\"r_x\"])\n",
    "transfwduf = transfwdu.copy()\n",
    "transfwduf[\"o\"] = transfwdu[\"o_x\"] / transfwdu[\"o_y\"]\n",
    "transfwduf.drop([\"o_x\", \"o_y\"], axis=1, inplace=True)"
   ]
  },
  {
   "cell_type": "code",
   "execution_count": 33,
   "metadata": {
    "collapsed": false
   },
   "outputs": [
    {
     "name": "stdout",
     "output_type": "stream",
     "text": [
      "[  4  27  14  26  31  56  75  90  45 409]\n",
      "http://dbpedia.org/resource/Larry_Peerce http://dbpedia.org/ontology/birthPlace http://www.w3.org/1999/02/22-rdf-syntax-ns#type 1.0\n",
      "http://dbpedia.org/resource/Larry_Peerce http://dbpedia.org/ontology/birthPlace http://xmlns.com/foaf/0.1/name 1.0\n",
      "http://dbpedia.org/resource/Larry_Peerce http://dbpedia.org/ontology/birthPlace http://dbpedia.org/property/name 0.666666666667\n",
      "http://dbpedia.org/resource/Larry_Peerce http://dbpedia.org/ontology/birthPlace http://dbpedia.org/property/caption 0.666666666667\n",
      "http://dbpedia.org/resource/Larry_Peerce http://dbpedia.org/ontology/birthPlace http://dbpedia.org/property/title 0.333333333333\n",
      "http://dbpedia.org/resource/Larry_Peerce http://dbpedia.org/ontology/birthPlace http://dbpedia.org/ontology/country 0.666666666667\n",
      "http://dbpedia.org/resource/Larry_Peerce http://dbpedia.org/ontology/birthPlace http://dbpedia.org/ontology/isPartOf 0.666666666667\n",
      "http://dbpedia.org/resource/Larry_Peerce http://dbpedia.org/ontology/birthPlace http://dbpedia.org/property/subdivisionName 0.666666666667\n",
      "http://dbpedia.org/resource/Larry_Peerce http://dbpedia.org/ontology/birthPlace http://xmlns.com/foaf/0.1/homepage 0.666666666667\n",
      "http://dbpedia.org/resource/Larry_Peerce http://dbpedia.org/ontology/birthPlace http://dbpedia.org/property/country 0.333333333333\n",
      "http://dbpedia.org/resource/Larry_Peerce http://dbpedia.org/ontology/birthPlace http://www.georss.org/georss/point 1.0\n",
      "http://dbpedia.org/resource/Larry_Peerce http://dbpedia.org/ontology/birthPlace http://www.w3.org/2003/01/geo/wgs84_pos#lat 1.0\n",
      "http://dbpedia.org/resource/Larry_Peerce http://dbpedia.org/ontology/birthPlace http://www.w3.org/2003/01/geo/wgs84_pos#long 1.0\n",
      "http://dbpedia.org/resource/Larry_Peerce http://dbpedia.org/ontology/birthPlace http://dbpedia.org/property/city 0.333333333333\n",
      "http://dbpedia.org/resource/Larry_Peerce http://dbpedia.org/ontology/birthPlace http://dbpedia.org/ontology/populationTotal 1.0\n",
      "http://dbpedia.org/resource/Larry_Peerce http://dbpedia.org/ontology/birthPlace http://www.w3.org/2000/01/rdf-schema#seeAlso 1.0\n",
      "http://dbpedia.org/resource/Larry_Peerce http://dbpedia.org/ontology/birthPlace http://dbpedia.org/property/website 0.666666666667\n",
      "http://dbpedia.org/resource/Larry_Peerce http://dbpedia.org/ontology/birthPlace http://dbpedia.org/property/longd 1.0\n",
      "http://dbpedia.org/resource/Larry_Peerce http://dbpedia.org/ontology/birthPlace http://dbpedia.org/property/latd 1.0\n",
      "http://dbpedia.org/resource/Larry_Peerce http://dbpedia.org/ontology/birthPlace http://dbpedia.org/ontology/areaCode 0.666666666667\n"
     ]
    }
   ],
   "source": [
    "print transfwduf.r_x.unique()\n",
    "\n",
    "tslice = transfwduf[:20]\n",
    "for i, row in tslice.iterrows():\n",
    "    pass\n",
    "    print revfulldic[row.s], revreldic[row.r_x], revfulldic[row.r_y], row.o"
   ]
  },
  {
   "cell_type": "code",
   "execution_count": null,
   "metadata": {
    "collapsed": true
   },
   "outputs": [],
   "source": []
  },
  {
   "cell_type": "code",
   "execution_count": 34,
   "metadata": {
    "collapsed": true
   },
   "outputs": [],
   "source": [
    "transrev = triples.merge(allrelsandtypes, left_on=\"s\", right_on=\"e\")\n",
    "transrev.drop([\"e\"], axis=1, inplace=True)"
   ]
  },
  {
   "cell_type": "code",
   "execution_count": 35,
   "metadata": {
    "collapsed": false
   },
   "outputs": [
    {
     "name": "stdout",
     "output_type": "stream",
     "text": [
      "[ 31  26  14  56  90  75   4  27 409  45]\n"
     ]
    }
   ],
   "source": [
    "print transrev.r_x.unique()\n",
    "\n",
    "tslice = transrev[:20]\n",
    "for i, row in tslice.iterrows():\n",
    "    pass\n",
    "    #print revfulldic[row.o], revreldic[row.r_x], revfulldic[row.s], revfulldic[row.r_y]"
   ]
  },
  {
   "cell_type": "code",
   "execution_count": 36,
   "metadata": {
    "collapsed": true
   },
   "outputs": [],
   "source": [
    "transrevuop = transrev.groupby([\"o\",\"r_x\", \"r_y\"]).agg({\"s\": pd.Series.nunique})\n",
    "transrevuo = transrev[[\"s\",\"r_x\",\"o\"]].groupby([\"o\",\"r_x\"]).agg({\"s\": pd.Series.nunique})\n",
    "transrevuo = transrevuo.reset_index()\n",
    "transrevuop = transrevuop.reset_index()"
   ]
  },
  {
   "cell_type": "code",
   "execution_count": 37,
   "metadata": {
    "collapsed": false
   },
   "outputs": [
    {
     "name": "stdout",
     "output_type": "stream",
     "text": [
      "[ 45  27  31  14  26  75  90  56   4 409]\n"
     ]
    }
   ],
   "source": [
    "print transrevuop.r_x.unique()\n",
    "\n",
    "tslice = transrevuop[:20]\n",
    "for i, row in tslice.iterrows():\n",
    "    pass\n",
    "    #print revfulldic[row.o], revreldic[row.r_x], revfulldic[row.r_y], row.s\n",
    "\n",
    "#transrevuo"
   ]
  },
  {
   "cell_type": "code",
   "execution_count": 38,
   "metadata": {
    "collapsed": true
   },
   "outputs": [],
   "source": [
    "transrevu = transrevuop.merge(transrevuo, left_on=[\"o\",\"r_x\"], right_on=[\"o\",\"r_x\"])\n",
    "transrevuf = transrevu.copy()\n",
    "transrevuf[\"s\"] = transrevu[\"s_x\"] / transrevu[\"s_y\"]\n",
    "transrevuf.drop([\"s_x\", \"s_y\"], axis=1, inplace=True)\n",
    "transrevuf = transrevuf[[\"r_y\", \"r_x\", \"o\", \"s\"]]"
   ]
  },
  {
   "cell_type": "code",
   "execution_count": 39,
   "metadata": {
    "collapsed": false
   },
   "outputs": [
    {
     "name": "stdout",
     "output_type": "stream",
     "text": [
      "[ 45  27  31  14  26  75  90  56   4 409]\n"
     ]
    }
   ],
   "source": [
    "print transrevuf.r_x.unique()\n",
    "\n",
    "tslice = transrevuf[:20]\n",
    "for i, row in tslice.iterrows():\n",
    "    pass\n",
    "    #print revfulldic[row.o], revreldic[row.r_x], revfulldic[row.r_y], row.s"
   ]
  },
  {
   "cell_type": "code",
   "execution_count": null,
   "metadata": {
    "collapsed": true
   },
   "outputs": [],
   "source": []
  },
  {
   "cell_type": "code",
   "execution_count": 40,
   "metadata": {
    "collapsed": false
   },
   "outputs": [
    {
     "name": "stdout",
     "output_type": "stream",
     "text": [
      "Index([u's', u'r_x', u'r_y', u'o'], dtype='object')\n",
      "Index([u'r_y', u'r_x', u'o', u's'], dtype='object')\n"
     ]
    }
   ],
   "source": [
    "print transfwduf.columns\n",
    "print transrevuf.columns"
   ]
  },
  {
   "cell_type": "code",
   "execution_count": 55,
   "metadata": {
    "collapsed": true
   },
   "outputs": [],
   "source": [
    "# to save: \n",
    "# transrevuf, transfwduf, fulldic, reldic, idxtypstart, idxrelstart"
   ]
  },
  {
   "cell_type": "markdown",
   "metadata": {},
   "source": [
    "## SAVE EVERYTHING"
   ]
  },
  {
   "cell_type": "code",
   "execution_count": 56,
   "metadata": {
    "collapsed": true
   },
   "outputs": [],
   "source": [
    "# tosave = {\"xydic\": fulldic, \"zdic\": reldic, \"xytypsplit\": idxtypstart, \"xyrelsplit\": idxrelstart, \"tensor\": fulltensor}"
   ]
  },
  {
   "cell_type": "code",
   "execution_count": null,
   "metadata": {
    "collapsed": true
   },
   "outputs": [],
   "source": []
  },
  {
   "cell_type": "code",
   "execution_count": 73,
   "metadata": {
    "collapsed": true
   },
   "outputs": [],
   "source": [
    "fulltensorp1 = transfwduf.copy()\n",
    "fulltensorp1.columns = [\"x\",\"z\",\"y\",\"v\"]\n",
    "fulltensorp2 = transrevuf.copy()\n",
    "fulltensorp2.columns = [\"x\",\"z\",\"y\",\"v\"]\n",
    "concats = [fulltensorp1, fulltensorp2]"
   ]
  },
  {
   "cell_type": "code",
   "execution_count": 74,
   "metadata": {
    "collapsed": false
   },
   "outputs": [],
   "source": [
    "if inclents:\n",
    "    fulltensorp3 = triples.copy()\n",
    "    ons = pd.DataFrame(np.ones((triples.shape[0],)))\n",
    "    fulltensorp3 = pd.concat([fulltensorp3, ons], axis=1)\n",
    "    fulltensorp3.columns = [\"x\", \"z\", \"y\", \"v\"]\n",
    "    concats.append(fulltensorp3)"
   ]
  },
  {
   "cell_type": "code",
   "execution_count": 76,
   "metadata": {
    "collapsed": false
   },
   "outputs": [
    {
     "data": {
      "text/plain": [
       "(34582, 3)"
      ]
     },
     "execution_count": 76,
     "metadata": {},
     "output_type": "execute_result"
    }
   ],
   "source": [
    "triples.shape"
   ]
  },
  {
   "cell_type": "code",
   "execution_count": 77,
   "metadata": {
    "collapsed": true
   },
   "outputs": [],
   "source": [
    "fulltensor = pd.concat(concats, axis=0)\n",
    "fulltensor = fulltensor.reset_index(drop=True)"
   ]
  },
  {
   "cell_type": "code",
   "execution_count": 78,
   "metadata": {
    "collapsed": false
   },
   "outputs": [
    {
     "name": "stdout",
     "output_type": "stream",
     "text": [
      "1826635\n",
      "1774514\n"
     ]
    }
   ],
   "source": [
    "print len(fulltensor)\n",
    "# drop some properties\n",
    "def retainfun(x):\n",
    "    if x in map(lambda y: fulldic[y], [\n",
    "        \"http://www.w3.org/1999/02/22-rdf-syntax-ns#type\",\n",
    "        \"http://www.w3.org/2000/01/rdf-schema#seeAlso\",\n",
    "        \"http://dbpedia.org/property/caption\",\n",
    "        \"http://dbpedia.org/ontology/type\",\n",
    "        \"http://xmlns.com/foaf/0.1/homepage\",\n",
    "        \"-http://www.w3.org/2000/01/rdf-schema#seeAlso\",\n",
    "        \"-http://dbpedia.org/property/imageCaption\",\n",
    "        \"http://dbpedia.org/property/imageCaption\",\n",
    "        \"http://dbpedia.org/property/imageSize\",\n",
    "        \"http://dbpedia.org/property/imagesize\",\n",
    "        \"http://www.w3.org/2002/07/owl#differentFrom\",\n",
    "    ]):\n",
    "        return False\n",
    "    return True\n",
    "\n",
    "fil = fulltensor.y.map(retainfun)\n",
    "fulltensor = fulltensor[fil]\n",
    "print len(fulltensor)"
   ]
  },
  {
   "cell_type": "code",
   "execution_count": 79,
   "metadata": {
    "collapsed": true
   },
   "outputs": [],
   "source": [
    "for qsdf in reldic.keys():\n",
    "    pass\n",
    "    #print qsdf"
   ]
  },
  {
   "cell_type": "code",
   "execution_count": 83,
   "metadata": {
    "collapsed": false
   },
   "outputs": [],
   "source": [
    "#fulltensor[(fulltensor.y < idxrelstart) & (fulltensor.x < idxrelstart)]"
   ]
  },
  {
   "cell_type": "code",
   "execution_count": 84,
   "metadata": {
    "collapsed": true
   },
   "outputs": [],
   "source": [
    "# save fulltensor as .ssd\n",
    "name = \"fulltensor\"\n",
    "if inclents:\n",
    "    name += \"+ents\"\n",
    "name += \".ssd\"\n",
    "with open(name, \"w\") as outf:\n",
    "    for row in fulltensor.iterrows():\n",
    "        row = row[1]\n",
    "        outf.write(\"%d %d %d %f\\n\" % (row.z, row.x, row.y, row.v))"
   ]
  },
  {
   "cell_type": "code",
   "execution_count": 142,
   "metadata": {
    "collapsed": true
   },
   "outputs": [],
   "source": [
    "# save the company for the tensor\n",
    "with open(\"fulltensor.apx.pkl\", \"w\") as outf:\n",
    "    pickle.dump({\"xydic\": fulldic, \"zdic\": reldic, \"xytypsplit\": idxtypstart, \"xyrelsplit\": idxrelstart}, outf)"
   ]
  },
  {
   "cell_type": "markdown",
   "metadata": {},
   "source": [
    "## PLAY WITH DATA"
   ]
  },
  {
   "cell_type": "code",
   "execution_count": 141,
   "metadata": {
    "collapsed": false
   },
   "outputs": [
    {
     "name": "stdout",
     "output_type": "stream",
     "text": [
      "[  4  27  14  26  31  56  75  90  45 409]\n",
      "http://dbpedia.org/resource/Larry_Peerce http://dbpedia.org/ontology/birthPlace http://xmlns.com/foaf/0.1/name 1.0\n",
      "http://dbpedia.org/resource/Larry_Peerce http://dbpedia.org/ontology/birthPlace http://dbpedia.org/property/name 0.666666666667\n",
      "http://dbpedia.org/resource/Larry_Peerce http://dbpedia.org/ontology/birthPlace http://dbpedia.org/property/title 0.333333333333\n",
      "http://dbpedia.org/resource/Larry_Peerce http://dbpedia.org/ontology/birthPlace http://dbpedia.org/ontology/country 0.666666666667\n",
      "http://dbpedia.org/resource/Larry_Peerce http://dbpedia.org/ontology/birthPlace http://dbpedia.org/ontology/isPartOf 0.666666666667\n",
      "http://dbpedia.org/resource/Larry_Peerce http://dbpedia.org/ontology/birthPlace http://dbpedia.org/property/subdivisionName 0.666666666667\n",
      "http://dbpedia.org/resource/Larry_Peerce http://dbpedia.org/ontology/birthPlace http://dbpedia.org/property/country 0.333333333333\n",
      "http://dbpedia.org/resource/Larry_Peerce http://dbpedia.org/ontology/birthPlace http://www.georss.org/georss/point 1.0\n",
      "http://dbpedia.org/resource/Larry_Peerce http://dbpedia.org/ontology/birthPlace http://www.w3.org/2003/01/geo/wgs84_pos#lat 1.0\n",
      "http://dbpedia.org/resource/Larry_Peerce http://dbpedia.org/ontology/birthPlace http://www.w3.org/2003/01/geo/wgs84_pos#long 1.0\n",
      "http://dbpedia.org/resource/Larry_Peerce http://dbpedia.org/ontology/birthPlace http://dbpedia.org/property/city 0.333333333333\n",
      "http://dbpedia.org/resource/Larry_Peerce http://dbpedia.org/ontology/birthPlace http://dbpedia.org/ontology/populationTotal 1.0\n",
      "http://dbpedia.org/resource/Larry_Peerce http://dbpedia.org/ontology/birthPlace http://dbpedia.org/property/website 0.666666666667\n",
      "http://dbpedia.org/resource/Larry_Peerce http://dbpedia.org/ontology/birthPlace http://dbpedia.org/property/longd 1.0\n",
      "http://dbpedia.org/resource/Larry_Peerce http://dbpedia.org/ontology/birthPlace http://dbpedia.org/property/latd 1.0\n",
      "http://dbpedia.org/resource/Larry_Peerce http://dbpedia.org/ontology/birthPlace http://dbpedia.org/ontology/areaCode 0.666666666667\n",
      "http://dbpedia.org/resource/Larry_Peerce http://dbpedia.org/ontology/birthPlace http://dbpedia.org/ontology/postalCode 0.666666666667\n",
      "http://dbpedia.org/resource/Larry_Peerce http://dbpedia.org/ontology/birthPlace http://dbpedia.org/ontology/areaTotal 1.0\n",
      "http://dbpedia.org/resource/Larry_Peerce http://dbpedia.org/ontology/birthPlace http://dbpedia.org/property/utcOffset 1.0\n",
      "http://dbpedia.org/resource/Larry_Peerce http://dbpedia.org/ontology/birthPlace http://dbpedia.org/property/timezone 0.666666666667\n",
      "http://dbpedia.org/resource/Larry_Peerce http://dbpedia.org/ontology/birthPlace http://dbpedia.org/property/populationAsOf 0.666666666667\n",
      "http://dbpedia.org/resource/Larry_Peerce http://dbpedia.org/ontology/birthPlace http://dbpedia.org/property/subdivisionType 0.666666666667\n",
      "http://dbpedia.org/resource/Larry_Peerce http://dbpedia.org/ontology/birthPlace http://dbpedia.org/property/longm 0.666666666667\n",
      "http://dbpedia.org/resource/Larry_Peerce http://dbpedia.org/ontology/birthPlace http://dbpedia.org/property/latm 0.666666666667\n",
      "http://dbpedia.org/resource/Larry_Peerce http://dbpedia.org/ontology/birthPlace http://dbpedia.org/ontology/timeZone 0.666666666667\n",
      "http://dbpedia.org/resource/Larry_Peerce http://dbpedia.org/ontology/birthPlace http://dbpedia.org/property/officialName 0.666666666667\n",
      "http://dbpedia.org/resource/Larry_Peerce http://dbpedia.org/ontology/birthPlace http://dbpedia.org/property/longew 1.0\n",
      "http://dbpedia.org/resource/Larry_Peerce http://dbpedia.org/ontology/birthPlace http://dbpedia.org/property/latns 1.0\n",
      "http://dbpedia.org/resource/Larry_Peerce http://dbpedia.org/ontology/birthPlace http://dbpedia.org/property/populationTotal 0.666666666667\n",
      "http://dbpedia.org/resource/Larry_Peerce http://dbpedia.org/ontology/birthPlace http://dbpedia.org/property/settlementType 0.666666666667\n",
      "http://dbpedia.org/resource/Larry_Peerce http://dbpedia.org/ontology/birthPlace http://dbpedia.org/property/areaCode 0.666666666667\n",
      "http://dbpedia.org/resource/Larry_Peerce http://dbpedia.org/ontology/birthPlace http://dbpedia.org/property/postalCode 0.666666666667\n",
      "http://dbpedia.org/resource/Larry_Peerce http://dbpedia.org/ontology/birthPlace http://dbpedia.org/ontology/utcOffset 0.666666666667\n",
      "http://dbpedia.org/resource/Larry_Peerce http://dbpedia.org/ontology/birthPlace http://dbpedia.org/property/imageMap 1.0\n",
      "http://dbpedia.org/resource/Larry_Peerce http://dbpedia.org/ontology/birthPlace http://dbpedia.org/ontology/elevation 0.333333333333\n",
      "http://dbpedia.org/resource/Larry_Peerce http://dbpedia.org/ontology/birthPlace http://dbpedia.org/property/mapCaption 1.0\n",
      "http://dbpedia.org/resource/Larry_Peerce http://dbpedia.org/ontology/birthPlace http://dbpedia.org/property/utcOffsetDst 0.666666666667\n",
      "http://dbpedia.org/resource/Larry_Peerce http://dbpedia.org/ontology/birthPlace http://dbpedia.org/property/leaderName 1.0\n",
      "http://dbpedia.org/resource/Larry_Peerce http://dbpedia.org/ontology/birthPlace http://dbpedia.org/property/postalCodeType 0.666666666667\n",
      "http://dbpedia.org/resource/Larry_Peerce http://dbpedia.org/ontology/birthPlace http://dbpedia.org/property/coordinatesDisplay 0.333333333333\n",
      "http://dbpedia.org/resource/Larry_Peerce http://dbpedia.org/ontology/birthPlace http://dbpedia.org/property/leaderTitle 1.0\n",
      "http://dbpedia.org/resource/Larry_Peerce http://dbpedia.org/ontology/birthPlace http://dbpedia.org/property/populationDensityKm 0.333333333333\n",
      "http://dbpedia.org/resource/Larry_Peerce http://dbpedia.org/ontology/birthPlace http://dbpedia.org/ontology/leaderTitle 1.0\n",
      "http://dbpedia.org/resource/Larry_Peerce http://dbpedia.org/ontology/birthPlace http://dbpedia.org/property/timezoneDst 0.333333333333\n",
      "http://dbpedia.org/resource/Larry_Peerce http://dbpedia.org/ontology/birthPlace http://dbpedia.org/property/imageSkyline 0.666666666667\n",
      "http://dbpedia.org/resource/Larry_Peerce http://dbpedia.org/ontology/birthPlace http://dbpedia.org/property/establishedDate 1.0\n",
      "http://dbpedia.org/resource/Larry_Peerce http://dbpedia.org/ontology/birthPlace http://dbpedia.org/property/elevationM 0.333333333333\n",
      "http://dbpedia.org/resource/Larry_Peerce http://dbpedia.org/ontology/birthPlace http://dbpedia.org/ontology/areaLand 0.666666666667\n",
      "http://dbpedia.org/resource/Larry_Peerce http://dbpedia.org/ontology/birthPlace http://dbpedia.org/property/longs 0.333333333333\n",
      "http://dbpedia.org/resource/Larry_Peerce http://dbpedia.org/ontology/birthPlace http://dbpedia.org/property/lats 0.333333333333\n"
     ]
    }
   ],
   "source": [
    "print fulltensor.z.unique()\n",
    "\n",
    "tslice = fulltensor[:50]\n",
    "for i, row in tslice.iterrows():\n",
    "    pass\n",
    "    print revfulldic[row.x], revreldic[row.z], revfulldic[row.y], row.v"
   ]
  },
  {
   "cell_type": "code",
   "execution_count": null,
   "metadata": {
    "collapsed": true
   },
   "outputs": [],
   "source": []
  },
  {
   "cell_type": "code",
   "execution_count": null,
   "metadata": {
    "collapsed": true
   },
   "outputs": [],
   "source": []
  },
  {
   "cell_type": "code",
   "execution_count": null,
   "metadata": {
    "collapsed": true
   },
   "outputs": [],
   "source": []
  }
 ],
 "metadata": {
  "kernelspec": {
   "display_name": "Python 2",
   "language": "python",
   "name": "python2"
  },
  "language_info": {
   "codemirror_mode": {
    "name": "ipython",
    "version": 2
   },
   "file_extension": ".py",
   "mimetype": "text/x-python",
   "name": "python",
   "nbconvert_exporter": "python",
   "pygments_lexer": "ipython2",
   "version": "2.7.6"
  }
 },
 "nbformat": 4,
 "nbformat_minor": 0
}
