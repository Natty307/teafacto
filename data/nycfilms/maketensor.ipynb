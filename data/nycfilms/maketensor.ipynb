{
 "cells": [
  {
   "cell_type": "code",
   "execution_count": 1,
   "metadata": {},
   "outputs": [],
   "source": [
    "import pickle, pandas as pd, numpy as np, re"
   ]
  },
  {
   "cell_type": "code",
   "execution_count": 2,
   "metadata": {},
   "outputs": [],
   "source": [
    "entdicf = \"entdic3hops.pkl\"\n",
    "reldicf = \"reldic3hops.pkl\"\n",
    "triplesf = \"triples3hops.pd.pkl\"\n",
    "allrelsf = \"allrel3hops.pd.pkl\"\n",
    "typesf = \"../dbpedia/dbpcore.nt.types.dok\"\n",
    "bigentdicf = \"../dbpedia/dbpcore.nt.entdic.ssd\"\n",
    "rhsdicf = \"rhsdic.pkl\""
   ]
  },
  {
   "cell_type": "code",
   "execution_count": 3,
   "metadata": {},
   "outputs": [
    {
     "name": "stdout",
     "output_type": "stream",
     "text": [
      "big entity dict loaded\n"
     ]
    },
    {
     "data": {
      "text/plain": [
       "'bigreldic = loadDic(bigreldicf)\\nprint \"big relation dict loaded\"'"
      ]
     },
     "execution_count": 3,
     "output_type": "execute_result",
     "metadata": {}
    }
   ],
   "source": [
    "entdic = pickle.load(open(entdicf))\n",
    "reldic = pickle.load(open(reldicf))\n",
    "triples = pickle.load(open(triplesf))\n",
    "allrels = pickle.load(open(allrelsf))\n",
    "reventdic = {v: k for k, v in entdic.items()}\n",
    "# load dictionaries\n",
    "def loadDic(entdicf):\n",
    "    entdic = {}\n",
    "    for line in open(entdicf):\n",
    "        splits = line.split(\" \")\n",
    "        entdic[splits[0]] = int(splits[1])\n",
    "    return entdic\n",
    "\n",
    "# load big dictionaries\n",
    "bigentdic = loadDic(bigentdicf)\n",
    "print \"big entity dict loaded\"\n",
    "'''bigreldic = loadDic(bigreldicf)\n",
    "print \"big relation dict loaded\"'''"
   ]
  },
  {
   "cell_type": "code",
   "execution_count": 8,
   "metadata": {},
   "outputs": [],
   "source": [
    "reventdic = dict([(v, k) for k, v in entdic.items()])\n",
    "revreldic = dict({(v, k) for k, v in reldic.items()})"
   ]
  },
  {
   "cell_type": "code",
   "execution_count": 17,
   "metadata": {},
   "outputs": [],
   "source": [
    "def getreconstr(reventdic, revreldic):\n",
    "    def reconstr(row):\n",
    "        return reventdic[row.s], revreldic[row.r], reventdic[row.o]\n",
    "    return reconstr\n",
    "def checkslice(reventdic, revreldic):\n",
    "    def inner(tslice):\n",
    "        recon = getreconstr(reventdic, revreldic)\n",
    "        for row in tslice.iterrows():\n",
    "            print recon(row[1])\n",
    "    return inner"
   ]
  },
  {
   "cell_type": "code",
   "execution_count": 27,
   "metadata": {},
   "outputs": [
    {
     "name": "stdout",
     "output_type": "stream",
     "text": [
      "('http://dbpedia.org/resource/Citizen_Kane', 'http://dbpedia.org/ontology/director', 'http://dbpedia.org/resource/Orson_Welles')\n",
      "('http://dbpedia.org/resource/Citizen_Kane', 'http://dbpedia.org/ontology/producer', 'http://dbpedia.org/resource/Orson_Welles')\n",
      "('http://dbpedia.org/resource/Citizen_Kane', 'http://dbpedia.org/ontology/starring', 'http://dbpedia.org/resource/Joseph_Cotten')\n",
      "('http://dbpedia.org/resource/Citizen_Kane', 'http://dbpedia.org/ontology/starring', 'http://dbpedia.org/resource/Dorothy_Comingore')\n",
      "('http://dbpedia.org/resource/Citizen_Kane', 'http://dbpedia.org/ontology/starring', 'http://dbpedia.org/resource/Everett_Sloane')\n",
      "('http://dbpedia.org/resource/Citizen_Kane', 'http://dbpedia.org/ontology/starring', 'http://dbpedia.org/resource/Ray_Collins_(actor)')\n",
      "('http://dbpedia.org/resource/Citizen_Kane', 'http://dbpedia.org/ontology/starring', 'http://dbpedia.org/resource/George_Coulouris')\n",
      "('http://dbpedia.org/resource/Citizen_Kane', 'http://dbpedia.org/ontology/starring', 'http://dbpedia.org/resource/Agnes_Moorehead')\n",
      "('http://dbpedia.org/resource/Citizen_Kane', 'http://dbpedia.org/ontology/starring', 'http://dbpedia.org/resource/Paul_Stewart_(actor)')\n",
      "('http://dbpedia.org/resource/Citizen_Kane', 'http://dbpedia.org/ontology/starring', 'http://dbpedia.org/resource/Ruth_Warrick')\n",
      "('http://dbpedia.org/resource/Citizen_Kane', 'http://dbpedia.org/ontology/starring', 'http://dbpedia.org/resource/Erskine_Sanford')\n",
      "('http://dbpedia.org/resource/Citizen_Kane', 'http://dbpedia.org/ontology/starring', 'http://dbpedia.org/resource/William_Alland')\n",
      "('http://dbpedia.org/resource/Citizen_Kane', 'http://dbpedia.org/ontology/musicComposer', 'http://dbpedia.org/resource/Bernard_Herrmann')\n",
      "('http://dbpedia.org/resource/Citizen_Kane', 'http://dbpedia.org/ontology/cinematography', 'http://dbpedia.org/resource/Gregg_Toland')\n",
      "('http://dbpedia.org/resource/Citizen_Kane', 'http://dbpedia.org/ontology/distributor', 'http://dbpedia.org/resource/RKO_Pictures')\n"
     ]
    }
   ],
   "source": [
    "tslice = triples[0:15]\n",
    "checkslice(reventdic, revreldic)(tslice)"
   ]
  },
  {
   "cell_type": "code",
   "execution_count": null,
   "metadata": {},
   "outputs": [],
   "source": [
    ""
   ]
  },
  {
   "cell_type": "code",
   "execution_count": null,
   "metadata": {},
   "outputs": [],
   "source": [
    ""
   ]
  },
  {
   "cell_type": "code",
   "execution_count": null,
   "metadata": {},
   "outputs": [],
   "source": [
    ""
   ]
  },
  {
   "cell_type": "code",
   "execution_count": null,
   "metadata": {},
   "outputs": [],
   "source": [
    ""
   ]
  },
  {
   "cell_type": "markdown",
   "metadata": {},
   "source": [
    "## TYPES"
   ]
  },
  {
   "cell_type": "code",
   "execution_count": 28,
   "metadata": {},
   "outputs": [
    {
     "name": "stdout",
     "output_type": "stream",
     "text": [
      "1000000\n",
      "2000000\n",
      "3000000\n",
      "4000000\n",
      "5000000\n",
      "6000000\n",
      "7000000\n"
     ]
    }
   ],
   "source": [
    "# TYPES\n",
    "allents = entdic.keys()\n",
    "allentbidxs = set(map(lambda x: bigentdic[x], allents))\n",
    "# go through the types file\n",
    "enttypes = {}\n",
    "c = 0\n",
    "typesused = set()\n",
    "for line in open(typesf):\n",
    "    c += 1\n",
    "    if c % 1000000 == 0:\n",
    "        print c\n",
    "    ns = [int(x) for x in line.split(\" \")]\n",
    "    if len(ns) == 2 and ns[0] in allentbidxs:\n",
    "        if ns[0] not in enttypes:\n",
    "            enttypes[ns[0]] = set()\n",
    "        enttypes[ns[0]].add(ns[1])\n",
    "        typesused.add(ns[1])\n",
    "revbigentdic = {v: k for k, v in bigentdic.items()}"
   ]
  },
  {
   "cell_type": "code",
   "execution_count": 29,
   "metadata": {},
   "outputs": [],
   "source": [
    "ntypesused = map(lambda x: revbigentdic[x], typesused)\n",
    "ntypesused = sorted(ntypesused)\n",
    "#ntypesidx = range(max(newreldic.values()) + 1, max(newreldic.values()) + 1 + len(ntypesused))\n",
    "ntypesidx = range(len(ntypesused))\n",
    "typdic = dict(zip(ntypesused, ntypesidx))\n",
    "revtypdic = dict([(v, k) for k, v in typdic.items()])"
   ]
  },
  {
   "cell_type": "code",
   "execution_count": 30,
   "metadata": {},
   "outputs": [],
   "source": [
    "def maketypelist(enttypes):\n",
    "    for et in enttypes.items():\n",
    "        for v in et[1]:\n",
    "            yield (et[0], v)\n",
    "\n",
    "nenttypes = [i for i in maketypelist(enttypes)]\n",
    "enttypesdf = pd.DataFrame(nenttypes)\n",
    "enttypesdf.columns = [\"e\", \"t\"]\n",
    "enttypesdf[\"e\"] = enttypesdf[\"e\"].map(lambda x: entdic[revbigentdic[x]])\n",
    "enttypesdf[\"t\"] = enttypesdf[\"t\"].map(lambda x: typdic[revbigentdic[x]])"
   ]
  },
  {
   "cell_type": "code",
   "execution_count": 35,
   "metadata": {},
   "outputs": [
    {
     "name": "stdout",
     "output_type": "stream",
     "text": [
      "[0, 1, 2, 3, 4, 5, 6, 7, 8, 9, 10, 11, 12, 13, 14, 15, 16, 17, 18, 19, 20, 21, 22, 23, 24, 25, 26, 27, 28, 29, 30, 31, 32, 33, 34, 35, 36, 37, 38, 39, 40, 41, 42, 43, 44, 45, 46, 47, 48, 49, 50, 51, 52, 53, 54, 55, 56, 57, 58, 59, 60, 61, 62, 63, 64, 65, 66, 67, 68, 69, 70, 71, 72, 73, 74, 75, 76, 77, 78, 79, 80, 81, 82, 83, 84, 85, 86, 87, 88, 89, 90, 91, 92, 93, 94, 95, 96, 97, 98, 99, 100, 101, 102, 103, 104, 105, 106, 107, 108, 109, 110, 111, 112, 113, 114, 115, 116, 117, 118, 119, 120, 121, 122, 123, 124, 125, 126, 127, 128, 129]\n"
     ]
    },
    {
     "data": {
      "text/plain": [
       "('http://dbpedia.org/resource/Verona',\n",
       " 'http://dbpedia.org/ontology/Settlement')"
      ]
     },
     "execution_count": 35,
     "output_type": "execute_result",
     "metadata": {}
    }
   ],
   "source": [
    "fet = tuple(enttypesdf.iloc[500])\n",
    "print revtypdic.keys()\n",
    "reventdic[fet[0]], revtypdic[fet[1]]"
   ]
  },
  {
   "cell_type": "markdown",
   "metadata": {},
   "source": [
    "## BUILDING TENSOR"
   ]
  },
  {
   "cell_type": "code",
   "execution_count": 36,
   "metadata": {},
   "outputs": [
    {
     "name": "stdout",
     "output_type": "stream",
     "text": [
      "[(0, 11297)]\n",
      "[(1, 500)]\n",
      "[(0, 129)]\n",
      "                  s             r             o\n",
      "count  34582.000000  34582.000000  34582.000000\n",
      "mean    5592.967324     17.638309   5100.189549\n",
      "std     3268.364253     27.972726   3544.182080\n",
      "min        1.000000      4.000000      0.000000\n",
      "25%     2757.000000      4.000000   1832.000000\n",
      "50%     5478.000000      4.000000   4398.000000\n",
      "75%     8455.000000     26.000000   8323.000000\n",
      "max    11297.000000    409.000000  11297.000000\n",
      "                  e             t\n",
      "count  24123.000000  24123.000000\n",
      "mean    5661.119471     84.923724\n",
      "std     3293.721605     38.582510\n",
      "min        0.000000      0.000000\n",
      "25%     2776.000000     58.000000\n",
      "50%     5660.000000     99.000000\n",
      "75%     8549.000000    129.000000\n",
      "max    11295.000000    129.000000\n",
      "                  e              r\n",
      "count  484893.00000  484893.000000\n",
      "mean     5470.54008     115.903591\n",
      "std      3240.65118     126.624463\n",
      "min         0.00000       1.000000\n",
      "25%      2661.00000      18.000000\n",
      "50%      5397.00000      65.000000\n",
      "75%      8287.00000     173.000000\n",
      "max     11297.00000     500.000000\n"
     ]
    }
   ],
   "source": [
    "# statistics of used variables\n",
    "def dicstats(x):\n",
    "    return min(x), max(x)\n",
    "print map(dicstats, [entdic.values()])\n",
    "print map(dicstats, [reldic.values()])\n",
    "print map(dicstats, [typdic.values()])\n",
    "\n",
    "print triples.describe()\n",
    "print enttypesdf.describe()\n",
    "print allrels.describe()"
   ]
  },
  {
   "cell_type": "markdown",
   "metadata": {},
   "source": [
    "### make new reldic that assign reverse relations in the same (extended) index space and reindex allrels.df"
   ]
  },
  {
   "cell_type": "code",
   "execution_count": 38,
   "metadata": {},
   "outputs": [
    {
     "name": "stdout",
     "output_type": "stream",
     "text": [
      "501\n"
     ]
    }
   ],
   "source": [
    "# shift inverse\n",
    "maxid = max(reldic.values())+1\n",
    "print maxid\n",
    "newreldic = [(k, v) for k, v in reldic.items()]   # copy\n",
    "newreldic += [(\"-\"+k, v+maxid) for k, v in reldic.items()] # extend with inverse\n",
    "newreldic = dict(newreldic)"
   ]
  },
  {
   "cell_type": "code",
   "execution_count": 39,
   "metadata": {},
   "outputs": [
    {
     "name": "stderr",
     "output_type": "stream",
     "text": [
      "/home/denis/dev/semdev/pandas/pandas/core/generic.py:2306: SettingWithCopyWarning: \n",
      "A value is trying to be set on a copy of a slice from a DataFrame.\n",
      "Try using .loc[row_indexer,col_indexer] = value instead\n",
      "\n",
      "See the caveats in the documentation: http://pandas.pydata.org/pandas-docs/stable/indexing.html#indexing-view-versus-copy\n",
      "  self[name] = value\n"
     ]
    }
   ],
   "source": [
    "# reindex inverse\n",
    "allrels\n",
    "allrelsnewinv = allrels[allrels.d == \"R\"]\n",
    "allrelsnewinv.r += maxid\n",
    "allrelsnew = pd.concat([allrels[allrels.d == \"F\"][[\"e\",\"r\"]], allrelsnewinv[[\"e\",\"r\"]]])"
   ]
  },
  {
   "cell_type": "code",
   "execution_count": 41,
   "metadata": {},
   "outputs": [],
   "source": [
    "#allrelsnew"
   ]
  },
  {
   "cell_type": "code",
   "execution_count": 42,
   "metadata": {},
   "outputs": [],
   "source": [
    "# shift after entities\n",
    "maxid = max(entdic.values())+1\n",
    "idxrelstart = maxid\n",
    "newreldicshift = {k: v+maxid for k, v in newreldic.items()}\n",
    "#reindex after entities\n",
    "allrelsnew.r += maxid"
   ]
  },
  {
   "cell_type": "code",
   "execution_count": 44,
   "metadata": {},
   "outputs": [],
   "source": [
    "#allrelsnew"
   ]
  },
  {
   "cell_type": "code",
   "execution_count": 45,
   "metadata": {},
   "outputs": [],
   "source": [
    "# shift type dic after entities and rels and reindex\n",
    "maxid = max(newreldicshift.values()) + 1\n",
    "idxtypstart = maxid\n",
    "newtypdicshift = {k: v + maxid for k, v in typdic.items()}\n",
    "newenttypshift = enttypesdf.copy()\n",
    "newenttypshift.t += maxid"
   ]
  },
  {
   "cell_type": "code",
   "execution_count": 49,
   "metadata": {},
   "outputs": [],
   "source": [
    "revtypdicshift = {v: k for k, v in newtypdicshift.items()}\n",
    "\n",
    "tslice = newenttypshift[0:500]\n",
    "for _, row in tslice.iterrows():\n",
    "    pass\n",
    "    #print reventdic[row.e], revtypdicshift[row.t]"
   ]
  },
  {
   "cell_type": "code",
   "execution_count": 50,
   "metadata": {},
   "outputs": [],
   "source": [
    "fulldic = entdic.copy()\n",
    "fulldic.update(newreldicshift)\n",
    "fulldic.update(newtypdicshift)"
   ]
  },
  {
   "cell_type": "code",
   "execution_count": 51,
   "metadata": {},
   "outputs": [
    {
     "data": {
      "text/plain": [
       "(12428, 12428)"
      ]
     },
     "execution_count": 51,
     "output_type": "execute_result",
     "metadata": {}
    }
   ],
   "source": [
    "len(fulldic), len(entdic) + len(newreldicshift) + len(newtypdicshift)"
   ]
  },
  {
   "cell_type": "code",
   "execution_count": 52,
   "metadata": {},
   "outputs": [],
   "source": [
    "revfulldic = {v: k for k, v in fulldic.items()}"
   ]
  },
  {
   "cell_type": "markdown",
   "metadata": {},
   "source": [
    "to save:"
   ]
  },
  {
   "cell_type": "code",
   "execution_count": 53,
   "metadata": {},
   "outputs": [
    {
     "data": {
      "text/plain": [
       "11298"
      ]
     },
     "execution_count": 53,
     "output_type": "execute_result",
     "metadata": {}
    }
   ],
   "source": [
    "len(fulldic) # for frontal slices\n",
    "len(reldic)  # for depth indexing\n",
    "idxtypstart\n",
    "idxrelstart"
   ]
  },
  {
   "cell_type": "markdown",
   "metadata": {},
   "source": [
    "## Actually building tensor"
   ]
  },
  {
   "cell_type": "code",
   "execution_count": 56,
   "metadata": {},
   "outputs": [],
   "source": [
    "# sources: triples, allrels, types\n",
    "newenttypshift.columns = [\"e\", \"r\"]\n",
    "allrelsandtypes = pd.concat([allrelsnew, newenttypshift])"
   ]
  },
  {
   "cell_type": "code",
   "execution_count": 57,
   "metadata": {},
   "outputs": [],
   "source": [
    "# take triples, replace \"o\" with all relations (from allrels) that \"o\" has\n",
    "transfwd = triples.merge(allrelsandtypes, left_on=\"o\", right_on=\"e\")\n",
    "transfwd.drop([\"e\"], axis=1, inplace=True)"
   ]
  },
  {
   "cell_type": "code",
   "execution_count": 74,
   "metadata": {},
   "outputs": [],
   "source": [
    "tslice = transfwd[:20]\n",
    "for i, row in tslice.iterrows():\n",
    "    pass\n",
    "    #print revfulldic[row.s], revreldic[row.r_x], revfulldic[row.o], revfulldic[row.r_y]"
   ]
  },
  {
   "cell_type": "code",
   "execution_count": 63,
   "metadata": {},
   "outputs": [],
   "source": [
    "transfwduop = transfwd.groupby([\"s\",\"r_x\", \"r_y\"]).agg({\"o\": pd.Series.nunique})\n",
    "transfwduo = transfwd[[\"s\",\"r_x\",\"o\"]].groupby([\"s\",\"r_x\"]).agg({\"o\": pd.Series.nunique})"
   ]
  },
  {
   "cell_type": "code",
   "execution_count": 64,
   "metadata": {},
   "outputs": [],
   "source": [
    "transfwduo = transfwduo.reset_index()\n",
    "transfwduop = transfwduop.reset_index()"
   ]
  },
  {
   "cell_type": "code",
   "execution_count": 65,
   "metadata": {},
   "outputs": [],
   "source": [
    "transfwdu = transfwduop.merge(transfwduo, left_on=[\"s\",\"r_x\"], right_on=[\"s\",\"r_x\"])\n",
    "transfwduf = transfwdu.copy()\n",
    "transfwduf[\"o\"] = transfwdu[\"o_x\"] / transfwdu[\"o_y\"]\n",
    "transfwduf.drop([\"o_x\", \"o_y\"], axis=1, inplace=True)"
   ]
  },
  {
   "cell_type": "code",
   "execution_count": 75,
   "metadata": {},
   "outputs": [
    {
     "name": "stdout",
     "output_type": "stream",
     "text": [
      "[  4  27  14  26  31  56  75  90  45 409]\n"
     ]
    }
   ],
   "source": [
    "print transfwduf.r_x.unique()\n",
    "\n",
    "tslice = transfwduf[:20]\n",
    "for i, row in tslice.iterrows():\n",
    "    pass\n",
    "    #print revfulldic[row.s], revreldic[row.r_x], revfulldic[row.r_y], row.o"
   ]
  },
  {
   "cell_type": "code",
   "execution_count": 71,
   "metadata": {},
   "outputs": [],
   "source": [
    "transrev = triples.merge(allrelsandtypes, left_on=\"s\", right_on=\"e\")\n",
    "transrev.drop([\"e\"], axis=1, inplace=True)"
   ]
  },
  {
   "cell_type": "code",
   "execution_count": 100,
   "metadata": {},
   "outputs": [
    {
     "name": "stdout",
     "output_type": "stream",
     "text": [
      "[ 31  26  14  56  90  75   4  27 409  45]\n"
     ]
    }
   ],
   "source": [
    "print transrev.r_x.unique()\n",
    "\n",
    "tslice = transrev[:20]\n",
    "for i, row in tslice.iterrows():\n",
    "    pass\n",
    "    #print revfulldic[row.o], revreldic[row.r_x], revfulldic[row.s], revfulldic[row.r_y]"
   ]
  },
  {
   "cell_type": "code",
   "execution_count": 77,
   "metadata": {},
   "outputs": [],
   "source": [
    "transrevuop = transrev.groupby([\"o\",\"r_x\", \"r_y\"]).agg({\"s\": pd.Series.nunique})\n",
    "transrevuo = transrev[[\"s\",\"r_x\",\"o\"]].groupby([\"o\",\"r_x\"]).agg({\"s\": pd.Series.nunique})\n",
    "transrevuo = transrevuo.reset_index()\n",
    "transrevuop = transrevuop.reset_index()"
   ]
  },
  {
   "cell_type": "code",
   "execution_count": 101,
   "metadata": {},
   "outputs": [
    {
     "name": "stdout",
     "output_type": "stream",
     "text": [
      "[ 45  27  31  14  26  75  90  56   4 409]\n"
     ]
    }
   ],
   "source": [
    "print transrevuop.r_x.unique()\n",
    "\n",
    "tslice = transrevuop[:20]\n",
    "for i, row in tslice.iterrows():\n",
    "    pass\n",
    "    #print revfulldic[row.o], revreldic[row.r_x], revfulldic[row.r_y], row.s\n",
    "\n",
    "#transrevuo"
   ]
  },
  {
   "cell_type": "code",
   "execution_count": 93,
   "metadata": {},
   "outputs": [],
   "source": [
    "transrevu = transrevuop.merge(transrevuo, left_on=[\"o\",\"r_x\"], right_on=[\"o\",\"r_x\"])\n",
    "transrevuf = transrevu.copy()\n",
    "transrevuf[\"s\"] = transrevu[\"s_x\"] / transrevu[\"s_y\"]\n",
    "transrevuf.drop([\"s_x\", \"s_y\"], axis=1, inplace=True)\n",
    "transrevuf = transrevuf[[\"r_y\", \"r_x\", \"o\", \"s\"]]"
   ]
  },
  {
   "cell_type": "code",
   "execution_count": 102,
   "metadata": {},
   "outputs": [
    {
     "name": "stdout",
     "output_type": "stream",
     "text": [
      "[ 45  27  31  14  26  75  90  56   4 409]\n"
     ]
    }
   ],
   "source": [
    "print transrevuf.r_x.unique()\n",
    "\n",
    "tslice = transrevuf[:20]\n",
    "for i, row in tslice.iterrows():\n",
    "    pass\n",
    "    #print revfulldic[row.o], revreldic[row.r_x], revfulldic[row.r_y], row.s"
   ]
  },
  {
   "cell_type": "code",
   "execution_count": null,
   "metadata": {},
   "outputs": [],
   "source": [
    ""
   ]
  },
  {
   "cell_type": "code",
   "execution_count": 99,
   "metadata": {},
   "outputs": [
    {
     "name": "stdout",
     "output_type": "stream",
     "text": [
      "Index([u's', u'r_x', u'r_y', u'o'], dtype='object')\n",
      "Index([u'r_y', u'r_x', u'o', u's'], dtype='object')\n"
     ]
    }
   ],
   "source": [
    "print transfwduf.columns\n",
    "print transrevuf.columns"
   ]
  },
  {
   "cell_type": "code",
   "execution_count": 55,
   "metadata": {},
   "outputs": [],
   "source": [
    "# to save: \n",
    "# transrevuf, transfwduf, fulldic, reldic, idxtypstart, idxrelstart"
   ]
  },
  {
   "cell_type": "markdown",
   "metadata": {},
   "source": [
    "## SAVE EVERYTHING"
   ]
  },
  {
   "cell_type": "code",
   "execution_count": 56,
   "metadata": {},
   "outputs": [],
   "source": [
    "# tosave = {\"xydic\": fulldic, \"zdic\": reldic, \"xytypsplit\": idxtypstart, \"xyrelsplit\": idxrelstart, \"tensor\": fulltensor}"
   ]
  },
  {
   "cell_type": "code",
   "execution_count": null,
   "metadata": {},
   "outputs": [],
   "source": [
    ""
   ]
  },
  {
   "cell_type": "code",
   "execution_count": 130,
   "metadata": {},
   "outputs": [],
   "source": [
    "fulltensorp1 = transfwduf.copy()\n",
    "fulltensorp1.columns = [\"x\",\"z\",\"y\",\"v\"]\n",
    "fulltensorp2 = transrevuf.copy()\n",
    "fulltensorp2.columns = [\"x\",\"z\",\"y\",\"v\"]\n",
    "fulltensor = pd.concat([fulltensorp1, fulltensorp2], axis=0)\n",
    "fulltensor = fulltensor.reset_index(drop=True)"
   ]
  },
  {
   "cell_type": "code",
   "execution_count": 139,
   "metadata": {},
   "outputs": [
    {
     "name": "stdout",
     "output_type": "stream",
     "text": [
      "1760974\n",
      "1739932\n"
     ]
    }
   ],
   "source": [
    "print len(fulltensor)\n",
    "# drop some properties\n",
    "def retainfun(x):\n",
    "    if x in map(lambda y: fulldic[y], [\n",
    "        \"http://www.w3.org/1999/02/22-rdf-syntax-ns#type\",\n",
    "        \"http://www.w3.org/2000/01/rdf-schema#seeAlso\",\n",
    "        \"http://dbpedia.org/property/caption\",\n",
    "        \"http://dbpedia.org/ontology/type\",\n",
    "        \"http://xmlns.com/foaf/0.1/homepage\",\n",
    "        \"-http://www.w3.org/2000/01/rdf-schema#seeAlso\",\n",
    "        \"-http://dbpedia.org/property/imageCaption\",\n",
    "        \"http://dbpedia.org/property/imageCaption\",\n",
    "        \"http://dbpedia.org/property/imageSize\",\n",
    "        \"http://dbpedia.org/property/imagesize\",\n",
    "        \"http://www.w3.org/2002/07/owl#differentFrom\",\n",
    "    ]):\n",
    "        return False\n",
    "    return True\n",
    "\n",
    "fil = fulltensor.y.map(retainfun)\n",
    "fulltensor = fulltensor[fil]\n",
    "print len(fulltensor)"
   ]
  },
  {
   "cell_type": "code",
   "execution_count": 140,
   "metadata": {},
   "outputs": [],
   "source": [
    "for qsdf in reldic.keys():\n",
    "    pass\n",
    "    #print qsdf"
   ]
  },
  {
   "cell_type": "code",
   "execution_count": 143,
   "metadata": {},
   "outputs": [],
   "source": [
    "# save fulltensor as .ssd\n",
    "with open(\"fulltensor.ssd\", \"w\") as outf:\n",
    "    for row in fulltensor.iterrows():\n",
    "        row = row[1]\n",
    "        outf.write(\"%d %d %d %f\\n\" % (row.z, row.x, row.y, row.v))"
   ]
  },
  {
   "cell_type": "code",
   "execution_count": 142,
   "metadata": {},
   "outputs": [],
   "source": [
    "# save the company for the tensor\n",
    "with open(\"fulltensor.apx.pkl\", \"w\") as outf:\n",
    "    pickle.dump({\"xydic\": fulldic, \"zdic\": reldic, \"xytypsplit\": idxtypstart, \"xyrelsplit\": idxrelstart}, outf)"
   ]
  },
  {
   "cell_type": "markdown",
   "metadata": {},
   "source": [
    "## PLAY WITH DATA"
   ]
  },
  {
   "cell_type": "code",
   "execution_count": 141,
   "metadata": {},
   "outputs": [
    {
     "name": "stdout",
     "output_type": "stream",
     "text": [
      "[  4  27  14  26  31  56  75  90  45 409]\n",
      "http://dbpedia.org/resource/Larry_Peerce http://dbpedia.org/ontology/birthPlace http://xmlns.com/foaf/0.1/name 1.0\n",
      "http://dbpedia.org/resource/Larry_Peerce http://dbpedia.org/ontology/birthPlace http://dbpedia.org/property/name 0.666666666667\n",
      "http://dbpedia.org/resource/Larry_Peerce http://dbpedia.org/ontology/birthPlace http://dbpedia.org/property/title 0.333333333333\n",
      "http://dbpedia.org/resource/Larry_Peerce http://dbpedia.org/ontology/birthPlace http://dbpedia.org/ontology/country 0.666666666667\n",
      "http://dbpedia.org/resource/Larry_Peerce http://dbpedia.org/ontology/birthPlace http://dbpedia.org/ontology/isPartOf 0.666666666667\n",
      "http://dbpedia.org/resource/Larry_Peerce http://dbpedia.org/ontology/birthPlace http://dbpedia.org/property/subdivisionName 0.666666666667\n",
      "http://dbpedia.org/resource/Larry_Peerce http://dbpedia.org/ontology/birthPlace http://dbpedia.org/property/country 0.333333333333\n",
      "http://dbpedia.org/resource/Larry_Peerce http://dbpedia.org/ontology/birthPlace http://www.georss.org/georss/point 1.0\n",
      "http://dbpedia.org/resource/Larry_Peerce http://dbpedia.org/ontology/birthPlace http://www.w3.org/2003/01/geo/wgs84_pos#lat 1.0\n",
      "http://dbpedia.org/resource/Larry_Peerce http://dbpedia.org/ontology/birthPlace http://www.w3.org/2003/01/geo/wgs84_pos#long 1.0\n",
      "http://dbpedia.org/resource/Larry_Peerce http://dbpedia.org/ontology/birthPlace http://dbpedia.org/property/city 0.333333333333\n",
      "http://dbpedia.org/resource/Larry_Peerce http://dbpedia.org/ontology/birthPlace http://dbpedia.org/ontology/populationTotal 1.0\n",
      "http://dbpedia.org/resource/Larry_Peerce http://dbpedia.org/ontology/birthPlace http://dbpedia.org/property/website 0.666666666667\n",
      "http://dbpedia.org/resource/Larry_Peerce http://dbpedia.org/ontology/birthPlace http://dbpedia.org/property/longd 1.0\n",
      "http://dbpedia.org/resource/Larry_Peerce http://dbpedia.org/ontology/birthPlace http://dbpedia.org/property/latd 1.0\n",
      "http://dbpedia.org/resource/Larry_Peerce http://dbpedia.org/ontology/birthPlace http://dbpedia.org/ontology/areaCode 0.666666666667\n",
      "http://dbpedia.org/resource/Larry_Peerce http://dbpedia.org/ontology/birthPlace http://dbpedia.org/ontology/postalCode 0.666666666667\n",
      "http://dbpedia.org/resource/Larry_Peerce http://dbpedia.org/ontology/birthPlace http://dbpedia.org/ontology/areaTotal 1.0\n",
      "http://dbpedia.org/resource/Larry_Peerce http://dbpedia.org/ontology/birthPlace http://dbpedia.org/property/utcOffset 1.0\n",
      "http://dbpedia.org/resource/Larry_Peerce http://dbpedia.org/ontology/birthPlace http://dbpedia.org/property/timezone 0.666666666667\n",
      "http://dbpedia.org/resource/Larry_Peerce http://dbpedia.org/ontology/birthPlace http://dbpedia.org/property/populationAsOf 0.666666666667\n",
      "http://dbpedia.org/resource/Larry_Peerce http://dbpedia.org/ontology/birthPlace http://dbpedia.org/property/subdivisionType 0.666666666667\n",
      "http://dbpedia.org/resource/Larry_Peerce http://dbpedia.org/ontology/birthPlace http://dbpedia.org/property/longm 0.666666666667\n",
      "http://dbpedia.org/resource/Larry_Peerce http://dbpedia.org/ontology/birthPlace http://dbpedia.org/property/latm 0.666666666667\n",
      "http://dbpedia.org/resource/Larry_Peerce http://dbpedia.org/ontology/birthPlace http://dbpedia.org/ontology/timeZone 0.666666666667\n",
      "http://dbpedia.org/resource/Larry_Peerce http://dbpedia.org/ontology/birthPlace http://dbpedia.org/property/officialName 0.666666666667\n",
      "http://dbpedia.org/resource/Larry_Peerce http://dbpedia.org/ontology/birthPlace http://dbpedia.org/property/longew 1.0\n",
      "http://dbpedia.org/resource/Larry_Peerce http://dbpedia.org/ontology/birthPlace http://dbpedia.org/property/latns 1.0\n",
      "http://dbpedia.org/resource/Larry_Peerce http://dbpedia.org/ontology/birthPlace http://dbpedia.org/property/populationTotal 0.666666666667\n",
      "http://dbpedia.org/resource/Larry_Peerce http://dbpedia.org/ontology/birthPlace http://dbpedia.org/property/settlementType 0.666666666667\n",
      "http://dbpedia.org/resource/Larry_Peerce http://dbpedia.org/ontology/birthPlace http://dbpedia.org/property/areaCode 0.666666666667\n",
      "http://dbpedia.org/resource/Larry_Peerce http://dbpedia.org/ontology/birthPlace http://dbpedia.org/property/postalCode 0.666666666667\n",
      "http://dbpedia.org/resource/Larry_Peerce http://dbpedia.org/ontology/birthPlace http://dbpedia.org/ontology/utcOffset 0.666666666667\n",
      "http://dbpedia.org/resource/Larry_Peerce http://dbpedia.org/ontology/birthPlace http://dbpedia.org/property/imageMap 1.0\n",
      "http://dbpedia.org/resource/Larry_Peerce http://dbpedia.org/ontology/birthPlace http://dbpedia.org/ontology/elevation 0.333333333333\n",
      "http://dbpedia.org/resource/Larry_Peerce http://dbpedia.org/ontology/birthPlace http://dbpedia.org/property/mapCaption 1.0\n",
      "http://dbpedia.org/resource/Larry_Peerce http://dbpedia.org/ontology/birthPlace http://dbpedia.org/property/utcOffsetDst 0.666666666667\n",
      "http://dbpedia.org/resource/Larry_Peerce http://dbpedia.org/ontology/birthPlace http://dbpedia.org/property/leaderName 1.0\n",
      "http://dbpedia.org/resource/Larry_Peerce http://dbpedia.org/ontology/birthPlace http://dbpedia.org/property/postalCodeType 0.666666666667\n",
      "http://dbpedia.org/resource/Larry_Peerce http://dbpedia.org/ontology/birthPlace http://dbpedia.org/property/coordinatesDisplay 0.333333333333\n",
      "http://dbpedia.org/resource/Larry_Peerce http://dbpedia.org/ontology/birthPlace http://dbpedia.org/property/leaderTitle 1.0\n",
      "http://dbpedia.org/resource/Larry_Peerce http://dbpedia.org/ontology/birthPlace http://dbpedia.org/property/populationDensityKm 0.333333333333\n",
      "http://dbpedia.org/resource/Larry_Peerce http://dbpedia.org/ontology/birthPlace http://dbpedia.org/ontology/leaderTitle 1.0\n",
      "http://dbpedia.org/resource/Larry_Peerce http://dbpedia.org/ontology/birthPlace http://dbpedia.org/property/timezoneDst 0.333333333333\n",
      "http://dbpedia.org/resource/Larry_Peerce http://dbpedia.org/ontology/birthPlace http://dbpedia.org/property/imageSkyline 0.666666666667\n",
      "http://dbpedia.org/resource/Larry_Peerce http://dbpedia.org/ontology/birthPlace http://dbpedia.org/property/establishedDate 1.0\n",
      "http://dbpedia.org/resource/Larry_Peerce http://dbpedia.org/ontology/birthPlace http://dbpedia.org/property/elevationM 0.333333333333\n",
      "http://dbpedia.org/resource/Larry_Peerce http://dbpedia.org/ontology/birthPlace http://dbpedia.org/ontology/areaLand 0.666666666667\n",
      "http://dbpedia.org/resource/Larry_Peerce http://dbpedia.org/ontology/birthPlace http://dbpedia.org/property/longs 0.333333333333\n",
      "http://dbpedia.org/resource/Larry_Peerce http://dbpedia.org/ontology/birthPlace http://dbpedia.org/property/lats 0.333333333333\n"
     ]
    }
   ],
   "source": [
    "print fulltensor.z.unique()\n",
    "\n",
    "tslice = fulltensor[:50]\n",
    "for i, row in tslice.iterrows():\n",
    "    pass\n",
    "    print revfulldic[row.x], revreldic[row.z], revfulldic[row.y], row.v"
   ]
  },
  {
   "cell_type": "code",
   "execution_count": null,
   "metadata": {},
   "outputs": [],
   "source": [
    ""
   ]
  },
  {
   "cell_type": "code",
   "execution_count": null,
   "metadata": {},
   "outputs": [],
   "source": [
    ""
   ]
  },
  {
   "cell_type": "code",
   "execution_count": null,
   "metadata": {},
   "outputs": [],
   "source": [
    ""
   ]
  }
 ],
 "metadata": {
  "kernelspec": {
   "display_name": "Python 2",
   "language": "python",
   "name": "python2"
  },
  "language_info": {
   "codemirror_mode": {
    "name": "ipython",
    "version": 2.0
   },
   "file_extension": ".py",
   "mimetype": "text/x-python",
   "name": "python",
   "nbconvert_exporter": "python",
   "pygments_lexer": "ipython2",
   "version": "2.7.6"
  }
 },
 "nbformat": 4,
 "nbformat_minor": 0
}