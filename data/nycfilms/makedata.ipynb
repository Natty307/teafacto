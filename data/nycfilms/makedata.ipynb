{
 "cells": [
  {
   "cell_type": "code",
   "execution_count": 4,
   "metadata": {
    "collapsed": true
   },
   "outputs": [],
   "source": [
    "import pickle\n",
    "import pandas as pd\n",
    "import numpy as np\n",
    "import re"
   ]
  },
  {
   "cell_type": "markdown",
   "metadata": {},
   "source": [
    "### Load data"
   ]
  },
  {
   "cell_type": "code",
   "execution_count": 5,
   "metadata": {
    "collapsed": true
   },
   "outputs": [],
   "source": [
    "entdicf = \"entdic3hops.pkl\"\n",
    "reldicf = \"reldic3hops.pkl\"\n",
    "triplesf = \"triples3hops.pd.pkl\"\n",
    "allrelsf = \"allrel3hops.pd.pkl\"\n",
    "typesf = \"../dbpedia/dbpcore.nt.types.dok\"\n",
    "bigentdicf = \"../dbpedia/dbpcore.nt.entdic.ssd\""
   ]
  },
  {
   "cell_type": "code",
   "execution_count": 6,
   "metadata": {
    "collapsed": false
   },
   "outputs": [],
   "source": [
    "entdic = pickle.load(open(entdicf))\n",
    "reldic = pickle.load(open(reldicf))\n",
    "triples = pickle.load(open(triplesf))\n",
    "allrels = pickle.load(open(allrelsf))\n",
    "reventdic = {v: k for k, v in entdic.items()}"
   ]
  },
  {
   "cell_type": "code",
   "execution_count": 22,
   "metadata": {
    "collapsed": false
   },
   "outputs": [
    {
     "name": "stdout",
     "output_type": "stream",
     "text": [
      "big entity dict loaded\n"
     ]
    },
    {
     "data": {
      "text/plain": [
       "'bigreldic = loadDic(bigreldicf)\\nprint \"big relation dict loaded\"'"
      ]
     },
     "execution_count": 22,
     "metadata": {},
     "output_type": "execute_result"
    }
   ],
   "source": [
    "# load dictionaries\n",
    "def loadDic(entdicf):\n",
    "    entdic = {}\n",
    "    for line in open(entdicf):\n",
    "        splits = line.split(\" \")\n",
    "        entdic[splits[0]] = int(splits[1])\n",
    "    return entdic\n",
    "\n",
    "# load big dictionaries\n",
    "bigentdic = loadDic(bigentdicf)\n",
    "print \"big entity dict loaded\"\n",
    "'''bigreldic = loadDic(bigreldicf)\n",
    "print \"big relation dict loaded\"'''"
   ]
  },
  {
   "cell_type": "markdown",
   "metadata": {},
   "source": [
    "### Direct compatibility data"
   ]
  },
  {
   "cell_type": "code",
   "execution_count": 31,
   "metadata": {
    "collapsed": false
   },
   "outputs": [],
   "source": [
    "direct_forward = allrels[allrels.d == \"F\"][[\"e\",\"r\"]].drop_duplicates()\n",
    "direct_reverse = allrels[allrels.d == \"R\"][[\"e\",\"r\"]].drop_duplicates()"
   ]
  },
  {
   "cell_type": "code",
   "execution_count": null,
   "metadata": {
    "collapsed": false
   },
   "outputs": [],
   "source": []
  },
  {
   "cell_type": "code",
   "execution_count": 32,
   "metadata": {
    "collapsed": false
   },
   "outputs": [],
   "source": [
    "# save\n",
    "outdf = open(\"direct_forward.ssd\", \"w\")\n",
    "for _, row in direct_forward.iterrows():\n",
    "    outdf.write(\"%d %d\\n\" % (row[\"e\"], row[\"r\"]))\n",
    "outdf.close()\n",
    "outdf = open(\"direct_reverse.ssd\", \"w\")\n",
    "for _, row in direct_reverse.iterrows():\n",
    "    outdf.write(\"%d %d\\n\" % (row[\"e\"], row[\"r\"]))\n",
    "outdf.close()"
   ]
  },
  {
   "cell_type": "markdown",
   "metadata": {},
   "source": [
    "### Type data"
   ]
  },
  {
   "cell_type": "code",
   "execution_count": 20,
   "metadata": {
    "collapsed": false
   },
   "outputs": [],
   "source": [
    "allents = entdic.keys()"
   ]
  },
  {
   "cell_type": "code",
   "execution_count": 23,
   "metadata": {
    "collapsed": false
   },
   "outputs": [],
   "source": [
    "allentbidxs = set(map(lambda x: bigentdic[x], allents))"
   ]
  },
  {
   "cell_type": "code",
   "execution_count": 24,
   "metadata": {
    "collapsed": false
   },
   "outputs": [
    {
     "name": "stdout",
     "output_type": "stream",
     "text": [
      "1000000\n",
      "2000000\n",
      "3000000\n",
      "4000000\n",
      "5000000\n",
      "6000000\n",
      "7000000\n"
     ]
    }
   ],
   "source": [
    "# go through the types file\n",
    "enttypes = {}\n",
    "c = 0\n",
    "typesused = set()\n",
    "for line in open(typesf):\n",
    "    c += 1\n",
    "    if c % 1000000 == 0:\n",
    "        print c\n",
    "    ns = [int(x) for x in line.split(\" \")]\n",
    "    if len(ns) == 2 and ns[0] in allentbidxs:\n",
    "        if ns[0] not in enttypes:\n",
    "            enttypes[ns[0]] = set()\n",
    "        enttypes[ns[0]].add(ns[1])\n",
    "        typesused.add(ns[1])\n",
    "        "
   ]
  },
  {
   "cell_type": "code",
   "execution_count": 25,
   "metadata": {
    "collapsed": false
   },
   "outputs": [],
   "source": [
    "revbigentdic = {v: k for k, v in bigentdic.items()}"
   ]
  },
  {
   "cell_type": "code",
   "execution_count": 26,
   "metadata": {
    "collapsed": false
   },
   "outputs": [],
   "source": [
    "ntypesused = map(lambda x: revbigentdic[x], typesused)\n",
    "ntypesused = sorted(ntypesused)\n",
    "ntypesidx = range(max(reldic.values())+1, max(reldic.values())+1+len(ntypesused))\n",
    "ntypesdic = dict(zip(ntypesused, ntypesidx))"
   ]
  },
  {
   "cell_type": "code",
   "execution_count": null,
   "metadata": {
    "collapsed": false
   },
   "outputs": [],
   "source": []
  },
  {
   "cell_type": "markdown",
   "metadata": {},
   "source": [
    "reindex types"
   ]
  },
  {
   "cell_type": "code",
   "execution_count": 27,
   "metadata": {
    "collapsed": false
   },
   "outputs": [],
   "source": [
    "def maketypelist(enttypes):\n",
    "    for et in enttypes.items():\n",
    "        for v in et[1]:\n",
    "            yield (et[0], v)\n",
    "\n",
    "nenttypes = [i for i in maketypelist(enttypes)]\n",
    "enttypesdf = pd.DataFrame(nenttypes)\n",
    "enttypesdf.columns = [\"e\", \"t\"]\n",
    "enttypesdf[\"e\"] = enttypesdf[\"e\"].map(lambda x: entdic[revbigentdic[x]])\n",
    "enttypesdf[\"t\"] = enttypesdf[\"t\"].map(lambda x: ntypesdic[revbigentdic[x]])"
   ]
  },
  {
   "cell_type": "code",
   "execution_count": null,
   "metadata": {
    "collapsed": false
   },
   "outputs": [],
   "source": []
  },
  {
   "cell_type": "code",
   "execution_count": 28,
   "metadata": {
    "collapsed": false
   },
   "outputs": [],
   "source": [
    "# save\n",
    "outtypesf = open(\"types.ssd\",\"w\")\n",
    "for _, row in enttypesdf.iterrows():\n",
    "    outtypesf.write(\"%d %d\\n\" % (row[\"e\"], row[\"t\"]))"
   ]
  },
  {
   "cell_type": "markdown",
   "metadata": {},
   "source": [
    "## Trans compatibility data"
   ]
  },
  {
   "cell_type": "markdown",
   "metadata": {
    "collapsed": false
   },
   "source": [
    "### Trans forward"
   ]
  },
  {
   "cell_type": "code",
   "execution_count": 176,
   "metadata": {
    "collapsed": false
   },
   "outputs": [
    {
     "data": {
      "text/html": [
       "<div>\n",
       "<table border=\"1\" class=\"dataframe\">\n",
       "  <thead>\n",
       "    <tr style=\"text-align: right;\">\n",
       "      <th></th>\n",
       "      <th>e</th>\n",
       "      <th>t</th>\n",
       "    </tr>\n",
       "  </thead>\n",
       "  <tbody>\n",
       "    <tr>\n",
       "      <th>13735</th>\n",
       "      <td>9105</td>\n",
       "      <td>535</td>\n",
       "    </tr>\n",
       "  </tbody>\n",
       "</table>\n",
       "</div>"
      ],
      "text/plain": [
       "          e    t\n",
       "13735  9105  535"
      ]
     },
     "execution_count": 176,
     "metadata": {},
     "output_type": "execute_result"
    }
   ],
   "source": [
    "enttypesdf[enttypesdf.e == 9105]"
   ]
  },
  {
   "cell_type": "code",
   "execution_count": 180,
   "metadata": {
    "collapsed": true
   },
   "outputs": [],
   "source": [
    "def relc(direct, types=None):\n",
    "    def mapper(eids):\n",
    "        acc = []\n",
    "        for eid in eids:\n",
    "            ret = []\n",
    "            # relations using the direct dataframe\n",
    "            rels = set(direct.ix[direct.e == eid, \"r\"].values.flat)\n",
    "            ret += list(rels)\n",
    "            # types\n",
    "            if types is not None:\n",
    "                typs = set(types.ix[types.e == eid, \"t\"].values.flat)\n",
    "                ret += list(typs)\n",
    "            acc += ret\n",
    "        rdic = {}\n",
    "        for rete in acc:\n",
    "            if rete not in rdic:\n",
    "                rdic[rete] = 0\n",
    "            rdic[rete] += 1\n",
    "        for k in rdic:\n",
    "            rdic[k] *= 1./len(eids)\n",
    "        return rdic\n",
    "    return mapper\n",
    "        "
   ]
  },
  {
   "cell_type": "code",
   "execution_count": null,
   "metadata": {
    "collapsed": false
   },
   "outputs": [],
   "source": []
  },
  {
   "cell_type": "code",
   "execution_count": 181,
   "metadata": {
    "collapsed": false
   },
   "outputs": [],
   "source": [
    "tf = triples.groupby([\"s\", \"r\"]).agg(lambda x: set(x.values)).reset_index() # triples has small indexes"
   ]
  },
  {
   "cell_type": "code",
   "execution_count": 182,
   "metadata": {
    "collapsed": false
   },
   "outputs": [],
   "source": [
    "tff = pd.DataFrame(columns=[\"s\", \"r\", \"o\"])\n",
    "tff[\"s\"] = tf[\"s\"]\n",
    "tff[\"r\"] = tf[\"r\"]\n",
    "tff[\"o\"] = tf[\"o\"].map(relc(direct_forward, enttypesdf))"
   ]
  },
  {
   "cell_type": "code",
   "execution_count": 183,
   "metadata": {
    "collapsed": false
   },
   "outputs": [],
   "source": [
    "tffof = open(\"trans_fwd_fwd.ssd\",\"w\")\n",
    "for _, row in tff.iterrows():\n",
    "    s = row[\"s\"]\n",
    "    r = row[\"r\"]\n",
    "    for oe in row[\"o\"]:\n",
    "        tffof.write(\"%d %d %d %f\\n\" % (s, r, oe, row[\"o\"][oe]))"
   ]
  },
  {
   "cell_type": "code",
   "execution_count": 184,
   "metadata": {
    "collapsed": false
   },
   "outputs": [],
   "source": [
    "tfr = pd.DataFrame(columns=[\"s\", \"r\", \"o\"])\n",
    "tfr[\"s\"] = tf[\"s\"]\n",
    "tfr[\"r\"] = tf[\"r\"]\n",
    "tfr[\"o\"] = tf[\"o\"].map(relc(direct_reverse))"
   ]
  },
  {
   "cell_type": "code",
   "execution_count": 185,
   "metadata": {
    "collapsed": true
   },
   "outputs": [],
   "source": [
    "tfrof = open(\"trans_fwd_rev.ssd\",\"w\")\n",
    "for _, row in tfr.iterrows():\n",
    "    s = row[\"s\"]\n",
    "    r = row[\"r\"]\n",
    "    for oe in row[\"o\"]:\n",
    "        tfrof.write(\"%d %d %d %f\\n\" % (s, r, oe, row[\"o\"][oe]))"
   ]
  },
  {
   "cell_type": "code",
   "execution_count": 186,
   "metadata": {
    "collapsed": false
   },
   "outputs": [],
   "source": [
    "tr = triples.groupby([\"o\", \"r\"]).agg(lambda x: set(x.values)).reset_index()"
   ]
  },
  {
   "cell_type": "code",
   "execution_count": 187,
   "metadata": {
    "collapsed": false
   },
   "outputs": [],
   "source": [
    "# forward rel and type counts\n",
    "trf = pd.DataFrame(columns=[\"o\",\"r\",\"s\"])\n",
    "trf[\"o\"] = tr[\"o\"]\n",
    "trf[\"r\"] = tr[\"r\"]\n",
    "trf[\"s\"] = tr[\"s\"].map(relc(direct_forward, enttypesdf))"
   ]
  },
  {
   "cell_type": "code",
   "execution_count": 188,
   "metadata": {
    "collapsed": false
   },
   "outputs": [],
   "source": [
    "# save trans reverse forward\n",
    "trfof = open(\"trans_rev_fwd.ssd\", \"w\")\n",
    "for _, row in trf.iterrows():\n",
    "    o = row[\"o\"]\n",
    "    r = row[\"r\"]\n",
    "    for se in row[\"s\"]:\n",
    "        trfof.write(\"%d %d %d %f\\n\" % (o, r, se, row[\"s\"][se]))"
   ]
  },
  {
   "cell_type": "code",
   "execution_count": 189,
   "metadata": {
    "collapsed": false
   },
   "outputs": [],
   "source": [
    "trr = pd.DataFrame(columns=[\"s\",\"r\",\"o\"])\n",
    "trr[\"o\"] = tr[\"o\"]\n",
    "trr[\"r\"] = tr[\"r\"]\n",
    "trr[\"s\"] = tr[\"s\"].map(relc(direct_reverse))"
   ]
  },
  {
   "cell_type": "code",
   "execution_count": 190,
   "metadata": {
    "collapsed": false
   },
   "outputs": [],
   "source": [
    "# save trans reverse reverse\n",
    "trrof = open(\"trans_rev_rev.ssd\", \"w\")\n",
    "for _, row in trr.iterrows():\n",
    "    o = row[\"o\"]\n",
    "    r = row[\"r\"]\n",
    "    for se in row[\"s\"]:\n",
    "        trrof.write(\"%d %d %d %f\\n\" % (o, r, se, row[\"s\"][se]))"
   ]
  },
  {
   "cell_type": "markdown",
   "metadata": {
    "collapsed": false
   },
   "source": [
    "## Playing with data"
   ]
  },
  {
   "cell_type": "code",
   "execution_count": 191,
   "metadata": {
    "collapsed": false
   },
   "outputs": [
    {
     "name": "stdout",
     "output_type": "stream",
     "text": [
      "http://dbpedia.org/resource/Captain_America:_The_First_Avenger\n",
      "8329\n",
      "http://dbpedia.org/resource/Avengers:_Age_of_Ultron\n",
      "9105\n",
      "http://dbpedia.org/resource/The_Avengers_(2012_film)\n",
      "10503\n"
     ]
    }
   ],
   "source": [
    "for entdice in entdic:\n",
    "    if \"Avenger\" in entdice:\n",
    "        print entdice\n",
    "        print entdic[entdice]"
   ]
  },
  {
   "cell_type": "code",
   "execution_count": 220,
   "metadata": {
    "collapsed": false
   },
   "outputs": [
    {
     "data": {
      "text/plain": [
       "{3: 0.07142857142857142,\n",
       " 14: 1.0,\n",
       " 15: 0.9285714285714285,\n",
       " 21: 0.07142857142857142,\n",
       " 26: 0.42857142857142855,\n",
       " 27: 0.07142857142857142,\n",
       " 28: 0.21428571428571427,\n",
       " 30: 0.21428571428571427,\n",
       " 31: 0.21428571428571427,\n",
       " 33: 0.07142857142857142,\n",
       " 38: 0.14285714285714285,\n",
       " 54: 0.07142857142857142,\n",
       " 73: 0.9285714285714285,\n",
       " 81: 0.5714285714285714,\n",
       " 117: 0.21428571428571427,\n",
       " 130: 0.42857142857142855,\n",
       " 131: 0.42857142857142855,\n",
       " 141: 0.14285714285714285,\n",
       " 168: 0.07142857142857142,\n",
       " 169: 0.07142857142857142,\n",
       " 181: 0.14285714285714285,\n",
       " 183: 0.07142857142857142,\n",
       " 186: 0.07142857142857142,\n",
       " 187: 0.07142857142857142,\n",
       " 193: 0.14285714285714285,\n",
       " 198: 0.07142857142857142,\n",
       " 204: 0.21428571428571427,\n",
       " 208: 0.07142857142857142,\n",
       " 210: 0.07142857142857142,\n",
       " 216: 0.5714285714285714,\n",
       " 221: 0.07142857142857142,\n",
       " 222: 0.21428571428571427,\n",
       " 234: 0.21428571428571427,\n",
       " 239: 0.07142857142857142,\n",
       " 348: 0.07142857142857142,\n",
       " 400: 0.07142857142857142,\n",
       " 409: 0.07142857142857142,\n",
       " 425: 0.07142857142857142}"
      ]
     },
     "execution_count": 220,
     "metadata": {},
     "output_type": "execute_result"
    }
   ],
   "source": [
    "tfr.ix[tfr.s == 9105].iloc[0,2]"
   ]
  },
  {
   "cell_type": "code",
   "execution_count": 106,
   "metadata": {
    "collapsed": false
   },
   "outputs": [],
   "source": [
    "revtypdic = {v: k for k, v in ntypesdic.items()}"
   ]
  },
  {
   "cell_type": "code",
   "execution_count": 219,
   "metadata": {
    "collapsed": false
   },
   "outputs": [
    {
     "data": {
      "text/plain": [
       "'http://dbpedia.org/ontology/Person'"
      ]
     },
     "execution_count": 219,
     "metadata": {},
     "output_type": "execute_result"
    }
   ],
   "source": [
    "revtypdic[559]"
   ]
  },
  {
   "cell_type": "code",
   "execution_count": 7,
   "metadata": {
    "collapsed": false
   },
   "outputs": [],
   "source": [
    "reventdic = {v: k for k, v in entdic.items()}\n",
    "revreldic = {v: k for k, v in reldic.items()}"
   ]
  },
  {
   "cell_type": "code",
   "execution_count": 197,
   "metadata": {
    "collapsed": false
   },
   "outputs": [
    {
     "data": {
      "text/plain": [
       "'http://dbpedia.org/resource/Larry_Peerce'"
      ]
     },
     "execution_count": 197,
     "metadata": {},
     "output_type": "execute_result"
    }
   ],
   "source": [
    "reventdic[1]"
   ]
  },
  {
   "cell_type": "code",
   "execution_count": 206,
   "metadata": {
    "collapsed": false
   },
   "outputs": [
    {
     "data": {
      "text/plain": [
       "'http://dbpedia.org/property/julRecordLowF'"
      ]
     },
     "execution_count": 206,
     "metadata": {},
     "output_type": "execute_result"
    }
   ],
   "source": [
    "revreldic[500]"
   ]
  },
  {
   "cell_type": "code",
   "execution_count": 227,
   "metadata": {
    "collapsed": false
   },
   "outputs": [
    {
     "data": {
      "text/plain": [
       "'http://dbpedia.org/property/aux'"
      ]
     },
     "execution_count": 227,
     "metadata": {},
     "output_type": "execute_result"
    }
   ],
   "source": [
    "revreldic[81]"
   ]
  },
  {
   "cell_type": "code",
   "execution_count": 208,
   "metadata": {
    "collapsed": false
   },
   "outputs": [
    {
     "data": {
      "text/plain": [
       "{1171,\n",
       " 1341,\n",
       " 1598,\n",
       " 2657,\n",
       " 2844,\n",
       " 3413,\n",
       " 5163,\n",
       " 7502,\n",
       " 9896,\n",
       " 10394,\n",
       " 10437,\n",
       " 10553,\n",
       " 10557,\n",
       " 11246}"
      ]
     },
     "execution_count": 208,
     "metadata": {},
     "output_type": "execute_result"
    }
   ],
   "source": [
    "tf[tf.s==9105].iloc[0,2]"
   ]
  },
  {
   "cell_type": "code",
   "execution_count": 214,
   "metadata": {
    "collapsed": false
   },
   "outputs": [
    {
     "data": {
      "text/plain": [
       "'http://dbpedia.org/resource/Scarlett_Johansson'"
      ]
     },
     "execution_count": 214,
     "metadata": {},
     "output_type": "execute_result"
    }
   ],
   "source": [
    "reventdic[2657]"
   ]
  },
  {
   "cell_type": "code",
   "execution_count": 215,
   "metadata": {
    "collapsed": false
   },
   "outputs": [
    {
     "data": {
      "text/html": [
       "<div>\n",
       "<table border=\"1\" class=\"dataframe\">\n",
       "  <thead>\n",
       "    <tr style=\"text-align: right;\">\n",
       "      <th></th>\n",
       "      <th>e</th>\n",
       "      <th>t</th>\n",
       "    </tr>\n",
       "  </thead>\n",
       "  <tbody>\n",
       "    <tr>\n",
       "      <th>14442</th>\n",
       "      <td>2657</td>\n",
       "      <td>625</td>\n",
       "    </tr>\n",
       "    <tr>\n",
       "      <th>14443</th>\n",
       "      <td>2657</td>\n",
       "      <td>630</td>\n",
       "    </tr>\n",
       "    <tr>\n",
       "      <th>14444</th>\n",
       "      <td>2657</td>\n",
       "      <td>600</td>\n",
       "    </tr>\n",
       "    <tr>\n",
       "      <th>14445</th>\n",
       "      <td>2657</td>\n",
       "      <td>613</td>\n",
       "    </tr>\n",
       "    <tr>\n",
       "      <th>14446</th>\n",
       "      <td>2657</td>\n",
       "      <td>603</td>\n",
       "    </tr>\n",
       "    <tr>\n",
       "      <th>14447</th>\n",
       "      <td>2657</td>\n",
       "      <td>504</td>\n",
       "    </tr>\n",
       "    <tr>\n",
       "      <th>14448</th>\n",
       "      <td>2657</td>\n",
       "      <td>602</td>\n",
       "    </tr>\n",
       "    <tr>\n",
       "      <th>14449</th>\n",
       "      <td>2657</td>\n",
       "      <td>559</td>\n",
       "    </tr>\n",
       "    <tr>\n",
       "      <th>14450</th>\n",
       "      <td>2657</td>\n",
       "      <td>605</td>\n",
       "    </tr>\n",
       "  </tbody>\n",
       "</table>\n",
       "</div>"
      ],
      "text/plain": [
       "          e    t\n",
       "14442  2657  625\n",
       "14443  2657  630\n",
       "14444  2657  600\n",
       "14445  2657  613\n",
       "14446  2657  603\n",
       "14447  2657  504\n",
       "14448  2657  602\n",
       "14449  2657  559\n",
       "14450  2657  605"
      ]
     },
     "execution_count": 215,
     "metadata": {},
     "output_type": "execute_result"
    }
   ],
   "source": [
    "enttypesdf[enttypesdf.e == 2657]"
   ]
  },
  {
   "cell_type": "code",
   "execution_count": 32,
   "metadata": {
    "collapsed": false
   },
   "outputs": [
    {
     "data": {
      "text/plain": [
       "535"
      ]
     },
     "execution_count": 32,
     "metadata": {},
     "output_type": "execute_result"
    }
   ],
   "source": [
    "ntypesdic[\"http://dbpedia.org/ontology/Film\"]"
   ]
  },
  {
   "cell_type": "code",
   "execution_count": 33,
   "metadata": {
    "collapsed": false
   },
   "outputs": [
    {
     "data": {
      "text/plain": [
       "31"
      ]
     },
     "execution_count": 33,
     "metadata": {},
     "output_type": "execute_result"
    }
   ],
   "source": [
    "reldic[\"http://dbpedia.org/ontology/director\"]"
   ]
  },
  {
   "cell_type": "code",
   "execution_count": null,
   "metadata": {
    "collapsed": true
   },
   "outputs": [],
   "source": []
  }
 ],
 "metadata": {
  "kernelspec": {
   "display_name": "Python 2",
   "language": "python",
   "name": "python2"
  },
  "language_info": {
   "codemirror_mode": {
    "name": "ipython",
    "version": 2
   },
   "file_extension": ".py",
   "mimetype": "text/x-python",
   "name": "python",
   "nbconvert_exporter": "python",
   "pygments_lexer": "ipython2",
   "version": "2.7.6"
  }
 },
 "nbformat": 4,
 "nbformat_minor": 0
}
