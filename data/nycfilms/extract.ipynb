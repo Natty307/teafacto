{
 "cells": [
  {
   "cell_type": "code",
   "execution_count": 1,
   "metadata": {
    "collapsed": false
   },
   "outputs": [],
   "source": [
    "import pandas as pd\n",
    "import numpy as np\n",
    "import re, pickle\n",
    "%matplotlib inline"
   ]
  },
  {
   "cell_type": "code",
   "execution_count": 2,
   "metadata": {
    "collapsed": true
   },
   "outputs": [],
   "source": [
    "listf = \"list.txt\"\n",
    "relsf = \"rels.txt\"\n",
    "entdicf = \"../dbpedia/dbpcore.nt.entdic.ssd\"\n",
    "reldicf = \"../dbpedia/dbpcore.nt.reldic.ssd\"\n",
    "reltenf = \"../dbpedia/dbpcore.nt.relten.dok\"\n",
    "relmatf = \"../dbpedia/dbpcore.nt.relmat.dok\""
   ]
  },
  {
   "cell_type": "markdown",
   "metadata": {},
   "source": [
    "### Transform .csv of strings to a list of id's"
   ]
  },
  {
   "cell_type": "code",
   "execution_count": 3,
   "metadata": {
    "collapsed": true
   },
   "outputs": [],
   "source": [
    "seed = pd.read_csv(\"list.txt\")"
   ]
  },
  {
   "cell_type": "code",
   "execution_count": 4,
   "metadata": {
    "collapsed": false
   },
   "outputs": [],
   "source": [
    "def loadDic(entdicf):\n",
    "    entdic = {}\n",
    "    for line in open(entdicf):\n",
    "        splits = line.split(\" \")\n",
    "        entdic[splits[0]] = int(splits[1])\n",
    "    return entdic"
   ]
  },
  {
   "cell_type": "code",
   "execution_count": 5,
   "metadata": {
    "collapsed": false
   },
   "outputs": [],
   "source": [
    "entdic = loadDic(entdicf)\n",
    "reldic = loadDic(reldicf)"
   ]
  },
  {
   "cell_type": "code",
   "execution_count": 6,
   "metadata": {
    "collapsed": false
   },
   "outputs": [],
   "source": [
    "seed = {entdic[x] for x in list(seed[\"s\"].values) if x in entdic}"
   ]
  },
  {
   "cell_type": "code",
   "execution_count": 7,
   "metadata": {
    "collapsed": false
   },
   "outputs": [
    {
     "data": {
      "text/plain": [
       "1542"
      ]
     },
     "execution_count": 7,
     "metadata": {},
     "output_type": "execute_result"
    }
   ],
   "source": [
    "len(seed)"
   ]
  },
  {
   "cell_type": "markdown",
   "metadata": {},
   "source": [
    "### Get the desired relation ids"
   ]
  },
  {
   "cell_type": "code",
   "execution_count": 8,
   "metadata": {
    "collapsed": true
   },
   "outputs": [],
   "source": [
    "rels = set()\n",
    "for line in open(relsf):\n",
    "    rels.add(int(line))"
   ]
  },
  {
   "cell_type": "code",
   "execution_count": 9,
   "metadata": {
    "collapsed": false
   },
   "outputs": [
    {
     "data": {
      "text/plain": [
       "{20, 25, 46, 47, 49, 50, 186, 204, 328, 476}"
      ]
     },
     "execution_count": 9,
     "metadata": {},
     "output_type": "execute_result"
    }
   ],
   "source": [
    "rels"
   ]
  },
  {
   "cell_type": "markdown",
   "metadata": {},
   "source": [
    "### Get properties of the seed, only with the desired relations"
   ]
  },
  {
   "cell_type": "code",
   "execution_count": 10,
   "metadata": {
    "collapsed": false
   },
   "outputs": [
    {
     "name": "stdout",
     "output_type": "stream",
     "text": [
      "10000000\n",
      "20000000\n",
      "30000000\n",
      "40000000\n"
     ]
    }
   ],
   "source": [
    "def getrels(reltenf, seed, rels):\n",
    "    accf = []\n",
    "    acci = []\n",
    "    c = 0\n",
    "    for line in open(reltenf):\n",
    "        c += 1\n",
    "        if c % 10000000 == 0:\n",
    "            print c\n",
    "        ns = tuple([int(x) for x in line.split(\" \")])\n",
    "        if len(ns) == 3 and (ns[0] in seed) and ns[1] in rels:\n",
    "            accf.append(ns)\n",
    "        elif len(ns) == 3 and (ns[2] in seed) and ns[1] in rels:\n",
    "            acci.append(ns)\n",
    "    return accf, acci\n",
    "\n",
    "accf, acci = getrels(reltenf, seed, rels)"
   ]
  },
  {
   "cell_type": "code",
   "execution_count": 11,
   "metadata": {
    "collapsed": false
   },
   "outputs": [
    {
     "data": {
      "text/plain": [
       "[(2384, 46, 8586),\n",
       " (2384, 47, 8586),\n",
       " (2384, 49, 6258),\n",
       " (2384, 49, 690216),\n",
       " (2384, 49, 376850)]"
      ]
     },
     "execution_count": 11,
     "metadata": {},
     "output_type": "execute_result"
    }
   ],
   "source": [
    "accf[:5]"
   ]
  },
  {
   "cell_type": "code",
   "execution_count": 12,
   "metadata": {
    "collapsed": false
   },
   "outputs": [],
   "source": [
    "df = pd.DataFrame(accf)\n",
    "df.columns = [\"s\", \"r\", \"o\"]"
   ]
  },
  {
   "cell_type": "code",
   "execution_count": 13,
   "metadata": {
    "collapsed": false
   },
   "outputs": [
    {
     "data": {
      "text/plain": [
       "6201"
      ]
     },
     "execution_count": 13,
     "metadata": {},
     "output_type": "execute_result"
    }
   ],
   "source": [
    "newentities = set(df[\"o\"].unique())#.union(set(df[\"o\"].unique()))\n",
    "len(newentities)"
   ]
  },
  {
   "cell_type": "markdown",
   "metadata": {},
   "source": [
    "### Get second hop"
   ]
  },
  {
   "cell_type": "code",
   "execution_count": 14,
   "metadata": {
    "collapsed": false
   },
   "outputs": [
    {
     "name": "stdout",
     "output_type": "stream",
     "text": [
      "10000000\n",
      "20000000\n",
      "30000000\n",
      "40000000\n"
     ]
    }
   ],
   "source": [
    "acc2f, acc2i = getrels(reltenf, newentities, rels)"
   ]
  },
  {
   "cell_type": "code",
   "execution_count": 15,
   "metadata": {
    "collapsed": false
   },
   "outputs": [],
   "source": [
    "df2 = pd.DataFrame(acc2f)\n",
    "df2.columns = [\"s\", \"r\", \"o\"]\n",
    "newentities = set(df2[\"o\"].unique())"
   ]
  },
  {
   "cell_type": "markdown",
   "metadata": {},
   "source": [
    "### Get third hop"
   ]
  },
  {
   "cell_type": "code",
   "execution_count": 16,
   "metadata": {
    "collapsed": false
   },
   "outputs": [
    {
     "name": "stdout",
     "output_type": "stream",
     "text": [
      "10000000\n",
      "20000000\n",
      "30000000\n",
      "40000000\n"
     ]
    }
   ],
   "source": [
    "acc3f, acc3i = getrels(reltenf, newentities, rels)"
   ]
  },
  {
   "cell_type": "code",
   "execution_count": 17,
   "metadata": {
    "collapsed": false
   },
   "outputs": [],
   "source": [
    "df3 = pd.DataFrame(acc3f)\n",
    "df3.columns = [\"s\", \"r\", \"o\"]\n",
    "# df3"
   ]
  },
  {
   "cell_type": "markdown",
   "metadata": {},
   "source": [
    "### Merge"
   ]
  },
  {
   "cell_type": "code",
   "execution_count": 18,
   "metadata": {
    "collapsed": false
   },
   "outputs": [],
   "source": [
    "adf = pd.concat([df, df2, df3])\n",
    "adf.reset_index(drop=True, inplace=True)\n",
    "# adf"
   ]
  },
  {
   "cell_type": "code",
   "execution_count": 19,
   "metadata": {
    "collapsed": false
   },
   "outputs": [],
   "source": [
    "allentities = set(adf[\"s\"].unique()).union(set(adf[\"o\"].unique()))"
   ]
  },
  {
   "cell_type": "code",
   "execution_count": 20,
   "metadata": {
    "collapsed": false
   },
   "outputs": [
    {
     "data": {
      "text/plain": [
       "11298"
      ]
     },
     "execution_count": 20,
     "metadata": {},
     "output_type": "execute_result"
    }
   ],
   "source": [
    "len(allentities)"
   ]
  },
  {
   "cell_type": "code",
   "execution_count": 24,
   "metadata": {
    "collapsed": false
   },
   "outputs": [
    {
     "data": {
      "text/html": [
       "<div>\n",
       "<table border=\"1\" class=\"dataframe\">\n",
       "  <thead>\n",
       "    <tr style=\"text-align: right;\">\n",
       "      <th></th>\n",
       "      <th>s</th>\n",
       "      <th>r</th>\n",
       "      <th>o</th>\n",
       "    </tr>\n",
       "  </thead>\n",
       "  <tbody>\n",
       "    <tr>\n",
       "      <th>33080</th>\n",
       "      <td>618</td>\n",
       "      <td>20</td>\n",
       "      <td>8263</td>\n",
       "    </tr>\n",
       "    <tr>\n",
       "      <th>33079</th>\n",
       "      <td>618</td>\n",
       "      <td>20</td>\n",
       "      <td>181011</td>\n",
       "    </tr>\n",
       "    <tr>\n",
       "      <th>29991</th>\n",
       "      <td>618</td>\n",
       "      <td>20</td>\n",
       "      <td>8263</td>\n",
       "    </tr>\n",
       "    <tr>\n",
       "      <th>29990</th>\n",
       "      <td>618</td>\n",
       "      <td>20</td>\n",
       "      <td>181011</td>\n",
       "    </tr>\n",
       "    <tr>\n",
       "      <th>12647</th>\n",
       "      <td>718</td>\n",
       "      <td>20</td>\n",
       "      <td>93103</td>\n",
       "    </tr>\n",
       "    <tr>\n",
       "      <th>12648</th>\n",
       "      <td>718</td>\n",
       "      <td>20</td>\n",
       "      <td>3674401</td>\n",
       "    </tr>\n",
       "    <tr>\n",
       "      <th>23222</th>\n",
       "      <td>718</td>\n",
       "      <td>20</td>\n",
       "      <td>93103</td>\n",
       "    </tr>\n",
       "    <tr>\n",
       "      <th>12649</th>\n",
       "      <td>718</td>\n",
       "      <td>25</td>\n",
       "      <td>88024</td>\n",
       "    </tr>\n",
       "    <tr>\n",
       "      <th>12650</th>\n",
       "      <td>733</td>\n",
       "      <td>20</td>\n",
       "      <td>9622</td>\n",
       "    </tr>\n",
       "    <tr>\n",
       "      <th>12651</th>\n",
       "      <td>733</td>\n",
       "      <td>20</td>\n",
       "      <td>8938</td>\n",
       "    </tr>\n",
       "    <tr>\n",
       "      <th>12652</th>\n",
       "      <td>733</td>\n",
       "      <td>20</td>\n",
       "      <td>586405</td>\n",
       "    </tr>\n",
       "    <tr>\n",
       "      <th>23224</th>\n",
       "      <td>733</td>\n",
       "      <td>20</td>\n",
       "      <td>8938</td>\n",
       "    </tr>\n",
       "    <tr>\n",
       "      <th>23223</th>\n",
       "      <td>733</td>\n",
       "      <td>20</td>\n",
       "      <td>9622</td>\n",
       "    </tr>\n",
       "    <tr>\n",
       "      <th>23225</th>\n",
       "      <td>944</td>\n",
       "      <td>20</td>\n",
       "      <td>12132</td>\n",
       "    </tr>\n",
       "    <tr>\n",
       "      <th>12654</th>\n",
       "      <td>944</td>\n",
       "      <td>20</td>\n",
       "      <td>12132</td>\n",
       "    </tr>\n",
       "    <tr>\n",
       "      <th>23226</th>\n",
       "      <td>944</td>\n",
       "      <td>20</td>\n",
       "      <td>169964</td>\n",
       "    </tr>\n",
       "    <tr>\n",
       "      <th>12655</th>\n",
       "      <td>944</td>\n",
       "      <td>20</td>\n",
       "      <td>169964</td>\n",
       "    </tr>\n",
       "    <tr>\n",
       "      <th>23227</th>\n",
       "      <td>1120</td>\n",
       "      <td>20</td>\n",
       "      <td>1206591</td>\n",
       "    </tr>\n",
       "    <tr>\n",
       "      <th>12656</th>\n",
       "      <td>1120</td>\n",
       "      <td>20</td>\n",
       "      <td>1206591</td>\n",
       "    </tr>\n",
       "    <tr>\n",
       "      <th>12659</th>\n",
       "      <td>1120</td>\n",
       "      <td>25</td>\n",
       "      <td>261760</td>\n",
       "    </tr>\n",
       "    <tr>\n",
       "      <th>12657</th>\n",
       "      <td>1120</td>\n",
       "      <td>20</td>\n",
       "      <td>4082017</td>\n",
       "    </tr>\n",
       "    <tr>\n",
       "      <th>12658</th>\n",
       "      <td>1120</td>\n",
       "      <td>20</td>\n",
       "      <td>4082018</td>\n",
       "    </tr>\n",
       "    <tr>\n",
       "      <th>12660</th>\n",
       "      <td>1122</td>\n",
       "      <td>20</td>\n",
       "      <td>156899</td>\n",
       "    </tr>\n",
       "    <tr>\n",
       "      <th>12662</th>\n",
       "      <td>1122</td>\n",
       "      <td>20</td>\n",
       "      <td>4082024</td>\n",
       "    </tr>\n",
       "    <tr>\n",
       "      <th>12661</th>\n",
       "      <td>1122</td>\n",
       "      <td>20</td>\n",
       "      <td>89478</td>\n",
       "    </tr>\n",
       "    <tr>\n",
       "      <th>23228</th>\n",
       "      <td>1122</td>\n",
       "      <td>20</td>\n",
       "      <td>156899</td>\n",
       "    </tr>\n",
       "    <tr>\n",
       "      <th>23229</th>\n",
       "      <td>1122</td>\n",
       "      <td>20</td>\n",
       "      <td>4082024</td>\n",
       "    </tr>\n",
       "    <tr>\n",
       "      <th>33081</th>\n",
       "      <td>1310</td>\n",
       "      <td>20</td>\n",
       "      <td>20443</td>\n",
       "    </tr>\n",
       "    <tr>\n",
       "      <th>29993</th>\n",
       "      <td>1310</td>\n",
       "      <td>20</td>\n",
       "      <td>1051790</td>\n",
       "    </tr>\n",
       "    <tr>\n",
       "      <th>29992</th>\n",
       "      <td>1310</td>\n",
       "      <td>20</td>\n",
       "      <td>20443</td>\n",
       "    </tr>\n",
       "    <tr>\n",
       "      <th>...</th>\n",
       "      <td>...</td>\n",
       "      <td>...</td>\n",
       "      <td>...</td>\n",
       "    </tr>\n",
       "    <tr>\n",
       "      <th>32522</th>\n",
       "      <td>4499787</td>\n",
       "      <td>20</td>\n",
       "      <td>177191</td>\n",
       "    </tr>\n",
       "    <tr>\n",
       "      <th>22853</th>\n",
       "      <td>4517638</td>\n",
       "      <td>20</td>\n",
       "      <td>67437</td>\n",
       "    </tr>\n",
       "    <tr>\n",
       "      <th>22854</th>\n",
       "      <td>4517638</td>\n",
       "      <td>20</td>\n",
       "      <td>28136</td>\n",
       "    </tr>\n",
       "    <tr>\n",
       "      <th>22855</th>\n",
       "      <td>4517638</td>\n",
       "      <td>20</td>\n",
       "      <td>644943</td>\n",
       "    </tr>\n",
       "    <tr>\n",
       "      <th>22991</th>\n",
       "      <td>4533332</td>\n",
       "      <td>20</td>\n",
       "      <td>4119897</td>\n",
       "    </tr>\n",
       "    <tr>\n",
       "      <th>22992</th>\n",
       "      <td>4533332</td>\n",
       "      <td>20</td>\n",
       "      <td>748085</td>\n",
       "    </tr>\n",
       "    <tr>\n",
       "      <th>21736</th>\n",
       "      <td>4562199</td>\n",
       "      <td>20</td>\n",
       "      <td>20103</td>\n",
       "    </tr>\n",
       "    <tr>\n",
       "      <th>23047</th>\n",
       "      <td>4563658</td>\n",
       "      <td>20</td>\n",
       "      <td>24206</td>\n",
       "    </tr>\n",
       "    <tr>\n",
       "      <th>22302</th>\n",
       "      <td>4568386</td>\n",
       "      <td>20</td>\n",
       "      <td>5884</td>\n",
       "    </tr>\n",
       "    <tr>\n",
       "      <th>22301</th>\n",
       "      <td>4568386</td>\n",
       "      <td>20</td>\n",
       "      <td>11196</td>\n",
       "    </tr>\n",
       "    <tr>\n",
       "      <th>22243</th>\n",
       "      <td>4743342</td>\n",
       "      <td>20</td>\n",
       "      <td>177191</td>\n",
       "    </tr>\n",
       "    <tr>\n",
       "      <th>22536</th>\n",
       "      <td>4793423</td>\n",
       "      <td>20</td>\n",
       "      <td>21208</td>\n",
       "    </tr>\n",
       "    <tr>\n",
       "      <th>22594</th>\n",
       "      <td>4861617</td>\n",
       "      <td>20</td>\n",
       "      <td>143368</td>\n",
       "    </tr>\n",
       "    <tr>\n",
       "      <th>22595</th>\n",
       "      <td>4861617</td>\n",
       "      <td>20</td>\n",
       "      <td>606</td>\n",
       "    </tr>\n",
       "    <tr>\n",
       "      <th>23072</th>\n",
       "      <td>4904981</td>\n",
       "      <td>20</td>\n",
       "      <td>76105</td>\n",
       "    </tr>\n",
       "    <tr>\n",
       "      <th>22968</th>\n",
       "      <td>4924900</td>\n",
       "      <td>20</td>\n",
       "      <td>1750</td>\n",
       "    </tr>\n",
       "    <tr>\n",
       "      <th>22967</th>\n",
       "      <td>4924900</td>\n",
       "      <td>20</td>\n",
       "      <td>4168488</td>\n",
       "    </tr>\n",
       "    <tr>\n",
       "      <th>23193</th>\n",
       "      <td>4929315</td>\n",
       "      <td>20</td>\n",
       "      <td>1951</td>\n",
       "    </tr>\n",
       "    <tr>\n",
       "      <th>22948</th>\n",
       "      <td>4992266</td>\n",
       "      <td>20</td>\n",
       "      <td>8816</td>\n",
       "    </tr>\n",
       "    <tr>\n",
       "      <th>22949</th>\n",
       "      <td>4992266</td>\n",
       "      <td>25</td>\n",
       "      <td>518296</td>\n",
       "    </tr>\n",
       "    <tr>\n",
       "      <th>22972</th>\n",
       "      <td>5048959</td>\n",
       "      <td>20</td>\n",
       "      <td>4224</td>\n",
       "    </tr>\n",
       "    <tr>\n",
       "      <th>22973</th>\n",
       "      <td>5048959</td>\n",
       "      <td>20</td>\n",
       "      <td>1719</td>\n",
       "    </tr>\n",
       "    <tr>\n",
       "      <th>22971</th>\n",
       "      <td>5048959</td>\n",
       "      <td>20</td>\n",
       "      <td>76853</td>\n",
       "    </tr>\n",
       "    <tr>\n",
       "      <th>22909</th>\n",
       "      <td>5074059</td>\n",
       "      <td>20</td>\n",
       "      <td>21811</td>\n",
       "    </tr>\n",
       "    <tr>\n",
       "      <th>22908</th>\n",
       "      <td>5074059</td>\n",
       "      <td>20</td>\n",
       "      <td>21811</td>\n",
       "    </tr>\n",
       "    <tr>\n",
       "      <th>23177</th>\n",
       "      <td>5081577</td>\n",
       "      <td>20</td>\n",
       "      <td>1750</td>\n",
       "    </tr>\n",
       "    <tr>\n",
       "      <th>23176</th>\n",
       "      <td>5081577</td>\n",
       "      <td>20</td>\n",
       "      <td>4131677</td>\n",
       "    </tr>\n",
       "    <tr>\n",
       "      <th>23056</th>\n",
       "      <td>5143545</td>\n",
       "      <td>20</td>\n",
       "      <td>42963</td>\n",
       "    </tr>\n",
       "    <tr>\n",
       "      <th>23057</th>\n",
       "      <td>5143545</td>\n",
       "      <td>20</td>\n",
       "      <td>586405</td>\n",
       "    </tr>\n",
       "    <tr>\n",
       "      <th>23058</th>\n",
       "      <td>5143545</td>\n",
       "      <td>20</td>\n",
       "      <td>7123</td>\n",
       "    </tr>\n",
       "  </tbody>\n",
       "</table>\n",
       "<p>34582 rows × 3 columns</p>\n",
       "</div>"
      ],
      "text/plain": [
       "             s   r        o\n",
       "33080      618  20     8263\n",
       "33079      618  20   181011\n",
       "29991      618  20     8263\n",
       "29990      618  20   181011\n",
       "12647      718  20    93103\n",
       "12648      718  20  3674401\n",
       "23222      718  20    93103\n",
       "12649      718  25    88024\n",
       "12650      733  20     9622\n",
       "12651      733  20     8938\n",
       "12652      733  20   586405\n",
       "23224      733  20     8938\n",
       "23223      733  20     9622\n",
       "23225      944  20    12132\n",
       "12654      944  20    12132\n",
       "23226      944  20   169964\n",
       "12655      944  20   169964\n",
       "23227     1120  20  1206591\n",
       "12656     1120  20  1206591\n",
       "12659     1120  25   261760\n",
       "12657     1120  20  4082017\n",
       "12658     1120  20  4082018\n",
       "12660     1122  20   156899\n",
       "12662     1122  20  4082024\n",
       "12661     1122  20    89478\n",
       "23228     1122  20   156899\n",
       "23229     1122  20  4082024\n",
       "33081     1310  20    20443\n",
       "29993     1310  20  1051790\n",
       "29992     1310  20    20443\n",
       "...        ...  ..      ...\n",
       "32522  4499787  20   177191\n",
       "22853  4517638  20    67437\n",
       "22854  4517638  20    28136\n",
       "22855  4517638  20   644943\n",
       "22991  4533332  20  4119897\n",
       "22992  4533332  20   748085\n",
       "21736  4562199  20    20103\n",
       "23047  4563658  20    24206\n",
       "22302  4568386  20     5884\n",
       "22301  4568386  20    11196\n",
       "22243  4743342  20   177191\n",
       "22536  4793423  20    21208\n",
       "22594  4861617  20   143368\n",
       "22595  4861617  20      606\n",
       "23072  4904981  20    76105\n",
       "22968  4924900  20     1750\n",
       "22967  4924900  20  4168488\n",
       "23193  4929315  20     1951\n",
       "22948  4992266  20     8816\n",
       "22949  4992266  25   518296\n",
       "22972  5048959  20     4224\n",
       "22973  5048959  20     1719\n",
       "22971  5048959  20    76853\n",
       "22909  5074059  20    21811\n",
       "22908  5074059  20    21811\n",
       "23177  5081577  20     1750\n",
       "23176  5081577  20  4131677\n",
       "23056  5143545  20    42963\n",
       "23057  5143545  20   586405\n",
       "23058  5143545  20     7123\n",
       "\n",
       "[34582 rows x 3 columns]"
      ]
     },
     "execution_count": 24,
     "metadata": {},
     "output_type": "execute_result"
    }
   ],
   "source": [
    "adf.groupby(\"s\").count().groupby(\"r\").count()\n",
    "adf.sort_values(by=\"s\")"
   ]
  },
  {
   "cell_type": "markdown",
   "metadata": {},
   "source": [
    "### Get all relations (both forward and reverse) of the subset of all involved entities"
   ]
  },
  {
   "cell_type": "code",
   "execution_count": 25,
   "metadata": {
    "collapsed": false
   },
   "outputs": [
    {
     "name": "stdout",
     "output_type": "stream",
     "text": [
      "0\n",
      "10000000\n",
      "20000000\n",
      "30000000\n",
      "40000000\n",
      "50000000\n",
      "60000000\n",
      "70000000\n"
     ]
    }
   ],
   "source": [
    "allfwdrels = {}\n",
    "c = 0\n",
    "for line in open(relmatf):\n",
    "    if c % 10000000 == 0:\n",
    "        print c\n",
    "    c += 1\n",
    "    s, r = [int(x) for x in line.split(\" \") if \" \" in line and len(line) > 2]\n",
    "    if s == 0 and r== 1400:\n",
    "        print c\n",
    "    if s in allentities:\n",
    "        if s not in allfwdrels:\n",
    "            allfwdrels[s] = set()\n",
    "        allfwdrels[s].add(r)\n",
    "    "
   ]
  },
  {
   "cell_type": "code",
   "execution_count": 26,
   "metadata": {
    "collapsed": false
   },
   "outputs": [],
   "source": [
    "fwdrell = []\n",
    "for x, v in sorted(allfwdrels.items()):\n",
    "    for ve in sorted(v):\n",
    "        fwdrell.append((x,ve))\n",
    "        \n",
    "fwdreldf = pd.DataFrame(fwdrell)\n",
    "fwdreldf.columns = [\"e\", \"r\"]\n",
    "fwdreldf[\"d\"] = \"F\""
   ]
  },
  {
   "cell_type": "code",
   "execution_count": 27,
   "metadata": {
    "collapsed": false
   },
   "outputs": [
    {
     "data": {
      "text/html": [
       "<div>\n",
       "<table border=\"1\" class=\"dataframe\">\n",
       "  <thead>\n",
       "    <tr style=\"text-align: right;\">\n",
       "      <th></th>\n",
       "      <th>e</th>\n",
       "      <th>r</th>\n",
       "    </tr>\n",
       "  </thead>\n",
       "  <tbody>\n",
       "    <tr>\n",
       "      <th>count</th>\n",
       "      <td>422561.000000</td>\n",
       "      <td>422561.000000</td>\n",
       "    </tr>\n",
       "    <tr>\n",
       "      <th>mean</th>\n",
       "      <td>562132.625114</td>\n",
       "      <td>2384.696735</td>\n",
       "    </tr>\n",
       "    <tr>\n",
       "      <th>std</th>\n",
       "      <td>961469.727056</td>\n",
       "      <td>7261.871378</td>\n",
       "    </tr>\n",
       "    <tr>\n",
       "      <th>min</th>\n",
       "      <td>2.000000</td>\n",
       "      <td>0.000000</td>\n",
       "    </tr>\n",
       "    <tr>\n",
       "      <th>25%</th>\n",
       "      <td>35895.000000</td>\n",
       "      <td>95.000000</td>\n",
       "    </tr>\n",
       "    <tr>\n",
       "      <th>50%</th>\n",
       "      <td>110424.000000</td>\n",
       "      <td>1557.000000</td>\n",
       "    </tr>\n",
       "    <tr>\n",
       "      <th>75%</th>\n",
       "      <td>562543.000000</td>\n",
       "      <td>2159.000000</td>\n",
       "    </tr>\n",
       "    <tr>\n",
       "      <th>max</th>\n",
       "      <td>5380124.000000</td>\n",
       "      <td>60135.000000</td>\n",
       "    </tr>\n",
       "  </tbody>\n",
       "</table>\n",
       "</div>"
      ],
      "text/plain": [
       "                    e              r\n",
       "count   422561.000000  422561.000000\n",
       "mean    562132.625114    2384.696735\n",
       "std     961469.727056    7261.871378\n",
       "min          2.000000       0.000000\n",
       "25%      35895.000000      95.000000\n",
       "50%     110424.000000    1557.000000\n",
       "75%     562543.000000    2159.000000\n",
       "max    5380124.000000   60135.000000"
      ]
     },
     "execution_count": 27,
     "metadata": {},
     "output_type": "execute_result"
    }
   ],
   "source": [
    "fwdreldf.describe()"
   ]
  },
  {
   "cell_type": "code",
   "execution_count": 28,
   "metadata": {
    "collapsed": false
   },
   "outputs": [
    {
     "name": "stdout",
     "output_type": "stream",
     "text": [
      "0\n",
      "10000000\n",
      "20000000\n",
      "30000000\n",
      "40000000\n"
     ]
    }
   ],
   "source": [
    "allrevrels = {}\n",
    "c = 0\n",
    "for line in open(reltenf):\n",
    "    if c % 10000000 == 0:\n",
    "        print c\n",
    "    c += 1\n",
    "    s, r, o = [int(x) for x in line.split(\" \") if \" \" in line and len(line) > 4]\n",
    "    if o in allentities:\n",
    "        if o not in allrevrels:\n",
    "            allrevrels[o] = set()\n",
    "        allrevrels[o].add(r)"
   ]
  },
  {
   "cell_type": "code",
   "execution_count": 29,
   "metadata": {
    "collapsed": true
   },
   "outputs": [],
   "source": [
    "revrell = []\n",
    "for x, v in sorted(allrevrels.items()):\n",
    "    for ve in sorted(v):\n",
    "        revrell.append((x,ve))\n",
    "        \n",
    "revreldf = pd.DataFrame(revrell)\n",
    "revreldf.columns = [\"e\", \"r\"]\n",
    "revreldf[\"d\"] = \"R\""
   ]
  },
  {
   "cell_type": "code",
   "execution_count": null,
   "metadata": {
    "collapsed": false
   },
   "outputs": [],
   "source": []
  },
  {
   "cell_type": "code",
   "execution_count": 30,
   "metadata": {
    "collapsed": false
   },
   "outputs": [],
   "source": [
    "allreldf = pd.concat([fwdreldf, revreldf])"
   ]
  },
  {
   "cell_type": "code",
   "execution_count": 31,
   "metadata": {
    "collapsed": false
   },
   "outputs": [
    {
     "data": {
      "text/plain": [
       "array([    0,     8,  1360, ..., 12806,  4806,  5648])"
      ]
     },
     "execution_count": 31,
     "metadata": {},
     "output_type": "execute_result"
    },
    {
     "data": {
      "image/png": "[encoded data removed]",
      "text/plain": [
       "<matplotlib.figure.Figure at 0x7fae3cf4c890>"
      ]
     },
     "metadata": {},
     "output_type": "display_data"
    }
   ],
   "source": [
    "allreldf.groupby(\"r\").count().sort_values(\"e\", ascending=False)[\"e\"].reset_index(drop=True).plot()\n",
    "allreldf.groupby(\"r\").count().sort_values(\"e\", ascending=False).reset_index()[\"r\"].unique()"
   ]
  },
  {
   "cell_type": "markdown",
   "metadata": {},
   "source": [
    "take the top 500"
   ]
  },
  {
   "cell_type": "code",
   "execution_count": 32,
   "metadata": {
    "collapsed": false
   },
   "outputs": [
    {
     "name": "stdout",
     "output_type": "stream",
     "text": [
      "set([])\n"
     ]
    },
    {
     "data": {
      "text/plain": [
       "500"
      ]
     },
     "execution_count": 32,
     "metadata": {},
     "output_type": "execute_result"
    }
   ],
   "source": [
    "freqrels = list(allreldf.groupby(\"r\").count()\n",
    "               .sort_values(\"e\", ascending=False)[\"e\"]\n",
    "               .reset_index()[:500][\"r\"].values)\n",
    "print rels.difference(freqrels)\n",
    "# freqrels = freqrels.union(rels)\n",
    "len(freqrels)"
   ]
  },
  {
   "cell_type": "markdown",
   "metadata": {},
   "source": [
    "### Change dictionaries"
   ]
  },
  {
   "cell_type": "code",
   "execution_count": 33,
   "metadata": {
    "collapsed": false
   },
   "outputs": [],
   "source": [
    "entidxs = range(len(allentities))\n",
    "imentdic = dict(zip(allentities, entidxs))\n",
    "relidxs = range(1,len(freqrels)+1)\n",
    "imreldic = dict(zip(freqrels, relidxs))"
   ]
  },
  {
   "cell_type": "code",
   "execution_count": 34,
   "metadata": {
    "collapsed": false
   },
   "outputs": [
    {
     "name": "stdout",
     "output_type": "stream",
     "text": [
      "False\n",
      "False\n"
     ]
    }
   ],
   "source": [
    "print 417 in allentities\n",
    "print 1400 in freqrels"
   ]
  },
  {
   "cell_type": "code",
   "execution_count": 35,
   "metadata": {
    "collapsed": false
   },
   "outputs": [],
   "source": [
    "# reverse original dictionary\n",
    "inventdic = {v: k for k, v in entdic.items()}\n",
    "invreldic = {v: k for k, v in reldic.items()}"
   ]
  },
  {
   "cell_type": "code",
   "execution_count": 36,
   "metadata": {
    "collapsed": false
   },
   "outputs": [],
   "source": [
    "newentdic = {}\n",
    "for k in imentdic:\n",
    "    newentdic[inventdic[k]] = imentdic[k]\n",
    "newreldic = {}\n",
    "for k in imreldic:\n",
    "    newreldic[invreldic[k]] = imreldic[k]"
   ]
  },
  {
   "cell_type": "code",
   "execution_count": 37,
   "metadata": {
    "collapsed": false
   },
   "outputs": [
    {
     "name": "stdout",
     "output_type": "stream",
     "text": [
      "9440\n",
      "http://dbpedia.org/resource/Gregg_Toland\n",
      "9440\n"
     ]
    }
   ],
   "source": [
    "print newentdic[\"http://dbpedia.org/resource/Gregg_Toland\"]\n",
    "print inventdic[184245]\n",
    "print imentdic[184245]"
   ]
  },
  {
   "cell_type": "markdown",
   "metadata": {},
   "source": [
    "### Transform triples with new dictionaries"
   ]
  },
  {
   "cell_type": "code",
   "execution_count": 38,
   "metadata": {
    "collapsed": false
   },
   "outputs": [],
   "source": [
    "adf[\"s\"] = adf[\"s\"].map(lambda x: imentdic[x])\n",
    "adf[\"r\"] = adf[\"r\"].map(lambda x: imreldic[x])\n",
    "adf[\"o\"] = adf[\"o\"].map(lambda x: imentdic[x])"
   ]
  },
  {
   "cell_type": "code",
   "execution_count": 39,
   "metadata": {
    "collapsed": false
   },
   "outputs": [
    {
     "name": "stdout",
     "output_type": "stream",
     "text": [
      "s    1\n",
      "r    4\n",
      "o    0\n",
      "dtype: int64\n",
      "s    11297\n",
      "r      409\n",
      "o    11297\n",
      "dtype: int64\n",
      "http://dbpedia.org/property/flag\n",
      "http://dbpedia.org/resource/Rockall\n"
     ]
    },
    {
     "data": {
      "text/html": [
       "<div>\n",
       "<table border=\"1\" class=\"dataframe\">\n",
       "  <thead>\n",
       "    <tr style=\"text-align: right;\">\n",
       "      <th></th>\n",
       "      <th>e</th>\n",
       "      <th>r</th>\n",
       "      <th>d</th>\n",
       "    </tr>\n",
       "  </thead>\n",
       "  <tbody>\n",
       "    <tr>\n",
       "      <th>4</th>\n",
       "      <td>2</td>\n",
       "      <td>1400</td>\n",
       "      <td>F</td>\n",
       "    </tr>\n",
       "    <tr>\n",
       "      <th>47</th>\n",
       "      <td>576</td>\n",
       "      <td>1400</td>\n",
       "      <td>F</td>\n",
       "    </tr>\n",
       "    <tr>\n",
       "      <th>294</th>\n",
       "      <td>625</td>\n",
       "      <td>1400</td>\n",
       "      <td>F</td>\n",
       "    </tr>\n",
       "    <tr>\n",
       "      <th>373</th>\n",
       "      <td>677</td>\n",
       "      <td>1400</td>\n",
       "      <td>F</td>\n",
       "    </tr>\n",
       "    <tr>\n",
       "      <th>1481</th>\n",
       "      <td>1163</td>\n",
       "      <td>1400</td>\n",
       "      <td>F</td>\n",
       "    </tr>\n",
       "    <tr>\n",
       "      <th>1842</th>\n",
       "      <td>1606</td>\n",
       "      <td>1400</td>\n",
       "      <td>F</td>\n",
       "    </tr>\n",
       "    <tr>\n",
       "      <th>2519</th>\n",
       "      <td>1718</td>\n",
       "      <td>1400</td>\n",
       "      <td>F</td>\n",
       "    </tr>\n",
       "    <tr>\n",
       "      <th>2937</th>\n",
       "      <td>1751</td>\n",
       "      <td>1400</td>\n",
       "      <td>F</td>\n",
       "    </tr>\n",
       "    <tr>\n",
       "      <th>3828</th>\n",
       "      <td>1843</td>\n",
       "      <td>1400</td>\n",
       "      <td>F</td>\n",
       "    </tr>\n",
       "    <tr>\n",
       "      <th>5561</th>\n",
       "      <td>2398</td>\n",
       "      <td>1400</td>\n",
       "      <td>F</td>\n",
       "    </tr>\n",
       "    <tr>\n",
       "      <th>5725</th>\n",
       "      <td>2417</td>\n",
       "      <td>1400</td>\n",
       "      <td>F</td>\n",
       "    </tr>\n",
       "    <tr>\n",
       "      <th>5954</th>\n",
       "      <td>2426</td>\n",
       "      <td>1400</td>\n",
       "      <td>F</td>\n",
       "    </tr>\n",
       "    <tr>\n",
       "      <th>7558</th>\n",
       "      <td>2753</td>\n",
       "      <td>1400</td>\n",
       "      <td>F</td>\n",
       "    </tr>\n",
       "    <tr>\n",
       "      <th>9242</th>\n",
       "      <td>3427</td>\n",
       "      <td>1400</td>\n",
       "      <td>F</td>\n",
       "    </tr>\n",
       "    <tr>\n",
       "      <th>13725</th>\n",
       "      <td>4845</td>\n",
       "      <td>1400</td>\n",
       "      <td>F</td>\n",
       "    </tr>\n",
       "    <tr>\n",
       "      <th>14073</th>\n",
       "      <td>5041</td>\n",
       "      <td>1400</td>\n",
       "      <td>F</td>\n",
       "    </tr>\n",
       "    <tr>\n",
       "      <th>14177</th>\n",
       "      <td>5109</td>\n",
       "      <td>1400</td>\n",
       "      <td>F</td>\n",
       "    </tr>\n",
       "    <tr>\n",
       "      <th>14578</th>\n",
       "      <td>5176</td>\n",
       "      <td>1400</td>\n",
       "      <td>F</td>\n",
       "    </tr>\n",
       "    <tr>\n",
       "      <th>16251</th>\n",
       "      <td>5617</td>\n",
       "      <td>1400</td>\n",
       "      <td>F</td>\n",
       "    </tr>\n",
       "    <tr>\n",
       "      <th>16629</th>\n",
       "      <td>5695</td>\n",
       "      <td>1400</td>\n",
       "      <td>F</td>\n",
       "    </tr>\n",
       "    <tr>\n",
       "      <th>18448</th>\n",
       "      <td>6567</td>\n",
       "      <td>1400</td>\n",
       "      <td>F</td>\n",
       "    </tr>\n",
       "    <tr>\n",
       "      <th>18922</th>\n",
       "      <td>6639</td>\n",
       "      <td>1400</td>\n",
       "      <td>F</td>\n",
       "    </tr>\n",
       "    <tr>\n",
       "      <th>20409</th>\n",
       "      <td>7112</td>\n",
       "      <td>1400</td>\n",
       "      <td>F</td>\n",
       "    </tr>\n",
       "    <tr>\n",
       "      <th>20940</th>\n",
       "      <td>7123</td>\n",
       "      <td>1400</td>\n",
       "      <td>F</td>\n",
       "    </tr>\n",
       "    <tr>\n",
       "      <th>21423</th>\n",
       "      <td>7349</td>\n",
       "      <td>1400</td>\n",
       "      <td>F</td>\n",
       "    </tr>\n",
       "    <tr>\n",
       "      <th>21519</th>\n",
       "      <td>7350</td>\n",
       "      <td>1400</td>\n",
       "      <td>F</td>\n",
       "    </tr>\n",
       "    <tr>\n",
       "      <th>21605</th>\n",
       "      <td>7368</td>\n",
       "      <td>1400</td>\n",
       "      <td>F</td>\n",
       "    </tr>\n",
       "    <tr>\n",
       "      <th>21682</th>\n",
       "      <td>7483</td>\n",
       "      <td>1400</td>\n",
       "      <td>F</td>\n",
       "    </tr>\n",
       "    <tr>\n",
       "      <th>22932</th>\n",
       "      <td>7660</td>\n",
       "      <td>1400</td>\n",
       "      <td>F</td>\n",
       "    </tr>\n",
       "    <tr>\n",
       "      <th>23026</th>\n",
       "      <td>7661</td>\n",
       "      <td>1400</td>\n",
       "      <td>F</td>\n",
       "    </tr>\n",
       "    <tr>\n",
       "      <th>...</th>\n",
       "      <td>...</td>\n",
       "      <td>...</td>\n",
       "      <td>...</td>\n",
       "    </tr>\n",
       "    <tr>\n",
       "      <th>342990</th>\n",
       "      <td>897837</td>\n",
       "      <td>1400</td>\n",
       "      <td>F</td>\n",
       "    </tr>\n",
       "    <tr>\n",
       "      <th>350135</th>\n",
       "      <td>1030497</td>\n",
       "      <td>1400</td>\n",
       "      <td>F</td>\n",
       "    </tr>\n",
       "    <tr>\n",
       "      <th>351403</th>\n",
       "      <td>1051790</td>\n",
       "      <td>1400</td>\n",
       "      <td>F</td>\n",
       "    </tr>\n",
       "    <tr>\n",
       "      <th>352446</th>\n",
       "      <td>1078196</td>\n",
       "      <td>1400</td>\n",
       "      <td>F</td>\n",
       "    </tr>\n",
       "    <tr>\n",
       "      <th>366197</th>\n",
       "      <td>1461012</td>\n",
       "      <td>1400</td>\n",
       "      <td>F</td>\n",
       "    </tr>\n",
       "    <tr>\n",
       "      <th>374687</th>\n",
       "      <td>1791128</td>\n",
       "      <td>1400</td>\n",
       "      <td>F</td>\n",
       "    </tr>\n",
       "    <tr>\n",
       "      <th>379718</th>\n",
       "      <td>1948644</td>\n",
       "      <td>1400</td>\n",
       "      <td>F</td>\n",
       "    </tr>\n",
       "    <tr>\n",
       "      <th>386703</th>\n",
       "      <td>2204612</td>\n",
       "      <td>1400</td>\n",
       "      <td>F</td>\n",
       "    </tr>\n",
       "    <tr>\n",
       "      <th>386809</th>\n",
       "      <td>2204613</td>\n",
       "      <td>1400</td>\n",
       "      <td>F</td>\n",
       "    </tr>\n",
       "    <tr>\n",
       "      <th>386931</th>\n",
       "      <td>2211442</td>\n",
       "      <td>1400</td>\n",
       "      <td>F</td>\n",
       "    </tr>\n",
       "    <tr>\n",
       "      <th>393339</th>\n",
       "      <td>2487999</td>\n",
       "      <td>1400</td>\n",
       "      <td>F</td>\n",
       "    </tr>\n",
       "    <tr>\n",
       "      <th>395708</th>\n",
       "      <td>2652069</td>\n",
       "      <td>1400</td>\n",
       "      <td>F</td>\n",
       "    </tr>\n",
       "    <tr>\n",
       "      <th>395786</th>\n",
       "      <td>2652127</td>\n",
       "      <td>1400</td>\n",
       "      <td>F</td>\n",
       "    </tr>\n",
       "    <tr>\n",
       "      <th>402086</th>\n",
       "      <td>3053077</td>\n",
       "      <td>1400</td>\n",
       "      <td>F</td>\n",
       "    </tr>\n",
       "    <tr>\n",
       "      <th>408474</th>\n",
       "      <td>3560208</td>\n",
       "      <td>1400</td>\n",
       "      <td>F</td>\n",
       "    </tr>\n",
       "    <tr>\n",
       "      <th>415007</th>\n",
       "      <td>4081596</td>\n",
       "      <td>1400</td>\n",
       "      <td>F</td>\n",
       "    </tr>\n",
       "    <tr>\n",
       "      <th>415378</th>\n",
       "      <td>4081949</td>\n",
       "      <td>1400</td>\n",
       "      <td>F</td>\n",
       "    </tr>\n",
       "    <tr>\n",
       "      <th>415519</th>\n",
       "      <td>4082434</td>\n",
       "      <td>1400</td>\n",
       "      <td>F</td>\n",
       "    </tr>\n",
       "    <tr>\n",
       "      <th>415663</th>\n",
       "      <td>4083015</td>\n",
       "      <td>1400</td>\n",
       "      <td>F</td>\n",
       "    </tr>\n",
       "    <tr>\n",
       "      <th>415887</th>\n",
       "      <td>4083934</td>\n",
       "      <td>1400</td>\n",
       "      <td>F</td>\n",
       "    </tr>\n",
       "    <tr>\n",
       "      <th>416331</th>\n",
       "      <td>4086126</td>\n",
       "      <td>1400</td>\n",
       "      <td>F</td>\n",
       "    </tr>\n",
       "    <tr>\n",
       "      <th>416370</th>\n",
       "      <td>4086873</td>\n",
       "      <td>1400</td>\n",
       "      <td>F</td>\n",
       "    </tr>\n",
       "    <tr>\n",
       "      <th>416815</th>\n",
       "      <td>4089434</td>\n",
       "      <td>1400</td>\n",
       "      <td>F</td>\n",
       "    </tr>\n",
       "    <tr>\n",
       "      <th>417626</th>\n",
       "      <td>4096985</td>\n",
       "      <td>1400</td>\n",
       "      <td>F</td>\n",
       "    </tr>\n",
       "    <tr>\n",
       "      <th>417943</th>\n",
       "      <td>4098726</td>\n",
       "      <td>1400</td>\n",
       "      <td>F</td>\n",
       "    </tr>\n",
       "    <tr>\n",
       "      <th>418154</th>\n",
       "      <td>4101111</td>\n",
       "      <td>1400</td>\n",
       "      <td>F</td>\n",
       "    </tr>\n",
       "    <tr>\n",
       "      <th>418251</th>\n",
       "      <td>4101599</td>\n",
       "      <td>1400</td>\n",
       "      <td>F</td>\n",
       "    </tr>\n",
       "    <tr>\n",
       "      <th>418301</th>\n",
       "      <td>4101771</td>\n",
       "      <td>1400</td>\n",
       "      <td>F</td>\n",
       "    </tr>\n",
       "    <tr>\n",
       "      <th>420701</th>\n",
       "      <td>4182413</td>\n",
       "      <td>1400</td>\n",
       "      <td>F</td>\n",
       "    </tr>\n",
       "    <tr>\n",
       "      <th>421620</th>\n",
       "      <td>4234601</td>\n",
       "      <td>1400</td>\n",
       "      <td>F</td>\n",
       "    </tr>\n",
       "  </tbody>\n",
       "</table>\n",
       "<p>143 rows × 3 columns</p>\n",
       "</div>"
      ],
      "text/plain": [
       "              e     r  d\n",
       "4             2  1400  F\n",
       "47          576  1400  F\n",
       "294         625  1400  F\n",
       "373         677  1400  F\n",
       "1481       1163  1400  F\n",
       "1842       1606  1400  F\n",
       "2519       1718  1400  F\n",
       "2937       1751  1400  F\n",
       "3828       1843  1400  F\n",
       "5561       2398  1400  F\n",
       "5725       2417  1400  F\n",
       "5954       2426  1400  F\n",
       "7558       2753  1400  F\n",
       "9242       3427  1400  F\n",
       "13725      4845  1400  F\n",
       "14073      5041  1400  F\n",
       "14177      5109  1400  F\n",
       "14578      5176  1400  F\n",
       "16251      5617  1400  F\n",
       "16629      5695  1400  F\n",
       "18448      6567  1400  F\n",
       "18922      6639  1400  F\n",
       "20409      7112  1400  F\n",
       "20940      7123  1400  F\n",
       "21423      7349  1400  F\n",
       "21519      7350  1400  F\n",
       "21605      7368  1400  F\n",
       "21682      7483  1400  F\n",
       "22932      7660  1400  F\n",
       "23026      7661  1400  F\n",
       "...         ...   ... ..\n",
       "342990   897837  1400  F\n",
       "350135  1030497  1400  F\n",
       "351403  1051790  1400  F\n",
       "352446  1078196  1400  F\n",
       "366197  1461012  1400  F\n",
       "374687  1791128  1400  F\n",
       "379718  1948644  1400  F\n",
       "386703  2204612  1400  F\n",
       "386809  2204613  1400  F\n",
       "386931  2211442  1400  F\n",
       "393339  2487999  1400  F\n",
       "395708  2652069  1400  F\n",
       "395786  2652127  1400  F\n",
       "402086  3053077  1400  F\n",
       "408474  3560208  1400  F\n",
       "415007  4081596  1400  F\n",
       "415378  4081949  1400  F\n",
       "415519  4082434  1400  F\n",
       "415663  4083015  1400  F\n",
       "415887  4083934  1400  F\n",
       "416331  4086126  1400  F\n",
       "416370  4086873  1400  F\n",
       "416815  4089434  1400  F\n",
       "417626  4096985  1400  F\n",
       "417943  4098726  1400  F\n",
       "418154  4101111  1400  F\n",
       "418251  4101599  1400  F\n",
       "418301  4101771  1400  F\n",
       "420701  4182413  1400  F\n",
       "421620  4234601  1400  F\n",
       "\n",
       "[143 rows x 3 columns]"
      ]
     },
     "execution_count": 39,
     "metadata": {},
     "output_type": "execute_result"
    }
   ],
   "source": [
    "print adf.min()\n",
    "print adf.max()\n",
    "print invreldic[1400]\n",
    "print inventdic[0]\n",
    "allreldf[allreldf.r == 1400]"
   ]
  },
  {
   "cell_type": "code",
   "execution_count": 40,
   "metadata": {
    "collapsed": false
   },
   "outputs": [],
   "source": [
    "sreldf = allreldf[(allreldf.r.isin(freqrels))].reset_index(drop=True)"
   ]
  },
  {
   "cell_type": "code",
   "execution_count": 41,
   "metadata": {
    "collapsed": false
   },
   "outputs": [
    {
     "data": {
      "text/plain": [
       "False"
      ]
     },
     "execution_count": 41,
     "metadata": {},
     "output_type": "execute_result"
    }
   ],
   "source": [
    "sreldf[sreldf.e == 0]\n",
    "0 in imentdic"
   ]
  },
  {
   "cell_type": "code",
   "execution_count": 42,
   "metadata": {
    "collapsed": false
   },
   "outputs": [],
   "source": [
    "sreldf[\"e\"] = sreldf[\"e\"].map(lambda x: imentdic[x])\n",
    "sreldf[\"r\"] = sreldf[\"r\"].map(lambda x: imreldic[x])"
   ]
  },
  {
   "cell_type": "markdown",
   "metadata": {},
   "source": [
    "### Save triples and new dictionaries"
   ]
  },
  {
   "cell_type": "code",
   "execution_count": 44,
   "metadata": {
    "collapsed": false
   },
   "outputs": [],
   "source": [
    "pickle.dump(adf, open(\"triples3hops.pd.pkl\",\"w\"))\n",
    "pickle.dump(sreldf, open(\"allrel3hops.pd.pkl\", \"w\"))\n",
    "pickle.dump(newentdic, open(\"entdic3hops.pkl\",\"w\"))\n",
    "pickle.dump(newreldic, open(\"reldic3hops.pkl\",\"w\"))"
   ]
  },
  {
   "cell_type": "code",
   "execution_count": null,
   "metadata": {
    "collapsed": true
   },
   "outputs": [],
   "source": []
  },
  {
   "cell_type": "code",
   "execution_count": null,
   "metadata": {
    "collapsed": true
   },
   "outputs": [],
   "source": []
  },
  {
   "cell_type": "code",
   "execution_count": null,
   "metadata": {
    "collapsed": true
   },
   "outputs": [],
   "source": []
  }
 ],
 "metadata": {
  "kernelspec": {
   "display_name": "Python 2",
   "language": "python",
   "name": "python2"
  },
  "language_info": {
   "codemirror_mode": {
    "name": "ipython",
    "version": 2
   },
   "file_extension": ".py",
   "mimetype": "text/x-python",
   "name": "python",
   "nbconvert_exporter": "python",
   "pygments_lexer": "ipython2",
   "version": "2.7.6"
  }
 },
 "nbformat": 4,
 "nbformat_minor": 0
}
